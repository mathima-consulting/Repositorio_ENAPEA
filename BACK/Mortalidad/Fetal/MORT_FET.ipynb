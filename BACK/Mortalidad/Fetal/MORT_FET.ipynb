{
 "cells": [
  {
   "cell_type": "code",
   "execution_count": 1,
   "metadata": {},
   "outputs": [],
   "source": [
    "import pandas as pd\n",
    "import plotly.express as px\n",
    "import plotly.graph_objects as go\n",
    "import dash\n",
    "from dash import dcc, html, Input, Output"
   ]
  },
  {
   "cell_type": "code",
   "execution_count": 2,
   "metadata": {},
   "outputs": [],
   "source": [
    "MORT_FET= pd.read_csv('C://Users//sdvc0//OneDrive//Escritorio//REPOSITORIO_ENAPEA//BACK//Mortalidad//Fetal//MORT_FET.csv')\n"
   ]
  },
  {
   "cell_type": "code",
   "execution_count": 3,
   "metadata": {},
   "outputs": [
    {
     "data": {
      "application/vnd.plotly.v1+json": {
       "config": {
        "plotlyServerURL": "https://plot.ly"
       },
       "data": [
        {
         "alignmentgroup": "True",
         "hovertemplate": "Entidad de residencia=%{x}<br>Cantidad=%{text}<extra></extra>",
         "legendgroup": "",
         "marker": {
          "color": "orange",
          "pattern": {
           "shape": ""
          }
         },
         "name": "",
         "offsetgroup": "",
         "orientation": "v",
         "showlegend": false,
         "text": [
          5267,
          1680,
          1408,
          1303,
          1066,
          996,
          935,
          657,
          621,
          505
         ],
         "textposition": "outside",
         "type": "bar",
         "x": [
          "México",
          "Puebla",
          "Jalisco",
          "Veracruz de Ignacio de la Llave",
          "Chiapas",
          "Nuevo León",
          "Guanajuato",
          "Michoacán de Ocampo",
          "Ciudad de México",
          "Chihuahua"
         ],
         "xaxis": "x",
         "y": [
          5267,
          1680,
          1408,
          1303,
          1066,
          996,
          935,
          657,
          621,
          505
         ],
         "yaxis": "y"
        }
       ],
       "layout": {
        "autosize": true,
        "barmode": "relative",
        "legend": {
         "tracegroupgap": 0
        },
        "margin": {
         "b": 0,
         "l": 0,
         "r": 0,
         "t": 0
        },
        "template": {
         "data": {
          "bar": [
           {
            "error_x": {
             "color": "#2a3f5f"
            },
            "error_y": {
             "color": "#2a3f5f"
            },
            "marker": {
             "line": {
              "color": "#E5ECF6",
              "width": 0.5
             },
             "pattern": {
              "fillmode": "overlay",
              "size": 10,
              "solidity": 0.2
             }
            },
            "type": "bar"
           }
          ],
          "barpolar": [
           {
            "marker": {
             "line": {
              "color": "#E5ECF6",
              "width": 0.5
             },
             "pattern": {
              "fillmode": "overlay",
              "size": 10,
              "solidity": 0.2
             }
            },
            "type": "barpolar"
           }
          ],
          "carpet": [
           {
            "aaxis": {
             "endlinecolor": "#2a3f5f",
             "gridcolor": "white",
             "linecolor": "white",
             "minorgridcolor": "white",
             "startlinecolor": "#2a3f5f"
            },
            "baxis": {
             "endlinecolor": "#2a3f5f",
             "gridcolor": "white",
             "linecolor": "white",
             "minorgridcolor": "white",
             "startlinecolor": "#2a3f5f"
            },
            "type": "carpet"
           }
          ],
          "choropleth": [
           {
            "colorbar": {
             "outlinewidth": 0,
             "ticks": ""
            },
            "type": "choropleth"
           }
          ],
          "contour": [
           {
            "colorbar": {
             "outlinewidth": 0,
             "ticks": ""
            },
            "colorscale": [
             [
              0,
              "#0d0887"
             ],
             [
              0.1111111111111111,
              "#46039f"
             ],
             [
              0.2222222222222222,
              "#7201a8"
             ],
             [
              0.3333333333333333,
              "#9c179e"
             ],
             [
              0.4444444444444444,
              "#bd3786"
             ],
             [
              0.5555555555555556,
              "#d8576b"
             ],
             [
              0.6666666666666666,
              "#ed7953"
             ],
             [
              0.7777777777777778,
              "#fb9f3a"
             ],
             [
              0.8888888888888888,
              "#fdca26"
             ],
             [
              1,
              "#f0f921"
             ]
            ],
            "type": "contour"
           }
          ],
          "contourcarpet": [
           {
            "colorbar": {
             "outlinewidth": 0,
             "ticks": ""
            },
            "type": "contourcarpet"
           }
          ],
          "heatmap": [
           {
            "colorbar": {
             "outlinewidth": 0,
             "ticks": ""
            },
            "colorscale": [
             [
              0,
              "#0d0887"
             ],
             [
              0.1111111111111111,
              "#46039f"
             ],
             [
              0.2222222222222222,
              "#7201a8"
             ],
             [
              0.3333333333333333,
              "#9c179e"
             ],
             [
              0.4444444444444444,
              "#bd3786"
             ],
             [
              0.5555555555555556,
              "#d8576b"
             ],
             [
              0.6666666666666666,
              "#ed7953"
             ],
             [
              0.7777777777777778,
              "#fb9f3a"
             ],
             [
              0.8888888888888888,
              "#fdca26"
             ],
             [
              1,
              "#f0f921"
             ]
            ],
            "type": "heatmap"
           }
          ],
          "heatmapgl": [
           {
            "colorbar": {
             "outlinewidth": 0,
             "ticks": ""
            },
            "colorscale": [
             [
              0,
              "#0d0887"
             ],
             [
              0.1111111111111111,
              "#46039f"
             ],
             [
              0.2222222222222222,
              "#7201a8"
             ],
             [
              0.3333333333333333,
              "#9c179e"
             ],
             [
              0.4444444444444444,
              "#bd3786"
             ],
             [
              0.5555555555555556,
              "#d8576b"
             ],
             [
              0.6666666666666666,
              "#ed7953"
             ],
             [
              0.7777777777777778,
              "#fb9f3a"
             ],
             [
              0.8888888888888888,
              "#fdca26"
             ],
             [
              1,
              "#f0f921"
             ]
            ],
            "type": "heatmapgl"
           }
          ],
          "histogram": [
           {
            "marker": {
             "pattern": {
              "fillmode": "overlay",
              "size": 10,
              "solidity": 0.2
             }
            },
            "type": "histogram"
           }
          ],
          "histogram2d": [
           {
            "colorbar": {
             "outlinewidth": 0,
             "ticks": ""
            },
            "colorscale": [
             [
              0,
              "#0d0887"
             ],
             [
              0.1111111111111111,
              "#46039f"
             ],
             [
              0.2222222222222222,
              "#7201a8"
             ],
             [
              0.3333333333333333,
              "#9c179e"
             ],
             [
              0.4444444444444444,
              "#bd3786"
             ],
             [
              0.5555555555555556,
              "#d8576b"
             ],
             [
              0.6666666666666666,
              "#ed7953"
             ],
             [
              0.7777777777777778,
              "#fb9f3a"
             ],
             [
              0.8888888888888888,
              "#fdca26"
             ],
             [
              1,
              "#f0f921"
             ]
            ],
            "type": "histogram2d"
           }
          ],
          "histogram2dcontour": [
           {
            "colorbar": {
             "outlinewidth": 0,
             "ticks": ""
            },
            "colorscale": [
             [
              0,
              "#0d0887"
             ],
             [
              0.1111111111111111,
              "#46039f"
             ],
             [
              0.2222222222222222,
              "#7201a8"
             ],
             [
              0.3333333333333333,
              "#9c179e"
             ],
             [
              0.4444444444444444,
              "#bd3786"
             ],
             [
              0.5555555555555556,
              "#d8576b"
             ],
             [
              0.6666666666666666,
              "#ed7953"
             ],
             [
              0.7777777777777778,
              "#fb9f3a"
             ],
             [
              0.8888888888888888,
              "#fdca26"
             ],
             [
              1,
              "#f0f921"
             ]
            ],
            "type": "histogram2dcontour"
           }
          ],
          "mesh3d": [
           {
            "colorbar": {
             "outlinewidth": 0,
             "ticks": ""
            },
            "type": "mesh3d"
           }
          ],
          "parcoords": [
           {
            "line": {
             "colorbar": {
              "outlinewidth": 0,
              "ticks": ""
             }
            },
            "type": "parcoords"
           }
          ],
          "pie": [
           {
            "automargin": true,
            "type": "pie"
           }
          ],
          "scatter": [
           {
            "fillpattern": {
             "fillmode": "overlay",
             "size": 10,
             "solidity": 0.2
            },
            "type": "scatter"
           }
          ],
          "scatter3d": [
           {
            "line": {
             "colorbar": {
              "outlinewidth": 0,
              "ticks": ""
             }
            },
            "marker": {
             "colorbar": {
              "outlinewidth": 0,
              "ticks": ""
             }
            },
            "type": "scatter3d"
           }
          ],
          "scattercarpet": [
           {
            "marker": {
             "colorbar": {
              "outlinewidth": 0,
              "ticks": ""
             }
            },
            "type": "scattercarpet"
           }
          ],
          "scattergeo": [
           {
            "marker": {
             "colorbar": {
              "outlinewidth": 0,
              "ticks": ""
             }
            },
            "type": "scattergeo"
           }
          ],
          "scattergl": [
           {
            "marker": {
             "colorbar": {
              "outlinewidth": 0,
              "ticks": ""
             }
            },
            "type": "scattergl"
           }
          ],
          "scattermapbox": [
           {
            "marker": {
             "colorbar": {
              "outlinewidth": 0,
              "ticks": ""
             }
            },
            "type": "scattermapbox"
           }
          ],
          "scatterpolar": [
           {
            "marker": {
             "colorbar": {
              "outlinewidth": 0,
              "ticks": ""
             }
            },
            "type": "scatterpolar"
           }
          ],
          "scatterpolargl": [
           {
            "marker": {
             "colorbar": {
              "outlinewidth": 0,
              "ticks": ""
             }
            },
            "type": "scatterpolargl"
           }
          ],
          "scatterternary": [
           {
            "marker": {
             "colorbar": {
              "outlinewidth": 0,
              "ticks": ""
             }
            },
            "type": "scatterternary"
           }
          ],
          "surface": [
           {
            "colorbar": {
             "outlinewidth": 0,
             "ticks": ""
            },
            "colorscale": [
             [
              0,
              "#0d0887"
             ],
             [
              0.1111111111111111,
              "#46039f"
             ],
             [
              0.2222222222222222,
              "#7201a8"
             ],
             [
              0.3333333333333333,
              "#9c179e"
             ],
             [
              0.4444444444444444,
              "#bd3786"
             ],
             [
              0.5555555555555556,
              "#d8576b"
             ],
             [
              0.6666666666666666,
              "#ed7953"
             ],
             [
              0.7777777777777778,
              "#fb9f3a"
             ],
             [
              0.8888888888888888,
              "#fdca26"
             ],
             [
              1,
              "#f0f921"
             ]
            ],
            "type": "surface"
           }
          ],
          "table": [
           {
            "cells": {
             "fill": {
              "color": "#EBF0F8"
             },
             "line": {
              "color": "white"
             }
            },
            "header": {
             "fill": {
              "color": "#C8D4E3"
             },
             "line": {
              "color": "white"
             }
            },
            "type": "table"
           }
          ]
         },
         "layout": {
          "annotationdefaults": {
           "arrowcolor": "#2a3f5f",
           "arrowhead": 0,
           "arrowwidth": 1
          },
          "autotypenumbers": "strict",
          "coloraxis": {
           "colorbar": {
            "outlinewidth": 0,
            "ticks": ""
           }
          },
          "colorscale": {
           "diverging": [
            [
             0,
             "#8e0152"
            ],
            [
             0.1,
             "#c51b7d"
            ],
            [
             0.2,
             "#de77ae"
            ],
            [
             0.3,
             "#f1b6da"
            ],
            [
             0.4,
             "#fde0ef"
            ],
            [
             0.5,
             "#f7f7f7"
            ],
            [
             0.6,
             "#e6f5d0"
            ],
            [
             0.7,
             "#b8e186"
            ],
            [
             0.8,
             "#7fbc41"
            ],
            [
             0.9,
             "#4d9221"
            ],
            [
             1,
             "#276419"
            ]
           ],
           "sequential": [
            [
             0,
             "#0d0887"
            ],
            [
             0.1111111111111111,
             "#46039f"
            ],
            [
             0.2222222222222222,
             "#7201a8"
            ],
            [
             0.3333333333333333,
             "#9c179e"
            ],
            [
             0.4444444444444444,
             "#bd3786"
            ],
            [
             0.5555555555555556,
             "#d8576b"
            ],
            [
             0.6666666666666666,
             "#ed7953"
            ],
            [
             0.7777777777777778,
             "#fb9f3a"
            ],
            [
             0.8888888888888888,
             "#fdca26"
            ],
            [
             1,
             "#f0f921"
            ]
           ],
           "sequentialminus": [
            [
             0,
             "#0d0887"
            ],
            [
             0.1111111111111111,
             "#46039f"
            ],
            [
             0.2222222222222222,
             "#7201a8"
            ],
            [
             0.3333333333333333,
             "#9c179e"
            ],
            [
             0.4444444444444444,
             "#bd3786"
            ],
            [
             0.5555555555555556,
             "#d8576b"
            ],
            [
             0.6666666666666666,
             "#ed7953"
            ],
            [
             0.7777777777777778,
             "#fb9f3a"
            ],
            [
             0.8888888888888888,
             "#fdca26"
            ],
            [
             1,
             "#f0f921"
            ]
           ]
          },
          "colorway": [
           "#636efa",
           "#EF553B",
           "#00cc96",
           "#ab63fa",
           "#FFA15A",
           "#19d3f3",
           "#FF6692",
           "#B6E880",
           "#FF97FF",
           "#FECB52"
          ],
          "font": {
           "color": "#2a3f5f"
          },
          "geo": {
           "bgcolor": "white",
           "lakecolor": "white",
           "landcolor": "#E5ECF6",
           "showlakes": true,
           "showland": true,
           "subunitcolor": "white"
          },
          "hoverlabel": {
           "align": "left"
          },
          "hovermode": "closest",
          "mapbox": {
           "style": "light"
          },
          "paper_bgcolor": "white",
          "plot_bgcolor": "#E5ECF6",
          "polar": {
           "angularaxis": {
            "gridcolor": "white",
            "linecolor": "white",
            "ticks": ""
           },
           "bgcolor": "#E5ECF6",
           "radialaxis": {
            "gridcolor": "white",
            "linecolor": "white",
            "ticks": ""
           }
          },
          "scene": {
           "xaxis": {
            "backgroundcolor": "#E5ECF6",
            "gridcolor": "white",
            "gridwidth": 2,
            "linecolor": "white",
            "showbackground": true,
            "ticks": "",
            "zerolinecolor": "white"
           },
           "yaxis": {
            "backgroundcolor": "#E5ECF6",
            "gridcolor": "white",
            "gridwidth": 2,
            "linecolor": "white",
            "showbackground": true,
            "ticks": "",
            "zerolinecolor": "white"
           },
           "zaxis": {
            "backgroundcolor": "#E5ECF6",
            "gridcolor": "white",
            "gridwidth": 2,
            "linecolor": "white",
            "showbackground": true,
            "ticks": "",
            "zerolinecolor": "white"
           }
          },
          "shapedefaults": {
           "line": {
            "color": "#2a3f5f"
           }
          },
          "ternary": {
           "aaxis": {
            "gridcolor": "white",
            "linecolor": "white",
            "ticks": ""
           },
           "baxis": {
            "gridcolor": "white",
            "linecolor": "white",
            "ticks": ""
           },
           "bgcolor": "#E5ECF6",
           "caxis": {
            "gridcolor": "white",
            "linecolor": "white",
            "ticks": ""
           }
          },
          "title": {
           "x": 0.05
          },
          "xaxis": {
           "automargin": true,
           "gridcolor": "white",
           "linecolor": "white",
           "ticks": "",
           "title": {
            "standoff": 15
           },
           "zerolinecolor": "white",
           "zerolinewidth": 2
          },
          "yaxis": {
           "automargin": true,
           "gridcolor": "white",
           "linecolor": "white",
           "ticks": "",
           "title": {
            "standoff": 15
           },
           "zerolinecolor": "white",
           "zerolinewidth": 2
          }
         }
        },
        "title": {},
        "xaxis": {
         "anchor": "y",
         "domain": [
          0,
          1
         ],
         "title": {
          "text": "Entidad de residencia"
         }
        },
        "yaxis": {
         "anchor": "x",
         "domain": [
          0,
          1
         ],
         "title": {
          "text": "Cantidad"
         }
        }
       }
      }
     },
     "metadata": {},
     "output_type": "display_data"
    }
   ],
   "source": [
    "# Calcular el conteo de ocurrencias por ent_resid\n",
    "top10_entidades = MORT_FET['ent_resid'].value_counts().head(10)\n",
    "\n",
    "# Guardar el resultado en un archivo CSV\n",
    "top10_entidades.to_csv('C://Users//sdvc0//OneDrive//Escritorio//REPOSITORIO_ENAPEA//BACK//Mortalidad//Fetal//Gráficas//MORT_FET_1.csv', index=False)\n",
    "\n",
    "# Convertir el resultado a un DataFrame para Plotly Express\n",
    "top10_entidades_df = top10_entidades.reset_index()\n",
    "top10_entidades_df.columns = ['Entidad de residencia', 'Cantidad de ocurrencias']\n",
    "\n",
    "# Crear gráfica de barras con Plotly Express\n",
    "fig = px.bar(top10_entidades_df, x='Entidad de residencia', y='Cantidad de ocurrencias',\n",
    "             labels={'Cantidad de ocurrencias': 'Cantidad'},\n",
    "             text='Cantidad de ocurrencias',\n",
    "             color_discrete_sequence=['orange'])\n",
    "fig.update_traces(textposition='outside')\n",
    "# Configurar diseño de la gráfica\n",
    "fig.update_layout(\n",
    "    margin=dict(l=0, r=0, t=0, b=0),\n",
    "    autosize=True,\n",
    "    title=None, \n",
    ")\n",
    "\n",
    "# Guardar la gráfica en un archivo HTML\n",
    "fig.write_html('C://Users//sdvc0//OneDrive//Escritorio//REPOSITORIO_ENAPEA//BACK//Mortalidad//Fetal//Gráficas//MORT_FET_1.html')\n",
    "\n",
    "fig.show()"
   ]
  },
  {
   "cell_type": "code",
   "execution_count": 4,
   "metadata": {},
   "outputs": [
    {
     "data": {
      "application/vnd.plotly.v1+json": {
       "config": {
        "plotlyServerURL": "https://plot.ly"
       },
       "data": [
        {
         "alignmentgroup": "True",
         "hovertemplate": "Año de ocurrencia=%{x}<br>Cantidad=%{text}<extra></extra>",
         "legendgroup": "",
         "marker": {
          "color": "orange",
          "pattern": {
           "shape": ""
          }
         },
         "name": "",
         "offsetgroup": "",
         "orientation": "v",
         "showlegend": false,
         "text": [
          2385,
          2273,
          2367,
          2111,
          2443,
          2221,
          2328,
          2259
         ],
         "textposition": "outside",
         "type": "bar",
         "x": [
          2015,
          2016,
          2017,
          2018,
          2019,
          2020,
          2021,
          2022
         ],
         "xaxis": "x",
         "y": [
          2385,
          2273,
          2367,
          2111,
          2443,
          2221,
          2328,
          2259
         ],
         "yaxis": "y"
        }
       ],
       "layout": {
        "autosize": true,
        "barmode": "relative",
        "legend": {
         "tracegroupgap": 0
        },
        "margin": {
         "b": 0,
         "l": 0,
         "r": 0,
         "t": 0
        },
        "template": {
         "data": {
          "bar": [
           {
            "error_x": {
             "color": "#2a3f5f"
            },
            "error_y": {
             "color": "#2a3f5f"
            },
            "marker": {
             "line": {
              "color": "#E5ECF6",
              "width": 0.5
             },
             "pattern": {
              "fillmode": "overlay",
              "size": 10,
              "solidity": 0.2
             }
            },
            "type": "bar"
           }
          ],
          "barpolar": [
           {
            "marker": {
             "line": {
              "color": "#E5ECF6",
              "width": 0.5
             },
             "pattern": {
              "fillmode": "overlay",
              "size": 10,
              "solidity": 0.2
             }
            },
            "type": "barpolar"
           }
          ],
          "carpet": [
           {
            "aaxis": {
             "endlinecolor": "#2a3f5f",
             "gridcolor": "white",
             "linecolor": "white",
             "minorgridcolor": "white",
             "startlinecolor": "#2a3f5f"
            },
            "baxis": {
             "endlinecolor": "#2a3f5f",
             "gridcolor": "white",
             "linecolor": "white",
             "minorgridcolor": "white",
             "startlinecolor": "#2a3f5f"
            },
            "type": "carpet"
           }
          ],
          "choropleth": [
           {
            "colorbar": {
             "outlinewidth": 0,
             "ticks": ""
            },
            "type": "choropleth"
           }
          ],
          "contour": [
           {
            "colorbar": {
             "outlinewidth": 0,
             "ticks": ""
            },
            "colorscale": [
             [
              0,
              "#0d0887"
             ],
             [
              0.1111111111111111,
              "#46039f"
             ],
             [
              0.2222222222222222,
              "#7201a8"
             ],
             [
              0.3333333333333333,
              "#9c179e"
             ],
             [
              0.4444444444444444,
              "#bd3786"
             ],
             [
              0.5555555555555556,
              "#d8576b"
             ],
             [
              0.6666666666666666,
              "#ed7953"
             ],
             [
              0.7777777777777778,
              "#fb9f3a"
             ],
             [
              0.8888888888888888,
              "#fdca26"
             ],
             [
              1,
              "#f0f921"
             ]
            ],
            "type": "contour"
           }
          ],
          "contourcarpet": [
           {
            "colorbar": {
             "outlinewidth": 0,
             "ticks": ""
            },
            "type": "contourcarpet"
           }
          ],
          "heatmap": [
           {
            "colorbar": {
             "outlinewidth": 0,
             "ticks": ""
            },
            "colorscale": [
             [
              0,
              "#0d0887"
             ],
             [
              0.1111111111111111,
              "#46039f"
             ],
             [
              0.2222222222222222,
              "#7201a8"
             ],
             [
              0.3333333333333333,
              "#9c179e"
             ],
             [
              0.4444444444444444,
              "#bd3786"
             ],
             [
              0.5555555555555556,
              "#d8576b"
             ],
             [
              0.6666666666666666,
              "#ed7953"
             ],
             [
              0.7777777777777778,
              "#fb9f3a"
             ],
             [
              0.8888888888888888,
              "#fdca26"
             ],
             [
              1,
              "#f0f921"
             ]
            ],
            "type": "heatmap"
           }
          ],
          "heatmapgl": [
           {
            "colorbar": {
             "outlinewidth": 0,
             "ticks": ""
            },
            "colorscale": [
             [
              0,
              "#0d0887"
             ],
             [
              0.1111111111111111,
              "#46039f"
             ],
             [
              0.2222222222222222,
              "#7201a8"
             ],
             [
              0.3333333333333333,
              "#9c179e"
             ],
             [
              0.4444444444444444,
              "#bd3786"
             ],
             [
              0.5555555555555556,
              "#d8576b"
             ],
             [
              0.6666666666666666,
              "#ed7953"
             ],
             [
              0.7777777777777778,
              "#fb9f3a"
             ],
             [
              0.8888888888888888,
              "#fdca26"
             ],
             [
              1,
              "#f0f921"
             ]
            ],
            "type": "heatmapgl"
           }
          ],
          "histogram": [
           {
            "marker": {
             "pattern": {
              "fillmode": "overlay",
              "size": 10,
              "solidity": 0.2
             }
            },
            "type": "histogram"
           }
          ],
          "histogram2d": [
           {
            "colorbar": {
             "outlinewidth": 0,
             "ticks": ""
            },
            "colorscale": [
             [
              0,
              "#0d0887"
             ],
             [
              0.1111111111111111,
              "#46039f"
             ],
             [
              0.2222222222222222,
              "#7201a8"
             ],
             [
              0.3333333333333333,
              "#9c179e"
             ],
             [
              0.4444444444444444,
              "#bd3786"
             ],
             [
              0.5555555555555556,
              "#d8576b"
             ],
             [
              0.6666666666666666,
              "#ed7953"
             ],
             [
              0.7777777777777778,
              "#fb9f3a"
             ],
             [
              0.8888888888888888,
              "#fdca26"
             ],
             [
              1,
              "#f0f921"
             ]
            ],
            "type": "histogram2d"
           }
          ],
          "histogram2dcontour": [
           {
            "colorbar": {
             "outlinewidth": 0,
             "ticks": ""
            },
            "colorscale": [
             [
              0,
              "#0d0887"
             ],
             [
              0.1111111111111111,
              "#46039f"
             ],
             [
              0.2222222222222222,
              "#7201a8"
             ],
             [
              0.3333333333333333,
              "#9c179e"
             ],
             [
              0.4444444444444444,
              "#bd3786"
             ],
             [
              0.5555555555555556,
              "#d8576b"
             ],
             [
              0.6666666666666666,
              "#ed7953"
             ],
             [
              0.7777777777777778,
              "#fb9f3a"
             ],
             [
              0.8888888888888888,
              "#fdca26"
             ],
             [
              1,
              "#f0f921"
             ]
            ],
            "type": "histogram2dcontour"
           }
          ],
          "mesh3d": [
           {
            "colorbar": {
             "outlinewidth": 0,
             "ticks": ""
            },
            "type": "mesh3d"
           }
          ],
          "parcoords": [
           {
            "line": {
             "colorbar": {
              "outlinewidth": 0,
              "ticks": ""
             }
            },
            "type": "parcoords"
           }
          ],
          "pie": [
           {
            "automargin": true,
            "type": "pie"
           }
          ],
          "scatter": [
           {
            "fillpattern": {
             "fillmode": "overlay",
             "size": 10,
             "solidity": 0.2
            },
            "type": "scatter"
           }
          ],
          "scatter3d": [
           {
            "line": {
             "colorbar": {
              "outlinewidth": 0,
              "ticks": ""
             }
            },
            "marker": {
             "colorbar": {
              "outlinewidth": 0,
              "ticks": ""
             }
            },
            "type": "scatter3d"
           }
          ],
          "scattercarpet": [
           {
            "marker": {
             "colorbar": {
              "outlinewidth": 0,
              "ticks": ""
             }
            },
            "type": "scattercarpet"
           }
          ],
          "scattergeo": [
           {
            "marker": {
             "colorbar": {
              "outlinewidth": 0,
              "ticks": ""
             }
            },
            "type": "scattergeo"
           }
          ],
          "scattergl": [
           {
            "marker": {
             "colorbar": {
              "outlinewidth": 0,
              "ticks": ""
             }
            },
            "type": "scattergl"
           }
          ],
          "scattermapbox": [
           {
            "marker": {
             "colorbar": {
              "outlinewidth": 0,
              "ticks": ""
             }
            },
            "type": "scattermapbox"
           }
          ],
          "scatterpolar": [
           {
            "marker": {
             "colorbar": {
              "outlinewidth": 0,
              "ticks": ""
             }
            },
            "type": "scatterpolar"
           }
          ],
          "scatterpolargl": [
           {
            "marker": {
             "colorbar": {
              "outlinewidth": 0,
              "ticks": ""
             }
            },
            "type": "scatterpolargl"
           }
          ],
          "scatterternary": [
           {
            "marker": {
             "colorbar": {
              "outlinewidth": 0,
              "ticks": ""
             }
            },
            "type": "scatterternary"
           }
          ],
          "surface": [
           {
            "colorbar": {
             "outlinewidth": 0,
             "ticks": ""
            },
            "colorscale": [
             [
              0,
              "#0d0887"
             ],
             [
              0.1111111111111111,
              "#46039f"
             ],
             [
              0.2222222222222222,
              "#7201a8"
             ],
             [
              0.3333333333333333,
              "#9c179e"
             ],
             [
              0.4444444444444444,
              "#bd3786"
             ],
             [
              0.5555555555555556,
              "#d8576b"
             ],
             [
              0.6666666666666666,
              "#ed7953"
             ],
             [
              0.7777777777777778,
              "#fb9f3a"
             ],
             [
              0.8888888888888888,
              "#fdca26"
             ],
             [
              1,
              "#f0f921"
             ]
            ],
            "type": "surface"
           }
          ],
          "table": [
           {
            "cells": {
             "fill": {
              "color": "#EBF0F8"
             },
             "line": {
              "color": "white"
             }
            },
            "header": {
             "fill": {
              "color": "#C8D4E3"
             },
             "line": {
              "color": "white"
             }
            },
            "type": "table"
           }
          ]
         },
         "layout": {
          "annotationdefaults": {
           "arrowcolor": "#2a3f5f",
           "arrowhead": 0,
           "arrowwidth": 1
          },
          "autotypenumbers": "strict",
          "coloraxis": {
           "colorbar": {
            "outlinewidth": 0,
            "ticks": ""
           }
          },
          "colorscale": {
           "diverging": [
            [
             0,
             "#8e0152"
            ],
            [
             0.1,
             "#c51b7d"
            ],
            [
             0.2,
             "#de77ae"
            ],
            [
             0.3,
             "#f1b6da"
            ],
            [
             0.4,
             "#fde0ef"
            ],
            [
             0.5,
             "#f7f7f7"
            ],
            [
             0.6,
             "#e6f5d0"
            ],
            [
             0.7,
             "#b8e186"
            ],
            [
             0.8,
             "#7fbc41"
            ],
            [
             0.9,
             "#4d9221"
            ],
            [
             1,
             "#276419"
            ]
           ],
           "sequential": [
            [
             0,
             "#0d0887"
            ],
            [
             0.1111111111111111,
             "#46039f"
            ],
            [
             0.2222222222222222,
             "#7201a8"
            ],
            [
             0.3333333333333333,
             "#9c179e"
            ],
            [
             0.4444444444444444,
             "#bd3786"
            ],
            [
             0.5555555555555556,
             "#d8576b"
            ],
            [
             0.6666666666666666,
             "#ed7953"
            ],
            [
             0.7777777777777778,
             "#fb9f3a"
            ],
            [
             0.8888888888888888,
             "#fdca26"
            ],
            [
             1,
             "#f0f921"
            ]
           ],
           "sequentialminus": [
            [
             0,
             "#0d0887"
            ],
            [
             0.1111111111111111,
             "#46039f"
            ],
            [
             0.2222222222222222,
             "#7201a8"
            ],
            [
             0.3333333333333333,
             "#9c179e"
            ],
            [
             0.4444444444444444,
             "#bd3786"
            ],
            [
             0.5555555555555556,
             "#d8576b"
            ],
            [
             0.6666666666666666,
             "#ed7953"
            ],
            [
             0.7777777777777778,
             "#fb9f3a"
            ],
            [
             0.8888888888888888,
             "#fdca26"
            ],
            [
             1,
             "#f0f921"
            ]
           ]
          },
          "colorway": [
           "#636efa",
           "#EF553B",
           "#00cc96",
           "#ab63fa",
           "#FFA15A",
           "#19d3f3",
           "#FF6692",
           "#B6E880",
           "#FF97FF",
           "#FECB52"
          ],
          "font": {
           "color": "#2a3f5f"
          },
          "geo": {
           "bgcolor": "white",
           "lakecolor": "white",
           "landcolor": "#E5ECF6",
           "showlakes": true,
           "showland": true,
           "subunitcolor": "white"
          },
          "hoverlabel": {
           "align": "left"
          },
          "hovermode": "closest",
          "mapbox": {
           "style": "light"
          },
          "paper_bgcolor": "white",
          "plot_bgcolor": "#E5ECF6",
          "polar": {
           "angularaxis": {
            "gridcolor": "white",
            "linecolor": "white",
            "ticks": ""
           },
           "bgcolor": "#E5ECF6",
           "radialaxis": {
            "gridcolor": "white",
            "linecolor": "white",
            "ticks": ""
           }
          },
          "scene": {
           "xaxis": {
            "backgroundcolor": "#E5ECF6",
            "gridcolor": "white",
            "gridwidth": 2,
            "linecolor": "white",
            "showbackground": true,
            "ticks": "",
            "zerolinecolor": "white"
           },
           "yaxis": {
            "backgroundcolor": "#E5ECF6",
            "gridcolor": "white",
            "gridwidth": 2,
            "linecolor": "white",
            "showbackground": true,
            "ticks": "",
            "zerolinecolor": "white"
           },
           "zaxis": {
            "backgroundcolor": "#E5ECF6",
            "gridcolor": "white",
            "gridwidth": 2,
            "linecolor": "white",
            "showbackground": true,
            "ticks": "",
            "zerolinecolor": "white"
           }
          },
          "shapedefaults": {
           "line": {
            "color": "#2a3f5f"
           }
          },
          "ternary": {
           "aaxis": {
            "gridcolor": "white",
            "linecolor": "white",
            "ticks": ""
           },
           "baxis": {
            "gridcolor": "white",
            "linecolor": "white",
            "ticks": ""
           },
           "bgcolor": "#E5ECF6",
           "caxis": {
            "gridcolor": "white",
            "linecolor": "white",
            "ticks": ""
           }
          },
          "title": {
           "x": 0.05
          },
          "xaxis": {
           "automargin": true,
           "gridcolor": "white",
           "linecolor": "white",
           "ticks": "",
           "title": {
            "standoff": 15
           },
           "zerolinecolor": "white",
           "zerolinewidth": 2
          },
          "yaxis": {
           "automargin": true,
           "gridcolor": "white",
           "linecolor": "white",
           "ticks": "",
           "title": {
            "standoff": 15
           },
           "zerolinecolor": "white",
           "zerolinewidth": 2
          }
         }
        },
        "title": {},
        "xaxis": {
         "anchor": "y",
         "domain": [
          0,
          1
         ],
         "title": {
          "text": "Año de ocurrencia"
         }
        },
        "yaxis": {
         "anchor": "x",
         "domain": [
          0,
          1
         ],
         "title": {
          "text": "Cantidad"
         }
        }
       }
      }
     },
     "metadata": {},
     "output_type": "display_data"
    }
   ],
   "source": [
    "# Calcular el conteo de ocurrencias por anio_ocur\n",
    "ocurrencias_por_anio = MORT_FET['anio_ocur'].value_counts().sort_index().reset_index()\n",
    "ocurrencias_por_anio.columns = ['Año de ocurrencia', 'Cantidad de ocurrencias']\n",
    "ocurrencias_por_anio.to_csv('C://Users//sdvc0//OneDrive//Escritorio//REPOSITORIO_ENAPEA//BACK//Mortalidad//Fetal//Gráficas//MORT_FET_2.csv', index=False)\n",
    "\n",
    "# Crear gráfica de barras con Plotly Express\n",
    "fig = px.bar(ocurrencias_por_anio, x='Año de ocurrencia', y='Cantidad de ocurrencias',\n",
    "             labels={'Cantidad de ocurrencias': 'Cantidad'},\n",
    "             text='Cantidad de ocurrencias',\n",
    "             color_discrete_sequence=['orange'])\n",
    "fig.update_traces(textposition='outside')\n",
    "# Configurar diseño de la gráfica\n",
    "fig.update_layout(\n",
    "    margin=dict(l=0, r=0, t=0, b=0),\n",
    "    autosize=True,\n",
    "    title=None\n",
    ")\n",
    "\n",
    "# Guardar la gráfica en un archivo HTML\n",
    "fig.write_html('C://Users//sdvc0//OneDrive//Escritorio//REPOSITORIO_ENAPEA//BACK//Mortalidad//Fetal//Gráficas//MORT_FET_2.html')\n",
    "\n",
    "fig.show()\n"
   ]
  },
  {
   "cell_type": "code",
   "execution_count": 5,
   "metadata": {},
   "outputs": [
    {
     "data": {
      "application/vnd.plotly.v1+json": {
       "config": {
        "plotlyServerURL": "https://plot.ly"
       },
       "data": [
        {
         "customdata": [
          [
           11
          ],
          [
           11
          ],
          [
           11
          ]
         ],
         "hovertemplate": "eda_madr=%{customdata[0]}<br>Año de ocurrencia=%{x}<br>Cantidad=%{text:.0f}<extra></extra>",
         "legendgroup": "11",
         "line": {
          "color": "rgb(247,251,255)",
          "dash": "solid"
         },
         "marker": {
          "symbol": "circle"
         },
         "mode": "lines+markers+text",
         "name": "11",
         "orientation": "v",
         "showlegend": true,
         "text": [
          2,
          2,
          1
         ],
         "textposition": "top center",
         "type": "scatter",
         "x": [
          2015,
          2020,
          2022
         ],
         "xaxis": "x",
         "y": [
          2,
          2,
          1
         ],
         "yaxis": "y"
        },
        {
         "customdata": [
          [
           12
          ],
          [
           12
          ],
          [
           12
          ],
          [
           12
          ],
          [
           12
          ],
          [
           12
          ],
          [
           12
          ]
         ],
         "hovertemplate": "eda_madr=%{customdata[0]}<br>Año de ocurrencia=%{x}<br>Cantidad=%{text:.0f}<extra></extra>",
         "legendgroup": "12",
         "line": {
          "color": "rgb(222,235,247)",
          "dash": "solid"
         },
         "marker": {
          "symbol": "circle"
         },
         "mode": "lines+markers+text",
         "name": "12",
         "orientation": "v",
         "showlegend": true,
         "text": [
          1,
          2,
          3,
          6,
          3,
          6,
          3
         ],
         "textposition": "top center",
         "type": "scatter",
         "x": [
          2015,
          2016,
          2017,
          2019,
          2020,
          2021,
          2022
         ],
         "xaxis": "x",
         "y": [
          1,
          2,
          3,
          6,
          3,
          6,
          3
         ],
         "yaxis": "y"
        },
        {
         "customdata": [
          [
           13
          ],
          [
           13
          ],
          [
           13
          ],
          [
           13
          ],
          [
           13
          ],
          [
           13
          ],
          [
           13
          ],
          [
           13
          ]
         ],
         "hovertemplate": "eda_madr=%{customdata[0]}<br>Año de ocurrencia=%{x}<br>Cantidad=%{text:.0f}<extra></extra>",
         "legendgroup": "13",
         "line": {
          "color": "rgb(198,219,239)",
          "dash": "solid"
         },
         "marker": {
          "symbol": "circle"
         },
         "mode": "lines+markers+text",
         "name": "13",
         "orientation": "v",
         "showlegend": true,
         "text": [
          13,
          14,
          25,
          16,
          23,
          16,
          26,
          20
         ],
         "textposition": "top center",
         "type": "scatter",
         "x": [
          2015,
          2016,
          2017,
          2018,
          2019,
          2020,
          2021,
          2022
         ],
         "xaxis": "x",
         "y": [
          13,
          14,
          25,
          16,
          23,
          16,
          26,
          20
         ],
         "yaxis": "y"
        },
        {
         "customdata": [
          [
           14
          ],
          [
           14
          ],
          [
           14
          ],
          [
           14
          ],
          [
           14
          ],
          [
           14
          ],
          [
           14
          ],
          [
           14
          ]
         ],
         "hovertemplate": "eda_madr=%{customdata[0]}<br>Año de ocurrencia=%{x}<br>Cantidad=%{text:.0f}<extra></extra>",
         "legendgroup": "14",
         "line": {
          "color": "rgb(158,202,225)",
          "dash": "solid"
         },
         "marker": {
          "symbol": "circle"
         },
         "mode": "lines+markers+text",
         "name": "14",
         "orientation": "v",
         "showlegend": true,
         "text": [
          76,
          70,
          69,
          56,
          74,
          68,
          79,
          108
         ],
         "textposition": "top center",
         "type": "scatter",
         "x": [
          2015,
          2016,
          2017,
          2018,
          2019,
          2020,
          2021,
          2022
         ],
         "xaxis": "x",
         "y": [
          76,
          70,
          69,
          56,
          74,
          68,
          79,
          108
         ],
         "yaxis": "y"
        },
        {
         "customdata": [
          [
           15
          ],
          [
           15
          ],
          [
           15
          ],
          [
           15
          ],
          [
           15
          ],
          [
           15
          ],
          [
           15
          ],
          [
           15
          ]
         ],
         "hovertemplate": "eda_madr=%{customdata[0]}<br>Año de ocurrencia=%{x}<br>Cantidad=%{text:.0f}<extra></extra>",
         "legendgroup": "15",
         "line": {
          "color": "rgb(107,174,214)",
          "dash": "solid"
         },
         "marker": {
          "symbol": "circle"
         },
         "mode": "lines+markers+text",
         "name": "15",
         "orientation": "v",
         "showlegend": true,
         "text": [
          201,
          183,
          218,
          171,
          202,
          175,
          177,
          196
         ],
         "textposition": "top center",
         "type": "scatter",
         "x": [
          2015,
          2016,
          2017,
          2018,
          2019,
          2020,
          2021,
          2022
         ],
         "xaxis": "x",
         "y": [
          201,
          183,
          218,
          171,
          202,
          175,
          177,
          196
         ],
         "yaxis": "y"
        },
        {
         "customdata": [
          [
           16
          ],
          [
           16
          ],
          [
           16
          ],
          [
           16
          ],
          [
           16
          ],
          [
           16
          ],
          [
           16
          ],
          [
           16
          ]
         ],
         "hovertemplate": "eda_madr=%{customdata[0]}<br>Año de ocurrencia=%{x}<br>Cantidad=%{text:.0f}<extra></extra>",
         "legendgroup": "16",
         "line": {
          "color": "rgb(66,146,198)",
          "dash": "solid"
         },
         "marker": {
          "symbol": "circle"
         },
         "mode": "lines+markers+text",
         "name": "16",
         "orientation": "v",
         "showlegend": true,
         "text": [
          355,
          342,
          353,
          279,
          360,
          312,
          315,
          305
         ],
         "textposition": "top center",
         "type": "scatter",
         "x": [
          2015,
          2016,
          2017,
          2018,
          2019,
          2020,
          2021,
          2022
         ],
         "xaxis": "x",
         "y": [
          355,
          342,
          353,
          279,
          360,
          312,
          315,
          305
         ],
         "yaxis": "y"
        },
        {
         "customdata": [
          [
           17
          ],
          [
           17
          ],
          [
           17
          ],
          [
           17
          ],
          [
           17
          ],
          [
           17
          ],
          [
           17
          ],
          [
           17
          ]
         ],
         "hovertemplate": "eda_madr=%{customdata[0]}<br>Año de ocurrencia=%{x}<br>Cantidad=%{text:.0f}<extra></extra>",
         "legendgroup": "17",
         "line": {
          "color": "rgb(33,113,181)",
          "dash": "solid"
         },
         "marker": {
          "symbol": "circle"
         },
         "mode": "lines+markers+text",
         "name": "17",
         "orientation": "v",
         "showlegend": true,
         "text": [
          479,
          477,
          466,
          461,
          475,
          444,
          498,
          427
         ],
         "textposition": "top center",
         "type": "scatter",
         "x": [
          2015,
          2016,
          2017,
          2018,
          2019,
          2020,
          2021,
          2022
         ],
         "xaxis": "x",
         "y": [
          479,
          477,
          466,
          461,
          475,
          444,
          498,
          427
         ],
         "yaxis": "y"
        },
        {
         "customdata": [
          [
           18
          ],
          [
           18
          ],
          [
           18
          ],
          [
           18
          ],
          [
           18
          ],
          [
           18
          ],
          [
           18
          ],
          [
           18
          ]
         ],
         "hovertemplate": "eda_madr=%{customdata[0]}<br>Año de ocurrencia=%{x}<br>Cantidad=%{text:.0f}<extra></extra>",
         "legendgroup": "18",
         "line": {
          "color": "rgb(8,81,156)",
          "dash": "solid"
         },
         "marker": {
          "symbol": "circle"
         },
         "mode": "lines+markers+text",
         "name": "18",
         "orientation": "v",
         "showlegend": true,
         "text": [
          545,
          553,
          572,
          537,
          596,
          562,
          581,
          550
         ],
         "textposition": "top center",
         "type": "scatter",
         "x": [
          2015,
          2016,
          2017,
          2018,
          2019,
          2020,
          2021,
          2022
         ],
         "xaxis": "x",
         "y": [
          545,
          553,
          572,
          537,
          596,
          562,
          581,
          550
         ],
         "yaxis": "y"
        },
        {
         "customdata": [
          [
           19
          ],
          [
           19
          ],
          [
           19
          ],
          [
           19
          ],
          [
           19
          ],
          [
           19
          ],
          [
           19
          ],
          [
           19
          ]
         ],
         "hovertemplate": "eda_madr=%{customdata[0]}<br>Año de ocurrencia=%{x}<br>Cantidad=%{text:.0f}<extra></extra>",
         "legendgroup": "19",
         "line": {
          "color": "rgb(8,48,107)",
          "dash": "solid"
         },
         "marker": {
          "symbol": "circle"
         },
         "mode": "lines+markers+text",
         "name": "19",
         "orientation": "v",
         "showlegend": true,
         "text": [
          713,
          632,
          660,
          591,
          707,
          639,
          646,
          649
         ],
         "textposition": "top center",
         "type": "scatter",
         "x": [
          2015,
          2016,
          2017,
          2018,
          2019,
          2020,
          2021,
          2022
         ],
         "xaxis": "x",
         "y": [
          713,
          632,
          660,
          591,
          707,
          639,
          646,
          649
         ],
         "yaxis": "y"
        },
        {
         "customdata": [
          [
           10
          ]
         ],
         "hovertemplate": "eda_madr=%{customdata[0]}<br>Año de ocurrencia=%{x}<br>Cantidad=%{text:.0f}<extra></extra>",
         "legendgroup": "10",
         "line": {
          "color": "rgb(247,251,255)",
          "dash": "solid"
         },
         "marker": {
          "symbol": "circle"
         },
         "mode": "lines+markers+text",
         "name": "10",
         "orientation": "v",
         "showlegend": true,
         "text": [
          1
         ],
         "textposition": "top center",
         "type": "scatter",
         "x": [
          2017
         ],
         "xaxis": "x",
         "y": [
          1
         ],
         "yaxis": "y"
        }
       ],
       "layout": {
        "autosize": true,
        "legend": {
         "orientation": "v",
         "title": {
          "text": "Edad de la madre"
         },
         "tracegroupgap": 0,
         "x": 5,
         "xanchor": "right",
         "y": 1,
         "yanchor": "top"
        },
        "margin": {
         "b": 0,
         "l": 0,
         "r": 80,
         "t": 0
        },
        "template": {
         "data": {
          "bar": [
           {
            "error_x": {
             "color": "#2a3f5f"
            },
            "error_y": {
             "color": "#2a3f5f"
            },
            "marker": {
             "line": {
              "color": "#E5ECF6",
              "width": 0.5
             },
             "pattern": {
              "fillmode": "overlay",
              "size": 10,
              "solidity": 0.2
             }
            },
            "type": "bar"
           }
          ],
          "barpolar": [
           {
            "marker": {
             "line": {
              "color": "#E5ECF6",
              "width": 0.5
             },
             "pattern": {
              "fillmode": "overlay",
              "size": 10,
              "solidity": 0.2
             }
            },
            "type": "barpolar"
           }
          ],
          "carpet": [
           {
            "aaxis": {
             "endlinecolor": "#2a3f5f",
             "gridcolor": "white",
             "linecolor": "white",
             "minorgridcolor": "white",
             "startlinecolor": "#2a3f5f"
            },
            "baxis": {
             "endlinecolor": "#2a3f5f",
             "gridcolor": "white",
             "linecolor": "white",
             "minorgridcolor": "white",
             "startlinecolor": "#2a3f5f"
            },
            "type": "carpet"
           }
          ],
          "choropleth": [
           {
            "colorbar": {
             "outlinewidth": 0,
             "ticks": ""
            },
            "type": "choropleth"
           }
          ],
          "contour": [
           {
            "colorbar": {
             "outlinewidth": 0,
             "ticks": ""
            },
            "colorscale": [
             [
              0,
              "#0d0887"
             ],
             [
              0.1111111111111111,
              "#46039f"
             ],
             [
              0.2222222222222222,
              "#7201a8"
             ],
             [
              0.3333333333333333,
              "#9c179e"
             ],
             [
              0.4444444444444444,
              "#bd3786"
             ],
             [
              0.5555555555555556,
              "#d8576b"
             ],
             [
              0.6666666666666666,
              "#ed7953"
             ],
             [
              0.7777777777777778,
              "#fb9f3a"
             ],
             [
              0.8888888888888888,
              "#fdca26"
             ],
             [
              1,
              "#f0f921"
             ]
            ],
            "type": "contour"
           }
          ],
          "contourcarpet": [
           {
            "colorbar": {
             "outlinewidth": 0,
             "ticks": ""
            },
            "type": "contourcarpet"
           }
          ],
          "heatmap": [
           {
            "colorbar": {
             "outlinewidth": 0,
             "ticks": ""
            },
            "colorscale": [
             [
              0,
              "#0d0887"
             ],
             [
              0.1111111111111111,
              "#46039f"
             ],
             [
              0.2222222222222222,
              "#7201a8"
             ],
             [
              0.3333333333333333,
              "#9c179e"
             ],
             [
              0.4444444444444444,
              "#bd3786"
             ],
             [
              0.5555555555555556,
              "#d8576b"
             ],
             [
              0.6666666666666666,
              "#ed7953"
             ],
             [
              0.7777777777777778,
              "#fb9f3a"
             ],
             [
              0.8888888888888888,
              "#fdca26"
             ],
             [
              1,
              "#f0f921"
             ]
            ],
            "type": "heatmap"
           }
          ],
          "heatmapgl": [
           {
            "colorbar": {
             "outlinewidth": 0,
             "ticks": ""
            },
            "colorscale": [
             [
              0,
              "#0d0887"
             ],
             [
              0.1111111111111111,
              "#46039f"
             ],
             [
              0.2222222222222222,
              "#7201a8"
             ],
             [
              0.3333333333333333,
              "#9c179e"
             ],
             [
              0.4444444444444444,
              "#bd3786"
             ],
             [
              0.5555555555555556,
              "#d8576b"
             ],
             [
              0.6666666666666666,
              "#ed7953"
             ],
             [
              0.7777777777777778,
              "#fb9f3a"
             ],
             [
              0.8888888888888888,
              "#fdca26"
             ],
             [
              1,
              "#f0f921"
             ]
            ],
            "type": "heatmapgl"
           }
          ],
          "histogram": [
           {
            "marker": {
             "pattern": {
              "fillmode": "overlay",
              "size": 10,
              "solidity": 0.2
             }
            },
            "type": "histogram"
           }
          ],
          "histogram2d": [
           {
            "colorbar": {
             "outlinewidth": 0,
             "ticks": ""
            },
            "colorscale": [
             [
              0,
              "#0d0887"
             ],
             [
              0.1111111111111111,
              "#46039f"
             ],
             [
              0.2222222222222222,
              "#7201a8"
             ],
             [
              0.3333333333333333,
              "#9c179e"
             ],
             [
              0.4444444444444444,
              "#bd3786"
             ],
             [
              0.5555555555555556,
              "#d8576b"
             ],
             [
              0.6666666666666666,
              "#ed7953"
             ],
             [
              0.7777777777777778,
              "#fb9f3a"
             ],
             [
              0.8888888888888888,
              "#fdca26"
             ],
             [
              1,
              "#f0f921"
             ]
            ],
            "type": "histogram2d"
           }
          ],
          "histogram2dcontour": [
           {
            "colorbar": {
             "outlinewidth": 0,
             "ticks": ""
            },
            "colorscale": [
             [
              0,
              "#0d0887"
             ],
             [
              0.1111111111111111,
              "#46039f"
             ],
             [
              0.2222222222222222,
              "#7201a8"
             ],
             [
              0.3333333333333333,
              "#9c179e"
             ],
             [
              0.4444444444444444,
              "#bd3786"
             ],
             [
              0.5555555555555556,
              "#d8576b"
             ],
             [
              0.6666666666666666,
              "#ed7953"
             ],
             [
              0.7777777777777778,
              "#fb9f3a"
             ],
             [
              0.8888888888888888,
              "#fdca26"
             ],
             [
              1,
              "#f0f921"
             ]
            ],
            "type": "histogram2dcontour"
           }
          ],
          "mesh3d": [
           {
            "colorbar": {
             "outlinewidth": 0,
             "ticks": ""
            },
            "type": "mesh3d"
           }
          ],
          "parcoords": [
           {
            "line": {
             "colorbar": {
              "outlinewidth": 0,
              "ticks": ""
             }
            },
            "type": "parcoords"
           }
          ],
          "pie": [
           {
            "automargin": true,
            "type": "pie"
           }
          ],
          "scatter": [
           {
            "fillpattern": {
             "fillmode": "overlay",
             "size": 10,
             "solidity": 0.2
            },
            "type": "scatter"
           }
          ],
          "scatter3d": [
           {
            "line": {
             "colorbar": {
              "outlinewidth": 0,
              "ticks": ""
             }
            },
            "marker": {
             "colorbar": {
              "outlinewidth": 0,
              "ticks": ""
             }
            },
            "type": "scatter3d"
           }
          ],
          "scattercarpet": [
           {
            "marker": {
             "colorbar": {
              "outlinewidth": 0,
              "ticks": ""
             }
            },
            "type": "scattercarpet"
           }
          ],
          "scattergeo": [
           {
            "marker": {
             "colorbar": {
              "outlinewidth": 0,
              "ticks": ""
             }
            },
            "type": "scattergeo"
           }
          ],
          "scattergl": [
           {
            "marker": {
             "colorbar": {
              "outlinewidth": 0,
              "ticks": ""
             }
            },
            "type": "scattergl"
           }
          ],
          "scattermapbox": [
           {
            "marker": {
             "colorbar": {
              "outlinewidth": 0,
              "ticks": ""
             }
            },
            "type": "scattermapbox"
           }
          ],
          "scatterpolar": [
           {
            "marker": {
             "colorbar": {
              "outlinewidth": 0,
              "ticks": ""
             }
            },
            "type": "scatterpolar"
           }
          ],
          "scatterpolargl": [
           {
            "marker": {
             "colorbar": {
              "outlinewidth": 0,
              "ticks": ""
             }
            },
            "type": "scatterpolargl"
           }
          ],
          "scatterternary": [
           {
            "marker": {
             "colorbar": {
              "outlinewidth": 0,
              "ticks": ""
             }
            },
            "type": "scatterternary"
           }
          ],
          "surface": [
           {
            "colorbar": {
             "outlinewidth": 0,
             "ticks": ""
            },
            "colorscale": [
             [
              0,
              "#0d0887"
             ],
             [
              0.1111111111111111,
              "#46039f"
             ],
             [
              0.2222222222222222,
              "#7201a8"
             ],
             [
              0.3333333333333333,
              "#9c179e"
             ],
             [
              0.4444444444444444,
              "#bd3786"
             ],
             [
              0.5555555555555556,
              "#d8576b"
             ],
             [
              0.6666666666666666,
              "#ed7953"
             ],
             [
              0.7777777777777778,
              "#fb9f3a"
             ],
             [
              0.8888888888888888,
              "#fdca26"
             ],
             [
              1,
              "#f0f921"
             ]
            ],
            "type": "surface"
           }
          ],
          "table": [
           {
            "cells": {
             "fill": {
              "color": "#EBF0F8"
             },
             "line": {
              "color": "white"
             }
            },
            "header": {
             "fill": {
              "color": "#C8D4E3"
             },
             "line": {
              "color": "white"
             }
            },
            "type": "table"
           }
          ]
         },
         "layout": {
          "annotationdefaults": {
           "arrowcolor": "#2a3f5f",
           "arrowhead": 0,
           "arrowwidth": 1
          },
          "autotypenumbers": "strict",
          "coloraxis": {
           "colorbar": {
            "outlinewidth": 0,
            "ticks": ""
           }
          },
          "colorscale": {
           "diverging": [
            [
             0,
             "#8e0152"
            ],
            [
             0.1,
             "#c51b7d"
            ],
            [
             0.2,
             "#de77ae"
            ],
            [
             0.3,
             "#f1b6da"
            ],
            [
             0.4,
             "#fde0ef"
            ],
            [
             0.5,
             "#f7f7f7"
            ],
            [
             0.6,
             "#e6f5d0"
            ],
            [
             0.7,
             "#b8e186"
            ],
            [
             0.8,
             "#7fbc41"
            ],
            [
             0.9,
             "#4d9221"
            ],
            [
             1,
             "#276419"
            ]
           ],
           "sequential": [
            [
             0,
             "#0d0887"
            ],
            [
             0.1111111111111111,
             "#46039f"
            ],
            [
             0.2222222222222222,
             "#7201a8"
            ],
            [
             0.3333333333333333,
             "#9c179e"
            ],
            [
             0.4444444444444444,
             "#bd3786"
            ],
            [
             0.5555555555555556,
             "#d8576b"
            ],
            [
             0.6666666666666666,
             "#ed7953"
            ],
            [
             0.7777777777777778,
             "#fb9f3a"
            ],
            [
             0.8888888888888888,
             "#fdca26"
            ],
            [
             1,
             "#f0f921"
            ]
           ],
           "sequentialminus": [
            [
             0,
             "#0d0887"
            ],
            [
             0.1111111111111111,
             "#46039f"
            ],
            [
             0.2222222222222222,
             "#7201a8"
            ],
            [
             0.3333333333333333,
             "#9c179e"
            ],
            [
             0.4444444444444444,
             "#bd3786"
            ],
            [
             0.5555555555555556,
             "#d8576b"
            ],
            [
             0.6666666666666666,
             "#ed7953"
            ],
            [
             0.7777777777777778,
             "#fb9f3a"
            ],
            [
             0.8888888888888888,
             "#fdca26"
            ],
            [
             1,
             "#f0f921"
            ]
           ]
          },
          "colorway": [
           "#636efa",
           "#EF553B",
           "#00cc96",
           "#ab63fa",
           "#FFA15A",
           "#19d3f3",
           "#FF6692",
           "#B6E880",
           "#FF97FF",
           "#FECB52"
          ],
          "font": {
           "color": "#2a3f5f"
          },
          "geo": {
           "bgcolor": "white",
           "lakecolor": "white",
           "landcolor": "#E5ECF6",
           "showlakes": true,
           "showland": true,
           "subunitcolor": "white"
          },
          "hoverlabel": {
           "align": "left"
          },
          "hovermode": "closest",
          "mapbox": {
           "style": "light"
          },
          "paper_bgcolor": "white",
          "plot_bgcolor": "#E5ECF6",
          "polar": {
           "angularaxis": {
            "gridcolor": "white",
            "linecolor": "white",
            "ticks": ""
           },
           "bgcolor": "#E5ECF6",
           "radialaxis": {
            "gridcolor": "white",
            "linecolor": "white",
            "ticks": ""
           }
          },
          "scene": {
           "xaxis": {
            "backgroundcolor": "#E5ECF6",
            "gridcolor": "white",
            "gridwidth": 2,
            "linecolor": "white",
            "showbackground": true,
            "ticks": "",
            "zerolinecolor": "white"
           },
           "yaxis": {
            "backgroundcolor": "#E5ECF6",
            "gridcolor": "white",
            "gridwidth": 2,
            "linecolor": "white",
            "showbackground": true,
            "ticks": "",
            "zerolinecolor": "white"
           },
           "zaxis": {
            "backgroundcolor": "#E5ECF6",
            "gridcolor": "white",
            "gridwidth": 2,
            "linecolor": "white",
            "showbackground": true,
            "ticks": "",
            "zerolinecolor": "white"
           }
          },
          "shapedefaults": {
           "line": {
            "color": "#2a3f5f"
           }
          },
          "ternary": {
           "aaxis": {
            "gridcolor": "white",
            "linecolor": "white",
            "ticks": ""
           },
           "baxis": {
            "gridcolor": "white",
            "linecolor": "white",
            "ticks": ""
           },
           "bgcolor": "#E5ECF6",
           "caxis": {
            "gridcolor": "white",
            "linecolor": "white",
            "ticks": ""
           }
          },
          "title": {
           "x": 0.05
          },
          "xaxis": {
           "automargin": true,
           "gridcolor": "white",
           "linecolor": "white",
           "ticks": "",
           "title": {
            "standoff": 15
           },
           "zerolinecolor": "white",
           "zerolinewidth": 2
          },
          "yaxis": {
           "automargin": true,
           "gridcolor": "white",
           "linecolor": "white",
           "ticks": "",
           "title": {
            "standoff": 15
           },
           "zerolinecolor": "white",
           "zerolinewidth": 2
          }
         }
        },
        "xaxis": {
         "anchor": "y",
         "domain": [
          0,
          1
         ],
         "title": {
          "text": "Año de ocurrencia"
         }
        },
        "yaxis": {
         "anchor": "x",
         "domain": [
          0,
          1
         ],
         "title": {
          "text": "Cantidad"
         }
        }
       }
      }
     },
     "metadata": {},
     "output_type": "display_data"
    }
   ],
   "source": [
    "# Calcular el conteo de ocurrencias por anio_ocur y eda_madr\n",
    "ocurrencias_por_anio_edad = MORT_FET.groupby(['anio_ocur', 'eda_madr']).size().reset_index(name='Cantidad de ocurrencias')\n",
    "ocurrencias_por_anio_edad.to_csv('C://Users//sdvc0//OneDrive//Escritorio//REPOSITORIO_ENAPEA//BACK//Mortalidad//Fetal//Gráficas//MORT_FET_3.csv', index=False)\n",
    "\n",
    "# Crear gráfica de líneas con Plotly Express\n",
    "fig = px.line(ocurrencias_por_anio_edad, x='anio_ocur', y='Cantidad de ocurrencias', color='eda_madr',\n",
    "              labels={'anio_ocur': 'Año de ocurrencia', 'Cantidad de ocurrencias': 'Cantidad'},\n",
    "              color_discrete_sequence=px.colors.sequential.Blues,\n",
    "              text='Cantidad de ocurrencias',\n",
    "              hover_data={'eda_madr': True, 'Cantidad de ocurrencias': ':.0f'})\n",
    "\n",
    "# Configurar diseño de la gráfica\n",
    "fig.update_layout(\n",
    "    margin=dict(l=0, r=80, t=0, b=0),  # Ajuste del margen derecho a 20\n",
    "    legend_title='Edad de la madre',\n",
    "    legend=dict(orientation='v', yanchor='top', y=1, xanchor='right', x=5),\n",
    "    autosize=True,\n",
    "\n",
    ")\n",
    "fig.update_traces(textposition='top center')\n",
    "# Guardar la gráfica en un archivo HTML\n",
    "fig.write_html('C://Users//sdvc0//OneDrive//Escritorio//REPOSITORIO_ENAPEA//BACK//Mortalidad//Fetal//Gráficas//MORT_FET_3.html')\n",
    "\n",
    "# Mostrar la gráfica (opcional)\n",
    "fig.show()\n"
   ]
  },
  {
   "cell_type": "code",
   "execution_count": 6,
   "metadata": {},
   "outputs": [
    {
     "data": {
      "application/vnd.plotly.v1+json": {
       "config": {
        "plotlyServerURL": "https://plot.ly"
       },
       "data": [
        {
         "hovertemplate": "Edad del producto=%{x}<br>Cantidad=%{text}<extra></extra>",
         "legendgroup": "",
         "line": {
          "color": "orange",
          "dash": "solid"
         },
         "marker": {
          "symbol": "circle"
         },
         "mode": "lines+markers+text",
         "name": "",
         "orientation": "v",
         "showlegend": false,
         "text": [
          226,
          133,
          217,
          266,
          1022,
          599,
          796,
          717,
          1237,
          857,
          1215,
          1067,
          1128,
          818,
          622,
          465,
          634,
          382,
          528,
          380,
          457,
          376,
          440,
          441,
          522,
          560,
          683,
          648,
          609,
          218,
          107
         ],
         "textposition": "top center",
         "type": "scatter",
         "x": [
          12,
          13,
          14,
          15,
          16,
          17,
          18,
          19,
          20,
          21,
          22,
          23,
          24,
          25,
          26,
          27,
          28,
          29,
          30,
          31,
          32,
          33,
          34,
          35,
          36,
          37,
          38,
          39,
          40,
          41,
          42
         ],
         "xaxis": "x",
         "y": [
          226,
          133,
          217,
          266,
          1022,
          599,
          796,
          717,
          1237,
          857,
          1215,
          1067,
          1128,
          818,
          622,
          465,
          634,
          382,
          528,
          380,
          457,
          376,
          440,
          441,
          522,
          560,
          683,
          648,
          609,
          218,
          107
         ],
         "yaxis": "y"
        }
       ],
       "layout": {
        "autosize": true,
        "legend": {
         "orientation": "h",
         "title": {
          "text": "Edad del producto"
         },
         "tracegroupgap": 0,
         "x": 1,
         "xanchor": "right",
         "y": 1.02,
         "yanchor": "bottom"
        },
        "margin": {
         "b": 0,
         "l": 0,
         "r": 0,
         "t": 0
        },
        "template": {
         "data": {
          "bar": [
           {
            "error_x": {
             "color": "#2a3f5f"
            },
            "error_y": {
             "color": "#2a3f5f"
            },
            "marker": {
             "line": {
              "color": "#E5ECF6",
              "width": 0.5
             },
             "pattern": {
              "fillmode": "overlay",
              "size": 10,
              "solidity": 0.2
             }
            },
            "type": "bar"
           }
          ],
          "barpolar": [
           {
            "marker": {
             "line": {
              "color": "#E5ECF6",
              "width": 0.5
             },
             "pattern": {
              "fillmode": "overlay",
              "size": 10,
              "solidity": 0.2
             }
            },
            "type": "barpolar"
           }
          ],
          "carpet": [
           {
            "aaxis": {
             "endlinecolor": "#2a3f5f",
             "gridcolor": "white",
             "linecolor": "white",
             "minorgridcolor": "white",
             "startlinecolor": "#2a3f5f"
            },
            "baxis": {
             "endlinecolor": "#2a3f5f",
             "gridcolor": "white",
             "linecolor": "white",
             "minorgridcolor": "white",
             "startlinecolor": "#2a3f5f"
            },
            "type": "carpet"
           }
          ],
          "choropleth": [
           {
            "colorbar": {
             "outlinewidth": 0,
             "ticks": ""
            },
            "type": "choropleth"
           }
          ],
          "contour": [
           {
            "colorbar": {
             "outlinewidth": 0,
             "ticks": ""
            },
            "colorscale": [
             [
              0,
              "#0d0887"
             ],
             [
              0.1111111111111111,
              "#46039f"
             ],
             [
              0.2222222222222222,
              "#7201a8"
             ],
             [
              0.3333333333333333,
              "#9c179e"
             ],
             [
              0.4444444444444444,
              "#bd3786"
             ],
             [
              0.5555555555555556,
              "#d8576b"
             ],
             [
              0.6666666666666666,
              "#ed7953"
             ],
             [
              0.7777777777777778,
              "#fb9f3a"
             ],
             [
              0.8888888888888888,
              "#fdca26"
             ],
             [
              1,
              "#f0f921"
             ]
            ],
            "type": "contour"
           }
          ],
          "contourcarpet": [
           {
            "colorbar": {
             "outlinewidth": 0,
             "ticks": ""
            },
            "type": "contourcarpet"
           }
          ],
          "heatmap": [
           {
            "colorbar": {
             "outlinewidth": 0,
             "ticks": ""
            },
            "colorscale": [
             [
              0,
              "#0d0887"
             ],
             [
              0.1111111111111111,
              "#46039f"
             ],
             [
              0.2222222222222222,
              "#7201a8"
             ],
             [
              0.3333333333333333,
              "#9c179e"
             ],
             [
              0.4444444444444444,
              "#bd3786"
             ],
             [
              0.5555555555555556,
              "#d8576b"
             ],
             [
              0.6666666666666666,
              "#ed7953"
             ],
             [
              0.7777777777777778,
              "#fb9f3a"
             ],
             [
              0.8888888888888888,
              "#fdca26"
             ],
             [
              1,
              "#f0f921"
             ]
            ],
            "type": "heatmap"
           }
          ],
          "heatmapgl": [
           {
            "colorbar": {
             "outlinewidth": 0,
             "ticks": ""
            },
            "colorscale": [
             [
              0,
              "#0d0887"
             ],
             [
              0.1111111111111111,
              "#46039f"
             ],
             [
              0.2222222222222222,
              "#7201a8"
             ],
             [
              0.3333333333333333,
              "#9c179e"
             ],
             [
              0.4444444444444444,
              "#bd3786"
             ],
             [
              0.5555555555555556,
              "#d8576b"
             ],
             [
              0.6666666666666666,
              "#ed7953"
             ],
             [
              0.7777777777777778,
              "#fb9f3a"
             ],
             [
              0.8888888888888888,
              "#fdca26"
             ],
             [
              1,
              "#f0f921"
             ]
            ],
            "type": "heatmapgl"
           }
          ],
          "histogram": [
           {
            "marker": {
             "pattern": {
              "fillmode": "overlay",
              "size": 10,
              "solidity": 0.2
             }
            },
            "type": "histogram"
           }
          ],
          "histogram2d": [
           {
            "colorbar": {
             "outlinewidth": 0,
             "ticks": ""
            },
            "colorscale": [
             [
              0,
              "#0d0887"
             ],
             [
              0.1111111111111111,
              "#46039f"
             ],
             [
              0.2222222222222222,
              "#7201a8"
             ],
             [
              0.3333333333333333,
              "#9c179e"
             ],
             [
              0.4444444444444444,
              "#bd3786"
             ],
             [
              0.5555555555555556,
              "#d8576b"
             ],
             [
              0.6666666666666666,
              "#ed7953"
             ],
             [
              0.7777777777777778,
              "#fb9f3a"
             ],
             [
              0.8888888888888888,
              "#fdca26"
             ],
             [
              1,
              "#f0f921"
             ]
            ],
            "type": "histogram2d"
           }
          ],
          "histogram2dcontour": [
           {
            "colorbar": {
             "outlinewidth": 0,
             "ticks": ""
            },
            "colorscale": [
             [
              0,
              "#0d0887"
             ],
             [
              0.1111111111111111,
              "#46039f"
             ],
             [
              0.2222222222222222,
              "#7201a8"
             ],
             [
              0.3333333333333333,
              "#9c179e"
             ],
             [
              0.4444444444444444,
              "#bd3786"
             ],
             [
              0.5555555555555556,
              "#d8576b"
             ],
             [
              0.6666666666666666,
              "#ed7953"
             ],
             [
              0.7777777777777778,
              "#fb9f3a"
             ],
             [
              0.8888888888888888,
              "#fdca26"
             ],
             [
              1,
              "#f0f921"
             ]
            ],
            "type": "histogram2dcontour"
           }
          ],
          "mesh3d": [
           {
            "colorbar": {
             "outlinewidth": 0,
             "ticks": ""
            },
            "type": "mesh3d"
           }
          ],
          "parcoords": [
           {
            "line": {
             "colorbar": {
              "outlinewidth": 0,
              "ticks": ""
             }
            },
            "type": "parcoords"
           }
          ],
          "pie": [
           {
            "automargin": true,
            "type": "pie"
           }
          ],
          "scatter": [
           {
            "fillpattern": {
             "fillmode": "overlay",
             "size": 10,
             "solidity": 0.2
            },
            "type": "scatter"
           }
          ],
          "scatter3d": [
           {
            "line": {
             "colorbar": {
              "outlinewidth": 0,
              "ticks": ""
             }
            },
            "marker": {
             "colorbar": {
              "outlinewidth": 0,
              "ticks": ""
             }
            },
            "type": "scatter3d"
           }
          ],
          "scattercarpet": [
           {
            "marker": {
             "colorbar": {
              "outlinewidth": 0,
              "ticks": ""
             }
            },
            "type": "scattercarpet"
           }
          ],
          "scattergeo": [
           {
            "marker": {
             "colorbar": {
              "outlinewidth": 0,
              "ticks": ""
             }
            },
            "type": "scattergeo"
           }
          ],
          "scattergl": [
           {
            "marker": {
             "colorbar": {
              "outlinewidth": 0,
              "ticks": ""
             }
            },
            "type": "scattergl"
           }
          ],
          "scattermapbox": [
           {
            "marker": {
             "colorbar": {
              "outlinewidth": 0,
              "ticks": ""
             }
            },
            "type": "scattermapbox"
           }
          ],
          "scatterpolar": [
           {
            "marker": {
             "colorbar": {
              "outlinewidth": 0,
              "ticks": ""
             }
            },
            "type": "scatterpolar"
           }
          ],
          "scatterpolargl": [
           {
            "marker": {
             "colorbar": {
              "outlinewidth": 0,
              "ticks": ""
             }
            },
            "type": "scatterpolargl"
           }
          ],
          "scatterternary": [
           {
            "marker": {
             "colorbar": {
              "outlinewidth": 0,
              "ticks": ""
             }
            },
            "type": "scatterternary"
           }
          ],
          "surface": [
           {
            "colorbar": {
             "outlinewidth": 0,
             "ticks": ""
            },
            "colorscale": [
             [
              0,
              "#0d0887"
             ],
             [
              0.1111111111111111,
              "#46039f"
             ],
             [
              0.2222222222222222,
              "#7201a8"
             ],
             [
              0.3333333333333333,
              "#9c179e"
             ],
             [
              0.4444444444444444,
              "#bd3786"
             ],
             [
              0.5555555555555556,
              "#d8576b"
             ],
             [
              0.6666666666666666,
              "#ed7953"
             ],
             [
              0.7777777777777778,
              "#fb9f3a"
             ],
             [
              0.8888888888888888,
              "#fdca26"
             ],
             [
              1,
              "#f0f921"
             ]
            ],
            "type": "surface"
           }
          ],
          "table": [
           {
            "cells": {
             "fill": {
              "color": "#EBF0F8"
             },
             "line": {
              "color": "white"
             }
            },
            "header": {
             "fill": {
              "color": "#C8D4E3"
             },
             "line": {
              "color": "white"
             }
            },
            "type": "table"
           }
          ]
         },
         "layout": {
          "annotationdefaults": {
           "arrowcolor": "#2a3f5f",
           "arrowhead": 0,
           "arrowwidth": 1
          },
          "autotypenumbers": "strict",
          "coloraxis": {
           "colorbar": {
            "outlinewidth": 0,
            "ticks": ""
           }
          },
          "colorscale": {
           "diverging": [
            [
             0,
             "#8e0152"
            ],
            [
             0.1,
             "#c51b7d"
            ],
            [
             0.2,
             "#de77ae"
            ],
            [
             0.3,
             "#f1b6da"
            ],
            [
             0.4,
             "#fde0ef"
            ],
            [
             0.5,
             "#f7f7f7"
            ],
            [
             0.6,
             "#e6f5d0"
            ],
            [
             0.7,
             "#b8e186"
            ],
            [
             0.8,
             "#7fbc41"
            ],
            [
             0.9,
             "#4d9221"
            ],
            [
             1,
             "#276419"
            ]
           ],
           "sequential": [
            [
             0,
             "#0d0887"
            ],
            [
             0.1111111111111111,
             "#46039f"
            ],
            [
             0.2222222222222222,
             "#7201a8"
            ],
            [
             0.3333333333333333,
             "#9c179e"
            ],
            [
             0.4444444444444444,
             "#bd3786"
            ],
            [
             0.5555555555555556,
             "#d8576b"
            ],
            [
             0.6666666666666666,
             "#ed7953"
            ],
            [
             0.7777777777777778,
             "#fb9f3a"
            ],
            [
             0.8888888888888888,
             "#fdca26"
            ],
            [
             1,
             "#f0f921"
            ]
           ],
           "sequentialminus": [
            [
             0,
             "#0d0887"
            ],
            [
             0.1111111111111111,
             "#46039f"
            ],
            [
             0.2222222222222222,
             "#7201a8"
            ],
            [
             0.3333333333333333,
             "#9c179e"
            ],
            [
             0.4444444444444444,
             "#bd3786"
            ],
            [
             0.5555555555555556,
             "#d8576b"
            ],
            [
             0.6666666666666666,
             "#ed7953"
            ],
            [
             0.7777777777777778,
             "#fb9f3a"
            ],
            [
             0.8888888888888888,
             "#fdca26"
            ],
            [
             1,
             "#f0f921"
            ]
           ]
          },
          "colorway": [
           "#636efa",
           "#EF553B",
           "#00cc96",
           "#ab63fa",
           "#FFA15A",
           "#19d3f3",
           "#FF6692",
           "#B6E880",
           "#FF97FF",
           "#FECB52"
          ],
          "font": {
           "color": "#2a3f5f"
          },
          "geo": {
           "bgcolor": "white",
           "lakecolor": "white",
           "landcolor": "#E5ECF6",
           "showlakes": true,
           "showland": true,
           "subunitcolor": "white"
          },
          "hoverlabel": {
           "align": "left"
          },
          "hovermode": "closest",
          "mapbox": {
           "style": "light"
          },
          "paper_bgcolor": "white",
          "plot_bgcolor": "#E5ECF6",
          "polar": {
           "angularaxis": {
            "gridcolor": "white",
            "linecolor": "white",
            "ticks": ""
           },
           "bgcolor": "#E5ECF6",
           "radialaxis": {
            "gridcolor": "white",
            "linecolor": "white",
            "ticks": ""
           }
          },
          "scene": {
           "xaxis": {
            "backgroundcolor": "#E5ECF6",
            "gridcolor": "white",
            "gridwidth": 2,
            "linecolor": "white",
            "showbackground": true,
            "ticks": "",
            "zerolinecolor": "white"
           },
           "yaxis": {
            "backgroundcolor": "#E5ECF6",
            "gridcolor": "white",
            "gridwidth": 2,
            "linecolor": "white",
            "showbackground": true,
            "ticks": "",
            "zerolinecolor": "white"
           },
           "zaxis": {
            "backgroundcolor": "#E5ECF6",
            "gridcolor": "white",
            "gridwidth": 2,
            "linecolor": "white",
            "showbackground": true,
            "ticks": "",
            "zerolinecolor": "white"
           }
          },
          "shapedefaults": {
           "line": {
            "color": "#2a3f5f"
           }
          },
          "ternary": {
           "aaxis": {
            "gridcolor": "white",
            "linecolor": "white",
            "ticks": ""
           },
           "baxis": {
            "gridcolor": "white",
            "linecolor": "white",
            "ticks": ""
           },
           "bgcolor": "#E5ECF6",
           "caxis": {
            "gridcolor": "white",
            "linecolor": "white",
            "ticks": ""
           }
          },
          "title": {
           "x": 0.05
          },
          "xaxis": {
           "automargin": true,
           "gridcolor": "white",
           "linecolor": "white",
           "ticks": "",
           "title": {
            "standoff": 15
           },
           "zerolinecolor": "white",
           "zerolinewidth": 2
          },
          "yaxis": {
           "automargin": true,
           "gridcolor": "white",
           "linecolor": "white",
           "ticks": "",
           "title": {
            "standoff": 15
           },
           "zerolinecolor": "white",
           "zerolinewidth": 2
          }
         }
        },
        "xaxis": {
         "anchor": "y",
         "domain": [
          0,
          1
         ],
         "title": {
          "text": "Edad del producto"
         }
        },
        "yaxis": {
         "anchor": "x",
         "domain": [
          0,
          1
         ],
         "title": {
          "text": "Cantidad"
         }
        }
       }
      }
     },
     "metadata": {},
     "output_type": "display_data"
    }
   ],
   "source": [
    "# Filtrar y excluir el valor '99' de eda_prod\n",
    "filtered_data = MORT_FET[MORT_FET['eda_prod'] != 99]\n",
    "\n",
    "# Calcular el conteo de ocurrencias por eda_prod excluyendo el valor '99'\n",
    "ocurrencias_por_edad_prod = filtered_data['eda_prod'].value_counts().reset_index()\n",
    "ocurrencias_por_edad_prod.columns = ['Edad del producto', 'Cantidad de ocurrencias']\n",
    "ocurrencias_por_edad_prod.to_csv('C://Users//sdvc0//OneDrive//Escritorio//REPOSITORIO_ENAPEA//BACK//Mortalidad//Fetal//Gráficas//MORT_FET_4.csv', index=False)\n",
    "\n",
    "# Ordenar por edad del producto (opcional, dependiendo de cómo quieras visualizarlo)\n",
    "ocurrencias_por_edad_prod = ocurrencias_por_edad_prod.sort_values(by='Edad del producto')\n",
    "\n",
    "# Crear gráfica de líneas con Plotly Express\n",
    "fig = px.line(ocurrencias_por_edad_prod, x='Edad del producto', y='Cantidad de ocurrencias',\n",
    "              labels={'Edad del producto': 'Edad del producto', 'Cantidad de ocurrencias': 'Cantidad'},\n",
    "              text='Cantidad de ocurrencias',\n",
    "              color_discrete_sequence=['orange'])\n",
    "\n",
    "fig.update_traces(textposition='top center')\n",
    "# Configurar diseño de la gráfica\n",
    "fig.update_layout(\n",
    "    margin=dict(l=0, r=0, t=0, b=0),\n",
    "    legend_title='Edad del producto',\n",
    "    legend=dict(orientation='h', yanchor='bottom', y=1.02, xanchor='right', x=1),\n",
    "    autosize=True,\n",
    ")\n",
    "\n",
    "# Guardar la gráfica en un archivo HTML\n",
    "fig.write_html('C://Users//sdvc0//OneDrive//Escritorio//REPOSITORIO_ENAPEA//BACK//Mortalidad//Fetal//Gráficas//MORT_FET_4.html')\n",
    "# Mostrar la gráfica (opcional)\n",
    "fig.show()\n"
   ]
  },
  {
   "cell_type": "code",
   "execution_count": 7,
   "metadata": {},
   "outputs": [
    {
     "data": {
      "application/vnd.plotly.v1+json": {
       "config": {
        "plotlyServerURL": "https://plot.ly"
       },
       "data": [
        {
         "cells": {
          "align": "center",
          "fill": {
           "color": "white"
          },
          "font": {
           "size": 12
          },
          "values": [
           [
            5839,
            2004,
            1018,
            1018,
            883,
            760,
            624,
            558,
            529,
            410
           ],
           [
            "Otras afecciones especificadas originadas en el período perinatal",
            "Feto y recién nacido afectados por otras anormalidades morfológicas y funcionales de la placenta y las no especificadas",
            "Feto y recién nacido afectados por ruptura prematura de las membranas",
            "Bajo peso para la edad gestacional",
            "Hipoxia intrauterina notada por primera vez antes del inicio del trabajo de parto",
            "Feto y recién nacido afectados por otra compresión del cordón umbilical",
            "Feto y recién nacido afectados por otras formas de desprendimiento y de hemorragia placentarios",
            "Feto y recién nacido afectados por otras complicaciones maternas del embarazo",
            "Muerte fetal de causa no especificada",
            "Pequeño para la edad gestacional"
           ],
           [
            31.76,
            10.9,
            5.54,
            5.54,
            4.8,
            4.13,
            3.39,
            3.03,
            2.88,
            2.23
           ]
          ]
         },
         "header": {
          "align": "center",
          "fill": {
           "color": "orange"
          },
          "font": {
           "size": 14
          },
          "values": [
           "Cantidad",
           "Causa de defunción",
           "Porcentaje (%)"
          ]
         },
         "type": "table"
        }
       ],
       "layout": {
        "autosize": true,
        "height": 480,
        "margin": {
         "b": 0,
         "l": 0,
         "r": 0,
         "t": 0
        },
        "template": {
         "data": {
          "bar": [
           {
            "error_x": {
             "color": "#2a3f5f"
            },
            "error_y": {
             "color": "#2a3f5f"
            },
            "marker": {
             "line": {
              "color": "#E5ECF6",
              "width": 0.5
             },
             "pattern": {
              "fillmode": "overlay",
              "size": 10,
              "solidity": 0.2
             }
            },
            "type": "bar"
           }
          ],
          "barpolar": [
           {
            "marker": {
             "line": {
              "color": "#E5ECF6",
              "width": 0.5
             },
             "pattern": {
              "fillmode": "overlay",
              "size": 10,
              "solidity": 0.2
             }
            },
            "type": "barpolar"
           }
          ],
          "carpet": [
           {
            "aaxis": {
             "endlinecolor": "#2a3f5f",
             "gridcolor": "white",
             "linecolor": "white",
             "minorgridcolor": "white",
             "startlinecolor": "#2a3f5f"
            },
            "baxis": {
             "endlinecolor": "#2a3f5f",
             "gridcolor": "white",
             "linecolor": "white",
             "minorgridcolor": "white",
             "startlinecolor": "#2a3f5f"
            },
            "type": "carpet"
           }
          ],
          "choropleth": [
           {
            "colorbar": {
             "outlinewidth": 0,
             "ticks": ""
            },
            "type": "choropleth"
           }
          ],
          "contour": [
           {
            "colorbar": {
             "outlinewidth": 0,
             "ticks": ""
            },
            "colorscale": [
             [
              0,
              "#0d0887"
             ],
             [
              0.1111111111111111,
              "#46039f"
             ],
             [
              0.2222222222222222,
              "#7201a8"
             ],
             [
              0.3333333333333333,
              "#9c179e"
             ],
             [
              0.4444444444444444,
              "#bd3786"
             ],
             [
              0.5555555555555556,
              "#d8576b"
             ],
             [
              0.6666666666666666,
              "#ed7953"
             ],
             [
              0.7777777777777778,
              "#fb9f3a"
             ],
             [
              0.8888888888888888,
              "#fdca26"
             ],
             [
              1,
              "#f0f921"
             ]
            ],
            "type": "contour"
           }
          ],
          "contourcarpet": [
           {
            "colorbar": {
             "outlinewidth": 0,
             "ticks": ""
            },
            "type": "contourcarpet"
           }
          ],
          "heatmap": [
           {
            "colorbar": {
             "outlinewidth": 0,
             "ticks": ""
            },
            "colorscale": [
             [
              0,
              "#0d0887"
             ],
             [
              0.1111111111111111,
              "#46039f"
             ],
             [
              0.2222222222222222,
              "#7201a8"
             ],
             [
              0.3333333333333333,
              "#9c179e"
             ],
             [
              0.4444444444444444,
              "#bd3786"
             ],
             [
              0.5555555555555556,
              "#d8576b"
             ],
             [
              0.6666666666666666,
              "#ed7953"
             ],
             [
              0.7777777777777778,
              "#fb9f3a"
             ],
             [
              0.8888888888888888,
              "#fdca26"
             ],
             [
              1,
              "#f0f921"
             ]
            ],
            "type": "heatmap"
           }
          ],
          "heatmapgl": [
           {
            "colorbar": {
             "outlinewidth": 0,
             "ticks": ""
            },
            "colorscale": [
             [
              0,
              "#0d0887"
             ],
             [
              0.1111111111111111,
              "#46039f"
             ],
             [
              0.2222222222222222,
              "#7201a8"
             ],
             [
              0.3333333333333333,
              "#9c179e"
             ],
             [
              0.4444444444444444,
              "#bd3786"
             ],
             [
              0.5555555555555556,
              "#d8576b"
             ],
             [
              0.6666666666666666,
              "#ed7953"
             ],
             [
              0.7777777777777778,
              "#fb9f3a"
             ],
             [
              0.8888888888888888,
              "#fdca26"
             ],
             [
              1,
              "#f0f921"
             ]
            ],
            "type": "heatmapgl"
           }
          ],
          "histogram": [
           {
            "marker": {
             "pattern": {
              "fillmode": "overlay",
              "size": 10,
              "solidity": 0.2
             }
            },
            "type": "histogram"
           }
          ],
          "histogram2d": [
           {
            "colorbar": {
             "outlinewidth": 0,
             "ticks": ""
            },
            "colorscale": [
             [
              0,
              "#0d0887"
             ],
             [
              0.1111111111111111,
              "#46039f"
             ],
             [
              0.2222222222222222,
              "#7201a8"
             ],
             [
              0.3333333333333333,
              "#9c179e"
             ],
             [
              0.4444444444444444,
              "#bd3786"
             ],
             [
              0.5555555555555556,
              "#d8576b"
             ],
             [
              0.6666666666666666,
              "#ed7953"
             ],
             [
              0.7777777777777778,
              "#fb9f3a"
             ],
             [
              0.8888888888888888,
              "#fdca26"
             ],
             [
              1,
              "#f0f921"
             ]
            ],
            "type": "histogram2d"
           }
          ],
          "histogram2dcontour": [
           {
            "colorbar": {
             "outlinewidth": 0,
             "ticks": ""
            },
            "colorscale": [
             [
              0,
              "#0d0887"
             ],
             [
              0.1111111111111111,
              "#46039f"
             ],
             [
              0.2222222222222222,
              "#7201a8"
             ],
             [
              0.3333333333333333,
              "#9c179e"
             ],
             [
              0.4444444444444444,
              "#bd3786"
             ],
             [
              0.5555555555555556,
              "#d8576b"
             ],
             [
              0.6666666666666666,
              "#ed7953"
             ],
             [
              0.7777777777777778,
              "#fb9f3a"
             ],
             [
              0.8888888888888888,
              "#fdca26"
             ],
             [
              1,
              "#f0f921"
             ]
            ],
            "type": "histogram2dcontour"
           }
          ],
          "mesh3d": [
           {
            "colorbar": {
             "outlinewidth": 0,
             "ticks": ""
            },
            "type": "mesh3d"
           }
          ],
          "parcoords": [
           {
            "line": {
             "colorbar": {
              "outlinewidth": 0,
              "ticks": ""
             }
            },
            "type": "parcoords"
           }
          ],
          "pie": [
           {
            "automargin": true,
            "type": "pie"
           }
          ],
          "scatter": [
           {
            "fillpattern": {
             "fillmode": "overlay",
             "size": 10,
             "solidity": 0.2
            },
            "type": "scatter"
           }
          ],
          "scatter3d": [
           {
            "line": {
             "colorbar": {
              "outlinewidth": 0,
              "ticks": ""
             }
            },
            "marker": {
             "colorbar": {
              "outlinewidth": 0,
              "ticks": ""
             }
            },
            "type": "scatter3d"
           }
          ],
          "scattercarpet": [
           {
            "marker": {
             "colorbar": {
              "outlinewidth": 0,
              "ticks": ""
             }
            },
            "type": "scattercarpet"
           }
          ],
          "scattergeo": [
           {
            "marker": {
             "colorbar": {
              "outlinewidth": 0,
              "ticks": ""
             }
            },
            "type": "scattergeo"
           }
          ],
          "scattergl": [
           {
            "marker": {
             "colorbar": {
              "outlinewidth": 0,
              "ticks": ""
             }
            },
            "type": "scattergl"
           }
          ],
          "scattermapbox": [
           {
            "marker": {
             "colorbar": {
              "outlinewidth": 0,
              "ticks": ""
             }
            },
            "type": "scattermapbox"
           }
          ],
          "scatterpolar": [
           {
            "marker": {
             "colorbar": {
              "outlinewidth": 0,
              "ticks": ""
             }
            },
            "type": "scatterpolar"
           }
          ],
          "scatterpolargl": [
           {
            "marker": {
             "colorbar": {
              "outlinewidth": 0,
              "ticks": ""
             }
            },
            "type": "scatterpolargl"
           }
          ],
          "scatterternary": [
           {
            "marker": {
             "colorbar": {
              "outlinewidth": 0,
              "ticks": ""
             }
            },
            "type": "scatterternary"
           }
          ],
          "surface": [
           {
            "colorbar": {
             "outlinewidth": 0,
             "ticks": ""
            },
            "colorscale": [
             [
              0,
              "#0d0887"
             ],
             [
              0.1111111111111111,
              "#46039f"
             ],
             [
              0.2222222222222222,
              "#7201a8"
             ],
             [
              0.3333333333333333,
              "#9c179e"
             ],
             [
              0.4444444444444444,
              "#bd3786"
             ],
             [
              0.5555555555555556,
              "#d8576b"
             ],
             [
              0.6666666666666666,
              "#ed7953"
             ],
             [
              0.7777777777777778,
              "#fb9f3a"
             ],
             [
              0.8888888888888888,
              "#fdca26"
             ],
             [
              1,
              "#f0f921"
             ]
            ],
            "type": "surface"
           }
          ],
          "table": [
           {
            "cells": {
             "fill": {
              "color": "#EBF0F8"
             },
             "line": {
              "color": "white"
             }
            },
            "header": {
             "fill": {
              "color": "#C8D4E3"
             },
             "line": {
              "color": "white"
             }
            },
            "type": "table"
           }
          ]
         },
         "layout": {
          "annotationdefaults": {
           "arrowcolor": "#2a3f5f",
           "arrowhead": 0,
           "arrowwidth": 1
          },
          "autotypenumbers": "strict",
          "coloraxis": {
           "colorbar": {
            "outlinewidth": 0,
            "ticks": ""
           }
          },
          "colorscale": {
           "diverging": [
            [
             0,
             "#8e0152"
            ],
            [
             0.1,
             "#c51b7d"
            ],
            [
             0.2,
             "#de77ae"
            ],
            [
             0.3,
             "#f1b6da"
            ],
            [
             0.4,
             "#fde0ef"
            ],
            [
             0.5,
             "#f7f7f7"
            ],
            [
             0.6,
             "#e6f5d0"
            ],
            [
             0.7,
             "#b8e186"
            ],
            [
             0.8,
             "#7fbc41"
            ],
            [
             0.9,
             "#4d9221"
            ],
            [
             1,
             "#276419"
            ]
           ],
           "sequential": [
            [
             0,
             "#0d0887"
            ],
            [
             0.1111111111111111,
             "#46039f"
            ],
            [
             0.2222222222222222,
             "#7201a8"
            ],
            [
             0.3333333333333333,
             "#9c179e"
            ],
            [
             0.4444444444444444,
             "#bd3786"
            ],
            [
             0.5555555555555556,
             "#d8576b"
            ],
            [
             0.6666666666666666,
             "#ed7953"
            ],
            [
             0.7777777777777778,
             "#fb9f3a"
            ],
            [
             0.8888888888888888,
             "#fdca26"
            ],
            [
             1,
             "#f0f921"
            ]
           ],
           "sequentialminus": [
            [
             0,
             "#0d0887"
            ],
            [
             0.1111111111111111,
             "#46039f"
            ],
            [
             0.2222222222222222,
             "#7201a8"
            ],
            [
             0.3333333333333333,
             "#9c179e"
            ],
            [
             0.4444444444444444,
             "#bd3786"
            ],
            [
             0.5555555555555556,
             "#d8576b"
            ],
            [
             0.6666666666666666,
             "#ed7953"
            ],
            [
             0.7777777777777778,
             "#fb9f3a"
            ],
            [
             0.8888888888888888,
             "#fdca26"
            ],
            [
             1,
             "#f0f921"
            ]
           ]
          },
          "colorway": [
           "#636efa",
           "#EF553B",
           "#00cc96",
           "#ab63fa",
           "#FFA15A",
           "#19d3f3",
           "#FF6692",
           "#B6E880",
           "#FF97FF",
           "#FECB52"
          ],
          "font": {
           "color": "#2a3f5f"
          },
          "geo": {
           "bgcolor": "white",
           "lakecolor": "white",
           "landcolor": "#E5ECF6",
           "showlakes": true,
           "showland": true,
           "subunitcolor": "white"
          },
          "hoverlabel": {
           "align": "left"
          },
          "hovermode": "closest",
          "mapbox": {
           "style": "light"
          },
          "paper_bgcolor": "white",
          "plot_bgcolor": "#E5ECF6",
          "polar": {
           "angularaxis": {
            "gridcolor": "white",
            "linecolor": "white",
            "ticks": ""
           },
           "bgcolor": "#E5ECF6",
           "radialaxis": {
            "gridcolor": "white",
            "linecolor": "white",
            "ticks": ""
           }
          },
          "scene": {
           "xaxis": {
            "backgroundcolor": "#E5ECF6",
            "gridcolor": "white",
            "gridwidth": 2,
            "linecolor": "white",
            "showbackground": true,
            "ticks": "",
            "zerolinecolor": "white"
           },
           "yaxis": {
            "backgroundcolor": "#E5ECF6",
            "gridcolor": "white",
            "gridwidth": 2,
            "linecolor": "white",
            "showbackground": true,
            "ticks": "",
            "zerolinecolor": "white"
           },
           "zaxis": {
            "backgroundcolor": "#E5ECF6",
            "gridcolor": "white",
            "gridwidth": 2,
            "linecolor": "white",
            "showbackground": true,
            "ticks": "",
            "zerolinecolor": "white"
           }
          },
          "shapedefaults": {
           "line": {
            "color": "#2a3f5f"
           }
          },
          "ternary": {
           "aaxis": {
            "gridcolor": "white",
            "linecolor": "white",
            "ticks": ""
           },
           "baxis": {
            "gridcolor": "white",
            "linecolor": "white",
            "ticks": ""
           },
           "bgcolor": "#E5ECF6",
           "caxis": {
            "gridcolor": "white",
            "linecolor": "white",
            "ticks": ""
           }
          },
          "title": {
           "x": 0.05
          },
          "xaxis": {
           "automargin": true,
           "gridcolor": "white",
           "linecolor": "white",
           "ticks": "",
           "title": {
            "standoff": 15
           },
           "zerolinecolor": "white",
           "zerolinewidth": 2
          },
          "yaxis": {
           "automargin": true,
           "gridcolor": "white",
           "linecolor": "white",
           "ticks": "",
           "title": {
            "standoff": 15
           },
           "zerolinecolor": "white",
           "zerolinewidth": 2
          }
         }
        },
        "width": 900
       }
      }
     },
     "metadata": {},
     "output_type": "display_data"
    }
   ],
   "source": [
    "# Calcular el conteo de ocurrencias por causa_def y obtener el top 10\n",
    "top10_causas_def = MORT_FET['causa_def'].value_counts().head(10).reset_index()\n",
    "top10_causas_def.columns = ['Causa de defunción', 'Cantidad']\n",
    "top10_causas_def.to_csv('C://Users//sdvc0//OneDrive//Escritorio//REPOSITORIO_ENAPEA//BACK//Mortalidad//Fetal//Gráficas//MORT_FET_5.csv', index=False)\n",
    "\n",
    "\n",
    "# Calcular el porcentaje\n",
    "total_registros = len(MORT_FET)\n",
    "top10_causas_def['Porcentaje (%)'] = (top10_causas_def['Cantidad'] / total_registros) * 100\n",
    "\n",
    "# Crear tabla HTML con Plotly\n",
    "fig = go.Figure(data=[go.Table(\n",
    "    header=dict(values=[ 'Cantidad','Causa de defunción', 'Porcentaje (%)'],\n",
    "                fill_color='orange',\n",
    "                align='center',\n",
    "                font=dict(size=14)),  # Ajustar tamaño de fuente del encabezado\n",
    "    cells=dict(values=[  \n",
    "                       top10_causas_def['Cantidad'],\n",
    "                       top10_causas_def['Causa de defunción'],\n",
    "                       top10_causas_def['Porcentaje (%)'].round(2)],\n",
    "               fill_color='white',\n",
    "               align='center',\n",
    "               font=dict(size=12)),  # Ajustar tamaño de fuente del contenido de la tabla\n",
    ")])\n",
    "\n",
    "# Ajustar altura de la tabla\n",
    "fig.update_layout(\n",
    "    margin=dict(l=0, r=0, t=0, b=0),\n",
    "    height=480 , # Ajustar altura de la tabla\n",
    ")\n",
    "\n",
    "# Ajustar ancho de columnas\n",
    "fig.update_layout(\n",
    "    autosize=True,\n",
    "    width=900,  # Ajustar ancho total de la tabla\n",
    ")\n",
    "\n",
    "fig.show()\n",
    "# Guardar la tabla en un archivo HTML\n",
    "fig.write_html('C://Users//sdvc0//OneDrive//Escritorio//REPOSITORIO_ENAPEA//BACK//Mortalidad//Fetal//Gráficas//MORT_FET_5.html')\n",
    "\n"
   ]
  },
  {
   "cell_type": "code",
   "execution_count": 8,
   "metadata": {},
   "outputs": [
    {
     "data": {
      "application/vnd.plotly.v1+json": {
       "config": {
        "plotlyServerURL": "https://plot.ly"
       },
       "data": [
        {
         "branchvalues": "total",
         "customdata": [
          [
           1
          ],
          [
           1
          ],
          [
           3
          ],
          [
           1
          ],
          [
           9
          ],
          [
           9
          ],
          [
           1
          ],
          [
           2
          ],
          [
           2
          ],
          [
           2
          ],
          [
           5
          ],
          [
           6
          ],
          [
           26
          ],
          [
           48
          ],
          [
           53
          ],
          [
           57
          ],
          [
           68
          ],
          [
           1
          ],
          [
           3
          ],
          [
           9
          ],
          [
           9
          ],
          [
           5
          ],
          [
           12
          ],
          [
           1
          ],
          [
           1
          ],
          [
           1
          ],
          [
           1
          ],
          [
           1
          ],
          [
           1
          ],
          [
           2
          ],
          [
           1
          ],
          [
           1
          ],
          [
           6
          ],
          [
           31
          ],
          [
           98
          ],
          [
           136
          ],
          [
           205
          ],
          [
           255
          ],
          [
           286
          ],
          [
           1
          ],
          [
           1
          ],
          [
           1
          ],
          [
           6
          ],
          [
           6
          ],
          [
           18
          ],
          [
           28
          ],
          [
           44
          ],
          [
           46
          ],
          [
           48
          ],
          [
           1
          ],
          [
           1
          ],
          [
           1
          ],
          [
           1
          ],
          [
           1
          ],
          [
           1
          ],
          [
           1
          ],
          [
           1
          ],
          [
           3
          ],
          [
           4
          ],
          [
           5
          ],
          [
           5
          ],
          [
           1
          ],
          [
           4
          ],
          [
           1
          ],
          [
           1
          ],
          [
           1
          ],
          [
           1
          ],
          [
           3
          ],
          [
           1
          ],
          [
           2
          ],
          [
           4
          ],
          [
           1
          ],
          [
           3
          ],
          [
           3
          ],
          [
           3
          ],
          [
           1
          ],
          [
           1
          ],
          [
           3
          ],
          [
           4
          ],
          [
           3
          ],
          [
           4
          ],
          [
           5
          ],
          [
           1
          ],
          [
           3
          ],
          [
           4
          ],
          [
           6
          ],
          [
           4
          ],
          [
           10
          ],
          [
           1
          ],
          [
           1
          ],
          [
           6
          ],
          [
           2
          ],
          [
           3
          ],
          [
           13
          ],
          [
           6
          ],
          [
           2
          ],
          [
           6
          ],
          [
           1
          ],
          [
           4
          ],
          [
           3
          ],
          [
           5
          ],
          [
           1
          ],
          [
           2
          ],
          [
           2
          ],
          [
           2
          ],
          [
           6
          ],
          [
           1
          ],
          [
           2
          ],
          [
           5
          ],
          [
           16
          ],
          [
           31
          ],
          [
           35
          ],
          [
           36
          ],
          [
           2
          ],
          [
           2
          ],
          [
           4
          ],
          [
           1
          ],
          [
           1
          ],
          [
           6
          ],
          [
           7
          ],
          [
           7
          ],
          [
           1
          ],
          [
           1
          ],
          [
           1
          ],
          [
           4
          ],
          [
           5
          ],
          [
           12
          ],
          [
           14
          ],
          [
           12
          ],
          [
           1
          ],
          [
           1
          ],
          [
           9
          ],
          [
           22
          ],
          [
           26
          ],
          [
           51
          ],
          [
           60
          ],
          [
           50
          ],
          [
           1
          ],
          [
           1
          ],
          [
           9
          ],
          [
           19
          ],
          [
           20
          ],
          [
           53
          ],
          [
           71
          ],
          [
           63
          ],
          [
           1
          ],
          [
           2
          ],
          [
           1
          ],
          [
           1
          ],
          [
           1
          ],
          [
           9
          ],
          [
           21
          ],
          [
           59
          ],
          [
           78
          ],
          [
           115
          ],
          [
           118
          ],
          [
           1
          ],
          [
           6
          ],
          [
           18
          ],
          [
           48
          ],
          [
           99
          ],
          [
           165
          ],
          [
           195
          ],
          [
           228
          ],
          [
           1
          ],
          [
           2
          ],
          [
           6
          ],
          [
           4
          ],
          [
           8
          ],
          [
           8
          ],
          [
           1
          ],
          [
           10
          ],
          [
           11
          ],
          [
           24
          ],
          [
           26
          ],
          [
           39
          ],
          [
           41
          ],
          [
           1
          ],
          [
           2
          ],
          [
           1
          ],
          [
           5
          ],
          [
           3
          ],
          [
           1
          ],
          [
           11
          ],
          [
           65
          ],
          [
           173
          ],
          [
           284
          ],
          [
           386
          ],
          [
           492
          ],
          [
           592
          ],
          [
           3
          ],
          [
           13
          ],
          [
           25
          ],
          [
           36
          ],
          [
           53
          ],
          [
           54
          ],
          [
           1
          ],
          [
           9
          ],
          [
           12
          ],
          [
           16
          ],
          [
           31
          ],
          [
           30
          ],
          [
           24
          ],
          [
           1
          ],
          [
           2
          ],
          [
           4
          ],
          [
           9
          ],
          [
           45
          ],
          [
           81
          ],
          [
           114
          ],
          [
           132
          ],
          [
           170
          ],
          [
           2
          ],
          [
           1
          ],
          [
           2
          ],
          [
           3
          ],
          [
           1
          ],
          [
           21
          ],
          [
           57
          ],
          [
           98
          ],
          [
           117
          ],
          [
           161
          ],
          [
           166
          ],
          [
           1
          ],
          [
           1
          ],
          [
           1
          ],
          [
           1
          ],
          [
           3
          ],
          [
           4
          ],
          [
           8
          ],
          [
           8
          ],
          [
           8
          ],
          [
           1
          ],
          [
           3
          ],
          [
           3
          ],
          [
           4
          ],
          [
           2
          ],
          [
           5
          ],
          [
           1
          ],
          [
           2
          ],
          [
           9
          ],
          [
           17
          ],
          [
           19
          ],
          [
           14
          ],
          [
           30
          ],
          [
           2
          ],
          [
           5
          ],
          [
           3
          ],
          [
           10
          ],
          [
           21
          ],
          [
           29
          ],
          [
           29
          ],
          [
           1
          ],
          [
           2
          ],
          [
           2
          ],
          [
           3
          ],
          [
           1
          ],
          [
           4
          ],
          [
           1
          ],
          [
           1
          ],
          [
           3
          ],
          [
           6
          ],
          [
           13
          ],
          [
           17
          ],
          [
           19
          ],
          [
           12
          ],
          [
           1
          ],
          [
           4
          ],
          [
           45
          ],
          [
           94
          ],
          [
           122
          ],
          [
           236
          ],
          [
           229
          ],
          [
           287
          ],
          [
           1
          ],
          [
           5
          ],
          [
           9
          ],
          [
           14
          ],
          [
           5
          ],
          [
           1
          ],
          [
           6
          ],
          [
           17
          ],
          [
           40
          ],
          [
           43
          ],
          [
           69
          ],
          [
           92
          ],
          [
           1
          ],
          [
           2
          ],
          [
           3
          ],
          [
           4
          ],
          [
           1
          ],
          [
           3
          ],
          [
           5
          ],
          [
           8
          ],
          [
           12
          ],
          [
           13
          ],
          [
           1
          ],
          [
           5
          ],
          [
           6
          ],
          [
           8
          ],
          [
           8
          ],
          [
           12
          ],
          [
           1
          ],
          [
           1
          ],
          [
           1
          ],
          [
           1
          ],
          [
           1
          ],
          [
           1
          ],
          [
           1
          ],
          [
           1
          ],
          [
           2
          ],
          [
           3
          ],
          [
           2
          ],
          [
           1
          ],
          [
           1
          ],
          [
           3
          ],
          [
           1
          ],
          [
           1
          ],
          [
           6
          ],
          [
           4
          ],
          [
           8
          ],
          [
           12
          ],
          [
           1
          ],
          [
           1
          ],
          [
           1
          ],
          [
           1
          ],
          [
           1
          ],
          [
           1
          ],
          [
           1
          ],
          [
           1
          ],
          [
           11
          ],
          [
           17
          ],
          [
           15
          ],
          [
           29
          ],
          [
           41
          ],
          [
           46
          ],
          [
           1
          ],
          [
           3
          ],
          [
           2
          ],
          [
           2
          ],
          [
           3
          ],
          [
           1
          ],
          [
           1
          ],
          [
           1
          ],
          [
           8
          ],
          [
           31
          ],
          [
           73
          ],
          [
           125
          ],
          [
           175
          ],
          [
           215
          ],
          [
           254
          ],
          [
           2
          ],
          [
           5
          ],
          [
           6
          ],
          [
           14
          ],
          [
           34
          ],
          [
           28
          ],
          [
           45
          ],
          [
           2
          ],
          [
           14
          ],
          [
           29
          ],
          [
           58
          ],
          [
           46
          ],
          [
           85
          ],
          [
           103
          ],
          [
           3
          ],
          [
           1
          ],
          [
           1
          ],
          [
           1
          ],
          [
           1
          ],
          [
           2
          ],
          [
           2
          ],
          [
           2
          ],
          [
           1
          ],
          [
           3
          ],
          [
           1
          ],
          [
           1
          ],
          [
           1
          ],
          [
           1
          ],
          [
           1
          ],
          [
           1
          ],
          [
           1
          ],
          [
           8
          ],
          [
           31
          ],
          [
           56
          ],
          [
           61
          ],
          [
           77
          ],
          [
           85
          ],
          [
           1
          ],
          [
           1
          ],
          [
           1
          ],
          [
           1
          ],
          [
           1
          ],
          [
           1
          ],
          [
           1
          ],
          [
           1
          ],
          [
           5
          ],
          [
           8
          ],
          [
           16
          ],
          [
           11
          ],
          [
           20
          ],
          [
           1
          ],
          [
           1
          ],
          [
           2
          ],
          [
           2
          ],
          [
           1
          ],
          [
           1
          ],
          [
           1
          ],
          [
           2
          ],
          [
           2
          ],
          [
           1
          ],
          [
           1
          ],
          [
           1
          ],
          [
           1
          ],
          [
           2
          ],
          [
           1
          ],
          [
           1
          ],
          [
           2
          ],
          [
           2
          ],
          [
           1
          ],
          [
           1
          ],
          [
           5
          ],
          [
           10
          ],
          [
           17
          ],
          [
           17
          ],
          [
           29
          ],
          [
           27
          ],
          [
           10
          ],
          [
           23
          ],
          [
           45
          ],
          [
           69
          ],
          [
           99
          ],
          [
           131
          ],
          [
           152
          ],
          [
           1
          ],
          [
           2
          ],
          [
           10
          ],
          [
           66
          ],
          [
           178
          ],
          [
           457
          ],
          [
           866
          ],
          [
           1196
          ],
          [
           1403
          ],
          [
           1661
          ],
          [
           1
          ],
          [
           1
          ],
          [
           1
          ],
          [
           1
          ],
          [
           2
          ],
          [
           1
          ],
          [
           2
          ],
          [
           1
          ],
          [
           1
          ],
          [
           2
          ],
          [
           1
          ],
          [
           3
          ],
          [
           1
          ],
          [
           1
          ],
          [
           2
          ],
          [
           2
          ],
          [
           1
          ],
          [
           2
          ],
          [
           1
          ],
          [
           1
          ],
          [
           1
          ],
          [
           1
          ],
          [
           1
          ],
          [
           1
          ],
          [
           4
          ],
          [
           4
          ],
          [
           6
          ],
          [
           5
          ],
          [
           1
          ],
          [
           1
          ],
          [
           1
          ],
          [
           2
          ],
          [
           1
          ],
          [
           4
          ],
          [
           6
          ],
          [
           3
          ],
          [
           1
          ],
          [
           1
          ],
          [
           1
          ],
          [
           1
          ],
          [
           1
          ],
          [
           1
          ],
          [
           2
          ],
          [
           1
          ],
          [
           2
          ],
          [
           1
          ],
          [
           1
          ],
          [
           2
          ],
          [
           1
          ],
          [
           2
          ],
          [
           14
          ],
          [
           38
          ],
          [
           65
          ],
          [
           84
          ],
          [
           91
          ],
          [
           116
          ],
          [
           3
          ],
          [
           1
          ],
          [
           4
          ],
          [
           1
          ],
          [
           1
          ],
          [
           1
          ],
          [
           1
          ],
          [
           3
          ],
          [
           1
          ],
          [
           2
          ],
          [
           1
          ],
          [
           12
          ],
          [
           29
          ],
          [
           38
          ],
          [
           52
          ],
          [
           59
          ],
          [
           53
          ],
          [
           1
          ],
          [
           1
          ],
          [
           1
          ],
          [
           1
          ],
          [
           2
          ],
          [
           1
          ],
          [
           1
          ],
          [
           1
          ],
          [
           1
          ],
          [
           2
          ],
          [
           6
          ],
          [
           1
          ],
          [
           2
          ],
          [
           2
          ],
          [
           1
          ],
          [
           1
          ],
          [
           1
          ],
          [
           2
          ],
          [
           1
          ],
          [
           1
          ],
          [
           4
          ],
          [
           3
          ],
          [
           5
          ],
          [
           1
          ],
          [
           1
          ],
          [
           1
          ],
          [
           2
          ],
          [
           3
          ],
          [
           7
          ],
          [
           16
          ],
          [
           16
          ],
          [
           31
          ],
          [
           1
          ],
          [
           2
          ],
          [
           2
          ],
          [
           1
          ],
          [
           3
          ],
          [
           3
          ],
          [
           4
          ],
          [
           1
          ],
          [
           1
          ],
          [
           1
          ],
          [
           1
          ],
          [
           1
          ],
          [
           1
          ],
          [
           1
          ],
          [
           1
          ],
          [
           1
          ],
          [
           1.4
          ],
          [
           5.083333333333333
          ],
          [
           31.640522875816995
          ],
          [
           71.04
          ],
          [
           183.9047931713723
          ],
          [
           356.8534910339565
          ],
          [
           486.66353635631873
          ],
          [
           565.5115658362989
          ],
          [
           678.9514989497804
          ]
         ],
         "domain": {
          "x": [
           0,
           1
          ],
          "y": [
           0,
           1
          ]
         },
         "hovertemplate": "labels=%{label}<br>ocurrencias_sum=%{value}<br>parent=%{parent}<br>id=%{id}<br>Ocurrencias=%{color}<extra></extra>",
         "ids": [
          "15/Acondroplasia",
          "18/Acondroplasia",
          "16/Afección no especificada originada en el período perinatal",
          "17/Afección no especificada originada en el período perinatal",
          "18/Afección no especificada originada en el período perinatal",
          "19/Afección no especificada originada en el período perinatal",
          "19/Agenesia renal, bilateral",
          "17/Agenesia renal, sin otra especificación",
          "18/Agenesia renal, sin otra especificación",
          "19/Agenesia renal, sin otra especificación",
          "13/Anencefalia",
          "14/Anencefalia",
          "15/Anencefalia",
          "16/Anencefalia",
          "17/Anencefalia",
          "18/Anencefalia",
          "19/Anencefalia",
          "14/Anomalía cromosómica, no especificada",
          "15/Anomalía cromosómica, no especificada",
          "16/Anomalía cromosómica, no especificada",
          "17/Anomalía cromosómica, no especificada",
          "18/Anomalía cromosómica, no especificada",
          "19/Anomalía cromosómica, no especificada",
          "16/Anomalía de Ebstein",
          "14/Atresia de los agujeros de Magendie y de Luschka",
          "16/Atresia de los agujeros de Magendie y de Luschka",
          "18/Atresia de los agujeros de Magendie y de Luschka",
          "19/Atresia de los agujeros de Magendie y de Luschka",
          "15/Ausencia e hipoplasia congénita de la arteria umbilical",
          "19/Ausencia e hipoplasia congénita de la arteria umbilical",
          "18/Ausencia, atresia y estenosis congénita del ano, sin fístula",
          "12/Bajo peso para la edad gestacional",
          "13/Bajo peso para la edad gestacional",
          "14/Bajo peso para la edad gestacional",
          "15/Bajo peso para la edad gestacional",
          "16/Bajo peso para la edad gestacional",
          "17/Bajo peso para la edad gestacional",
          "18/Bajo peso para la edad gestacional",
          "19/Bajo peso para la edad gestacional",
          "16/Complicaciones de procedimientos intrauterinos, no clasificados en otra parte",
          "19/Complicaciones de procedimientos intrauterinos, no clasificados en otra parte",
          "17/Craneosinostosis",
          "13/Desnutrición fetal, sin mención de peso o talla bajos para la edad gestacional",
          "14/Desnutrición fetal, sin mención de peso o talla bajos para la edad gestacional",
          "15/Desnutrición fetal, sin mención de peso o talla bajos para la edad gestacional",
          "16/Desnutrición fetal, sin mención de peso o talla bajos para la edad gestacional",
          "17/Desnutrición fetal, sin mención de peso o talla bajos para la edad gestacional",
          "18/Desnutrición fetal, sin mención de peso o talla bajos para la edad gestacional",
          "19/Desnutrición fetal, sin mención de peso o talla bajos para la edad gestacional",
          "17/Dextrocardia",
          "17/Discordancia de la conexión ventriculoarterial",
          "15/Displasia renal",
          "16/Displasia renal",
          "18/Displasia renal",
          "18/Dolicocefalia",
          "17/Encefalocele occipital",
          "14/Encefalocele, no especificado",
          "16/Encefalocele, no especificado",
          "17/Encefalocele, no especificado",
          "18/Encefalocele, no especificado",
          "19/Encefalocele, no especificado",
          "18/Enfermedad hemolítica del feto y del recién nacido, no especificada",
          "19/Enfermedad hemolítica del feto y del recién nacido, no especificada",
          "18/Enfermedad infecciosa y parasitaria congénita, no especificada",
          "18/Enfermedad viral congénita, sin otra especificación",
          "14/Espina bífida, no especificada",
          "15/Espina bífida, no especificada",
          "16/Espina bífida, no especificada",
          "17/Espina bífida, no especificada",
          "18/Espina bífida, no especificada",
          "19/Espina bífida, no especificada",
          "16/Exónfalos",
          "17/Exónfalos",
          "18/Exónfalos",
          "19/Exónfalos",
          "13/Feto y recién nacido afectados por afección materna no especificada",
          "14/Feto y recién nacido afectados por afección materna no especificada",
          "15/Feto y recién nacido afectados por afección materna no especificada",
          "16/Feto y recién nacido afectados por afección materna no especificada",
          "17/Feto y recién nacido afectados por afección materna no especificada",
          "18/Feto y recién nacido afectados por afección materna no especificada",
          "19/Feto y recién nacido afectados por afección materna no especificada",
          "13/Feto y recién nacido afectados por anormalidad no especificada de las membranas",
          "15/Feto y recién nacido afectados por anormalidad no especificada de las membranas",
          "16/Feto y recién nacido afectados por anormalidad no especificada de las membranas",
          "17/Feto y recién nacido afectados por anormalidad no especificada de las membranas",
          "18/Feto y recién nacido afectados por anormalidad no especificada de las membranas",
          "19/Feto y recién nacido afectados por anormalidad no especificada de las membranas",
          "13/Feto y recién nacido afectados por complicaciones maternas no especificadas del embarazo",
          "14/Feto y recién nacido afectados por complicaciones maternas no especificadas del embarazo",
          "15/Feto y recién nacido afectados por complicaciones maternas no especificadas del embarazo",
          "16/Feto y recién nacido afectados por complicaciones maternas no especificadas del embarazo",
          "17/Feto y recién nacido afectados por complicaciones maternas no especificadas del embarazo",
          "18/Feto y recién nacido afectados por complicaciones maternas no especificadas del embarazo",
          "19/Feto y recién nacido afectados por complicaciones maternas no especificadas del embarazo",
          "14/Feto y recién nacido afectados por complicaciones no especificadas del trabajo de parto y del parto",
          "15/Feto y recién nacido afectados por complicaciones no especificadas del trabajo de parto y del parto",
          "16/Feto y recién nacido afectados por complicaciones no especificadas del trabajo de parto y del parto",
          "17/Feto y recién nacido afectados por complicaciones no especificadas del trabajo de parto y del parto",
          "18/Feto y recién nacido afectados por complicaciones no especificadas del trabajo de parto y del parto",
          "19/Feto y recién nacido afectados por complicaciones no especificadas del trabajo de parto y del parto",
          "15/Feto y recién nacido afectados por contracciones uterinas anormales",
          "16/Feto y recién nacido afectados por contracciones uterinas anormales",
          "17/Feto y recién nacido afectados por contracciones uterinas anormales",
          "18/Feto y recién nacido afectados por contracciones uterinas anormales",
          "19/Feto y recién nacido afectados por contracciones uterinas anormales",
          "13/Feto y recién nacido afectados por corioamnionitis",
          "14/Feto y recién nacido afectados por corioamnionitis",
          "15/Feto y recién nacido afectados por corioamnionitis",
          "16/Feto y recién nacido afectados por corioamnionitis",
          "17/Feto y recién nacido afectados por corioamnionitis",
          "18/Feto y recién nacido afectados por corioamnionitis",
          "19/Feto y recién nacido afectados por corioamnionitis",
          "15/Feto y recién nacido afectados por drogadicción materna",
          "18/Feto y recién nacido afectados por drogadicción materna",
          "19/Feto y recién nacido afectados por drogadicción materna",
          "16/Feto y recién nacido afectados por embarazo ectópico",
          "17/Feto y recién nacido afectados por embarazo ectópico",
          "16/Feto y recién nacido afectados por embarazo múltiple",
          "17/Feto y recién nacido afectados por embarazo múltiple",
          "18/Feto y recién nacido afectados por embarazo múltiple",
          "19/Feto y recién nacido afectados por embarazo múltiple",
          "13/Feto y recién nacido afectados por enfermedades infecciosas y parasitarias de la madre",
          "14/Feto y recién nacido afectados por enfermedades infecciosas y parasitarias de la madre",
          "15/Feto y recién nacido afectados por enfermedades infecciosas y parasitarias de la madre",
          "16/Feto y recién nacido afectados por enfermedades infecciosas y parasitarias de la madre",
          "17/Feto y recién nacido afectados por enfermedades infecciosas y parasitarias de la madre",
          "18/Feto y recién nacido afectados por enfermedades infecciosas y parasitarias de la madre",
          "19/Feto y recién nacido afectados por enfermedades infecciosas y parasitarias de la madre",
          "12/Feto y recién nacido afectados por enfermedades renales y de las vías urinarias de la madre",
          "13/Feto y recién nacido afectados por enfermedades renales y de las vías urinarias de la madre",
          "14/Feto y recién nacido afectados por enfermedades renales y de las vías urinarias de la madre",
          "15/Feto y recién nacido afectados por enfermedades renales y de las vías urinarias de la madre",
          "16/Feto y recién nacido afectados por enfermedades renales y de las vías urinarias de la madre",
          "17/Feto y recién nacido afectados por enfermedades renales y de las vías urinarias de la madre",
          "18/Feto y recién nacido afectados por enfermedades renales y de las vías urinarias de la madre",
          "19/Feto y recién nacido afectados por enfermedades renales y de las vías urinarias de la madre",
          "12/Feto y recién nacido afectados por incompetencia del cuello uterino",
          "13/Feto y recién nacido afectados por incompetencia del cuello uterino",
          "14/Feto y recién nacido afectados por incompetencia del cuello uterino",
          "15/Feto y recién nacido afectados por incompetencia del cuello uterino",
          "16/Feto y recién nacido afectados por incompetencia del cuello uterino",
          "17/Feto y recién nacido afectados por incompetencia del cuello uterino",
          "18/Feto y recién nacido afectados por incompetencia del cuello uterino",
          "19/Feto y recién nacido afectados por incompetencia del cuello uterino",
          "16/Feto y recién nacido afectados por influencias nocivas de la madre, no especificadas",
          "18/Feto y recién nacido afectados por influencias nocivas de la madre, no especificadas",
          "15/Feto y recién nacido afectados por muerte materna",
          "18/Feto y recién nacido afectados por muerte materna",
          "13/Feto y recién nacido afectados por oligohidramnios",
          "14/Feto y recién nacido afectados por oligohidramnios",
          "15/Feto y recién nacido afectados por oligohidramnios",
          "16/Feto y recién nacido afectados por oligohidramnios",
          "17/Feto y recién nacido afectados por oligohidramnios",
          "18/Feto y recién nacido afectados por oligohidramnios",
          "19/Feto y recién nacido afectados por oligohidramnios",
          "12/Feto y recién nacido afectados por otra compresión del cordón umbilical",
          "13/Feto y recién nacido afectados por otra compresión del cordón umbilical",
          "14/Feto y recién nacido afectados por otra compresión del cordón umbilical",
          "15/Feto y recién nacido afectados por otra compresión del cordón umbilical",
          "16/Feto y recién nacido afectados por otra compresión del cordón umbilical",
          "17/Feto y recién nacido afectados por otra compresión del cordón umbilical",
          "18/Feto y recién nacido afectados por otra compresión del cordón umbilical",
          "19/Feto y recién nacido afectados por otra compresión del cordón umbilical",
          "14/Feto y recién nacido afectados por otra presentación anómala, posición anómala y desproporción durante el trabajo de parto y el parto",
          "15/Feto y recién nacido afectados por otra presentación anómala, posición anómala y desproporción durante el trabajo de parto y el parto",
          "16/Feto y recién nacido afectados por otra presentación anómala, posición anómala y desproporción durante el trabajo de parto y el parto",
          "17/Feto y recién nacido afectados por otra presentación anómala, posición anómala y desproporción durante el trabajo de parto y el parto",
          "18/Feto y recién nacido afectados por otra presentación anómala, posición anómala y desproporción durante el trabajo de parto y el parto",
          "19/Feto y recién nacido afectados por otra presentación anómala, posición anómala y desproporción durante el trabajo de parto y el parto",
          "13/Feto y recién nacido afectados por otras afecciones maternas",
          "14/Feto y recién nacido afectados por otras afecciones maternas",
          "15/Feto y recién nacido afectados por otras afecciones maternas",
          "16/Feto y recién nacido afectados por otras afecciones maternas",
          "17/Feto y recién nacido afectados por otras afecciones maternas",
          "18/Feto y recién nacido afectados por otras afecciones maternas",
          "19/Feto y recién nacido afectados por otras afecciones maternas",
          "13/Feto y recién nacido afectados por otras anormalidades de las membranas",
          "15/Feto y recién nacido afectados por otras anormalidades de las membranas",
          "16/Feto y recién nacido afectados por otras anormalidades de las membranas",
          "18/Feto y recién nacido afectados por otras anormalidades de las membranas",
          "19/Feto y recién nacido afectados por otras anormalidades de las membranas",
          "12/Feto y recién nacido afectados por otras anormalidades morfológicas y funcionales de la placenta y las no especificadas",
          "13/Feto y recién nacido afectados por otras anormalidades morfológicas y funcionales de la placenta y las no especificadas",
          "14/Feto y recién nacido afectados por otras anormalidades morfológicas y funcionales de la placenta y las no especificadas",
          "15/Feto y recién nacido afectados por otras anormalidades morfológicas y funcionales de la placenta y las no especificadas",
          "16/Feto y recién nacido afectados por otras anormalidades morfológicas y funcionales de la placenta y las no especificadas",
          "17/Feto y recién nacido afectados por otras anormalidades morfológicas y funcionales de la placenta y las no especificadas",
          "18/Feto y recién nacido afectados por otras anormalidades morfológicas y funcionales de la placenta y las no especificadas",
          "19/Feto y recién nacido afectados por otras anormalidades morfológicas y funcionales de la placenta y las no especificadas",
          "14/Feto y recién nacido afectados por otras complicaciones del cordón umbilical y las no especificadas",
          "15/Feto y recién nacido afectados por otras complicaciones del cordón umbilical y las no especificadas",
          "16/Feto y recién nacido afectados por otras complicaciones del cordón umbilical y las no especificadas",
          "17/Feto y recién nacido afectados por otras complicaciones del cordón umbilical y las no especificadas",
          "18/Feto y recién nacido afectados por otras complicaciones del cordón umbilical y las no especificadas",
          "19/Feto y recién nacido afectados por otras complicaciones del cordón umbilical y las no especificadas",
          "13/Feto y recién nacido afectados por otras complicaciones especificadas del trabajo de parto y del parto",
          "14/Feto y recién nacido afectados por otras complicaciones especificadas del trabajo de parto y del parto",
          "15/Feto y recién nacido afectados por otras complicaciones especificadas del trabajo de parto y del parto",
          "16/Feto y recién nacido afectados por otras complicaciones especificadas del trabajo de parto y del parto",
          "17/Feto y recién nacido afectados por otras complicaciones especificadas del trabajo de parto y del parto",
          "18/Feto y recién nacido afectados por otras complicaciones especificadas del trabajo de parto y del parto",
          "19/Feto y recién nacido afectados por otras complicaciones especificadas del trabajo de parto y del parto",
          "11/Feto y recién nacido afectados por otras complicaciones maternas del embarazo",
          "12/Feto y recién nacido afectados por otras complicaciones maternas del embarazo",
          "13/Feto y recién nacido afectados por otras complicaciones maternas del embarazo",
          "14/Feto y recién nacido afectados por otras complicaciones maternas del embarazo",
          "15/Feto y recién nacido afectados por otras complicaciones maternas del embarazo",
          "16/Feto y recién nacido afectados por otras complicaciones maternas del embarazo",
          "17/Feto y recién nacido afectados por otras complicaciones maternas del embarazo",
          "18/Feto y recién nacido afectados por otras complicaciones maternas del embarazo",
          "19/Feto y recién nacido afectados por otras complicaciones maternas del embarazo",
          "14/Feto y recién nacido afectados por otras enfermedades circulatorias y respiratorias de la madre",
          "16/Feto y recién nacido afectados por otras enfermedades circulatorias y respiratorias de la madre",
          "19/Feto y recién nacido afectados por otras enfermedades circulatorias y respiratorias de la madre",
          "12/Feto y recién nacido afectados por otras formas de desprendimiento y de hemorragia placentarios",
          "13/Feto y recién nacido afectados por otras formas de desprendimiento y de hemorragia placentarios",
          "14/Feto y recién nacido afectados por otras formas de desprendimiento y de hemorragia placentarios",
          "15/Feto y recién nacido afectados por otras formas de desprendimiento y de hemorragia placentarios",
          "16/Feto y recién nacido afectados por otras formas de desprendimiento y de hemorragia placentarios",
          "17/Feto y recién nacido afectados por otras formas de desprendimiento y de hemorragia placentarios",
          "18/Feto y recién nacido afectados por otras formas de desprendimiento y de hemorragia placentarios",
          "19/Feto y recién nacido afectados por otras formas de desprendimiento y de hemorragia placentarios",
          "15/Feto y recién nacido afectados por otras medicaciones maternas",
          "17/Feto y recién nacido afectados por otras medicaciones maternas",
          "18/Feto y recién nacido afectados por otras medicaciones maternas",
          "15/Feto y recién nacido afectados por parto con fórceps",
          "15/Feto y recién nacido afectados por parto precipitado",
          "16/Feto y recién nacido afectados por parto precipitado",
          "17/Feto y recién nacido afectados por parto precipitado",
          "18/Feto y recién nacido afectados por parto precipitado",
          "19/Feto y recién nacido afectados por parto precipitado",
          "14/Feto y recién nacido afectados por parto y extracción de nalgas",
          "15/Feto y recién nacido afectados por parto y extracción de nalgas",
          "16/Feto y recién nacido afectados por parto y extracción de nalgas",
          "17/Feto y recién nacido afectados por parto y extracción de nalgas",
          "18/Feto y recién nacido afectados por parto y extracción de nalgas",
          "19/Feto y recién nacido afectados por parto y extracción de nalgas",
          "13/Feto y recién nacido afectados por placenta previa",
          "14/Feto y recién nacido afectados por placenta previa",
          "15/Feto y recién nacido afectados por placenta previa",
          "16/Feto y recién nacido afectados por placenta previa",
          "17/Feto y recién nacido afectados por placenta previa",
          "18/Feto y recién nacido afectados por placenta previa",
          "19/Feto y recién nacido afectados por placenta previa",
          "13/Feto y recién nacido afectados por polihidramnios",
          "14/Feto y recién nacido afectados por polihidramnios",
          "15/Feto y recién nacido afectados por polihidramnios",
          "16/Feto y recién nacido afectados por polihidramnios",
          "17/Feto y recién nacido afectados por polihidramnios",
          "18/Feto y recién nacido afectados por polihidramnios",
          "19/Feto y recién nacido afectados por polihidramnios",
          "14/Feto y recién nacido afectados por presentación anómala antes del trabajo de parto",
          "15/Feto y recién nacido afectados por presentación anómala antes del trabajo de parto",
          "16/Feto y recién nacido afectados por presentación anómala antes del trabajo de parto",
          "17/Feto y recién nacido afectados por presentación anómala antes del trabajo de parto",
          "18/Feto y recién nacido afectados por presentación anómala antes del trabajo de parto",
          "19/Feto y recién nacido afectados por presentación anómala antes del trabajo de parto",
          "12/Feto y recién nacido afectados por prolapso del cordón umbilical",
          "13/Feto y recién nacido afectados por prolapso del cordón umbilical",
          "14/Feto y recién nacido afectados por prolapso del cordón umbilical",
          "15/Feto y recién nacido afectados por prolapso del cordón umbilical",
          "16/Feto y recién nacido afectados por prolapso del cordón umbilical",
          "17/Feto y recién nacido afectados por prolapso del cordón umbilical",
          "18/Feto y recién nacido afectados por prolapso del cordón umbilical",
          "19/Feto y recién nacido afectados por prolapso del cordón umbilical",
          "12/Feto y recién nacido afectados por ruptura prematura de las membranas",
          "13/Feto y recién nacido afectados por ruptura prematura de las membranas",
          "14/Feto y recién nacido afectados por ruptura prematura de las membranas",
          "15/Feto y recién nacido afectados por ruptura prematura de las membranas",
          "16/Feto y recién nacido afectados por ruptura prematura de las membranas",
          "17/Feto y recién nacido afectados por ruptura prematura de las membranas",
          "18/Feto y recién nacido afectados por ruptura prematura de las membranas",
          "19/Feto y recién nacido afectados por ruptura prematura de las membranas",
          "15/Feto y recién nacido afectados por síndromes de transfusión placentaria",
          "16/Feto y recién nacido afectados por síndromes de transfusión placentaria",
          "17/Feto y recién nacido afectados por síndromes de transfusión placentaria",
          "18/Feto y recién nacido afectados por síndromes de transfusión placentaria",
          "19/Feto y recién nacido afectados por síndromes de transfusión placentaria",
          "13/Feto y recién nacido afectados por trastornos hipertensivos de la madre",
          "14/Feto y recién nacido afectados por trastornos hipertensivos de la madre",
          "15/Feto y recién nacido afectados por trastornos hipertensivos de la madre",
          "16/Feto y recién nacido afectados por trastornos hipertensivos de la madre",
          "17/Feto y recién nacido afectados por trastornos hipertensivos de la madre",
          "18/Feto y recién nacido afectados por trastornos hipertensivos de la madre",
          "19/Feto y recién nacido afectados por trastornos hipertensivos de la madre",
          "16/Feto y recién nacido afectados por trastornos nutricionales de la madre",
          "17/Feto y recién nacido afectados por trastornos nutricionales de la madre",
          "18/Feto y recién nacido afectados por trastornos nutricionales de la madre",
          "19/Feto y recién nacido afectados por trastornos nutricionales de la madre",
          "14/Feto y recién nacido afectados por traumatismo de la madre",
          "15/Feto y recién nacido afectados por traumatismo de la madre",
          "16/Feto y recién nacido afectados por traumatismo de la madre",
          "17/Feto y recién nacido afectados por traumatismo de la madre",
          "18/Feto y recién nacido afectados por traumatismo de la madre",
          "19/Feto y recién nacido afectados por traumatismo de la madre",
          "14/Gastrosquisis",
          "15/Gastrosquisis",
          "16/Gastrosquisis",
          "17/Gastrosquisis",
          "18/Gastrosquisis",
          "19/Gastrosquisis",
          "15/Hemorragia fetal hacia la circulación materna",
          "16/Hemorragia fetal hacia la circulación materna",
          "19/Hemorragia fetal hacia la circulación materna",
          "17/Hemorragia intracerebral (no traumática) del feto y del recién nacido",
          "18/Hemorragia intracerebral (no traumática) del feto y del recién nacido",
          "19/Hemorragia intracerebral (no traumática) del feto y del recién nacido",
          "15/Hemorragia intracraneal (no traumática) del feto y del recién nacido, sin otra especificación",
          "18/Hemorragia intracraneal (no traumática) del feto y del recién nacido, sin otra especificación",
          "15/Hemorragia intraventricular (no traumática) del feto y del recién nacido, sin otra especificación",
          "17/Hemorragia intraventricular (no traumática) del feto y del recién nacido, sin otra especificación",
          "18/Hemorragia intraventricular (no traumática) del feto y del recién nacido, sin otra especificación",
          "19/Hemorragia intraventricular (no traumática) del feto y del recién nacido, sin otra especificación",
          "19/Hemorragia intraventricular (no traumática) grado 1, del feto y del recién nacido",
          "19/Hernia diafragmática congénita",
          "14/Hidrocéfalo congénito, no especificado",
          "15/Hidrocéfalo congénito, no especificado",
          "16/Hidrocéfalo congénito, no especificado",
          "17/Hidrocéfalo congénito, no especificado",
          "18/Hidrocéfalo congénito, no especificado",
          "19/Hidrocéfalo congénito, no especificado",
          "19/Hidronefrosis congénita",
          "15/Hidropesía fetal debida a incompatibilidad",
          "18/Hidropesía fetal debida a incompatibilidad",
          "14/Hidropesía fetal debida a otras enfermedades hemolíticas especificadas y a las no especificadas",
          "16/Hidropesía fetal debida a otras enfermedades hemolíticas especificadas y a las no especificadas",
          "17/Hidropesía fetal debida a otras enfermedades hemolíticas especificadas y a las no especificadas",
          "18/Hidropesía fetal debida a otras enfermedades hemolíticas especificadas y a las no especificadas",
          "19/Hidropesía fetal debida a otras enfermedades hemolíticas especificadas y a las no especificadas",
          "14/Hidropesía fetal no debida a enfermedad hemolítica",
          "15/Hidropesía fetal no debida a enfermedad hemolítica",
          "16/Hidropesía fetal no debida a enfermedad hemolítica",
          "17/Hidropesía fetal no debida a enfermedad hemolítica",
          "18/Hidropesía fetal no debida a enfermedad hemolítica",
          "19/Hidropesía fetal no debida a enfermedad hemolítica",
          "17/Hipoplasia renal, no especificada",
          "15/Hipoplasia y displasia pulmonar",
          "16/Hipoplasia y displasia pulmonar",
          "17/Hipoplasia y displasia pulmonar",
          "18/Hipoplasia y displasia pulmonar",
          "19/Hipoplasia y displasia pulmonar",
          "11/Hipoxia intrauterina notada por primera vez antes del inicio del trabajo de parto",
          "12/Hipoxia intrauterina notada por primera vez antes del inicio del trabajo de parto",
          "13/Hipoxia intrauterina notada por primera vez antes del inicio del trabajo de parto",
          "14/Hipoxia intrauterina notada por primera vez antes del inicio del trabajo de parto",
          "15/Hipoxia intrauterina notada por primera vez antes del inicio del trabajo de parto",
          "16/Hipoxia intrauterina notada por primera vez antes del inicio del trabajo de parto",
          "17/Hipoxia intrauterina notada por primera vez antes del inicio del trabajo de parto",
          "18/Hipoxia intrauterina notada por primera vez antes del inicio del trabajo de parto",
          "19/Hipoxia intrauterina notada por primera vez antes del inicio del trabajo de parto",
          "13/Hipoxia intrauterina notada por primera vez durante el trabajo de parto y el parto",
          "14/Hipoxia intrauterina notada por primera vez durante el trabajo de parto y el parto",
          "15/Hipoxia intrauterina notada por primera vez durante el trabajo de parto y el parto",
          "16/Hipoxia intrauterina notada por primera vez durante el trabajo de parto y el parto",
          "17/Hipoxia intrauterina notada por primera vez durante el trabajo de parto y el parto",
          "18/Hipoxia intrauterina notada por primera vez durante el trabajo de parto y el parto",
          "19/Hipoxia intrauterina notada por primera vez durante el trabajo de parto y el parto",
          "13/Hipoxia intrauterina, no especificada",
          "14/Hipoxia intrauterina, no especificada",
          "15/Hipoxia intrauterina, no especificada",
          "16/Hipoxia intrauterina, no especificada",
          "17/Hipoxia intrauterina, no especificada",
          "18/Hipoxia intrauterina, no especificada",
          "19/Hipoxia intrauterina, no especificada",
          "19/Holoprosencefalia",
          "16/Incompatibilidad Rh del feto y del recién nacido",
          "17/Incompatibilidad Rh del feto y del recién nacido",
          "19/Incompatibilidad Rh del feto y del recién nacido",
          "16/Infección intraamniótica del feto, no clasificada en otra parte",
          "17/Infección intraamniótica del feto, no clasificada en otra parte",
          "18/Infección intraamniótica del feto, no clasificada en otra parte",
          "16/Infección propia del período perinatal, no especificada",
          "17/Infección propia del período perinatal, no especificada",
          "19/Infección propia del período perinatal, no especificada",
          "17/Levocardia",
          "16/Macrocefalia",
          "19/Macrocefalia",
          "15/Malformaciones congénitas del cuerpo calloso",
          "17/Malformaciones congénitas del cuerpo calloso",
          "11/Malformaciones congénitas múltiples, no clasificadas en otra parte",
          "13/Malformaciones congénitas múltiples, no clasificadas en otra parte",
          "14/Malformaciones congénitas múltiples, no clasificadas en otra parte",
          "15/Malformaciones congénitas múltiples, no clasificadas en otra parte",
          "16/Malformaciones congénitas múltiples, no clasificadas en otra parte",
          "17/Malformaciones congénitas múltiples, no clasificadas en otra parte",
          "18/Malformaciones congénitas múltiples, no clasificadas en otra parte",
          "19/Malformaciones congénitas múltiples, no clasificadas en otra parte",
          "14/Malformación congénita de la cara y del cuello, no especificada",
          "15/Malformación congénita de la cara y del cuello, no especificada",
          "18/Malformación congénita de la cara y del cuello, no especificada",
          "17/Malformación congénita de la parte superior del tubo digestivo, no especificada",
          "17/Malformación congénita de las cámaras cardíacas y sus conexiones, no especificada",
          "17/Malformación congénita del aparato urinario, no especificada",
          "18/Malformación congénita del aparato urinario, no especificada",
          "14/Malformación congénita del corazón, no especificada",
          "15/Malformación congénita del corazón, no especificada",
          "16/Malformación congénita del corazón, no especificada",
          "17/Malformación congénita del corazón, no especificada",
          "18/Malformación congénita del corazón, no especificada",
          "19/Malformación congénita del corazón, no especificada",
          "10/Malformación congénita del encéfalo, no especificada",
          "17/Malformación congénita del encéfalo, no especificada",
          "18/Malformación congénita del encéfalo, no especificada",
          "19/Malformación congénita del encéfalo, no especificada",
          "19/Malformación congénita del estómago, no especificada",
          "12/Malformación congénita del pulmón, no especificada",
          "15/Malformación congénita del pulmón, no especificada",
          "16/Malformación congénita del pulmón, no especificada",
          "17/Malformación congénita del pulmón, no especificada",
          "17/Malformación congénita del riñón, no especificada",
          "19/Malformación congénita del riñón, no especificada",
          "14/Malformación congénita del sistema digestivo, no especificada",
          "18/Malformación congénita del sistema digestivo, no especificada",
          "19/Malformación congénita del sistema digestivo, no especificada",
          "17/Malformación congénita del sistema osteomuscular, no especificada",
          "19/Malformación congénita del sistema osteomuscular, no especificada",
          "17/Malformación congénita no especificada de los huesos del cráneo y de la cara",
          "18/Malformación congénita no especificada de los huesos del cráneo y de la cara",
          "19/Malformación congénita no especificada de los huesos del cráneo y de la cara",
          "13/Malformación congénita, no especificada",
          "14/Malformación congénita, no especificada",
          "15/Malformación congénita, no especificada",
          "16/Malformación congénita, no especificada",
          "17/Malformación congénita, no especificada",
          "18/Malformación congénita, no especificada",
          "19/Malformación congénita, no especificada",
          "13/Muerte fetal de causa no especificada",
          "14/Muerte fetal de causa no especificada",
          "15/Muerte fetal de causa no especificada",
          "16/Muerte fetal de causa no especificada",
          "17/Muerte fetal de causa no especificada",
          "18/Muerte fetal de causa no especificada",
          "19/Muerte fetal de causa no especificada",
          "18/Osteocondrodisplasia con defectos del crecimiento de los huesos largos y de la columna vertebral, sin otra especificación",
          "11/Otras afecciones especificadas originadas en el período perinatal",
          "12/Otras afecciones especificadas originadas en el período perinatal",
          "13/Otras afecciones especificadas originadas en el período perinatal",
          "14/Otras afecciones especificadas originadas en el período perinatal",
          "15/Otras afecciones especificadas originadas en el período perinatal",
          "16/Otras afecciones especificadas originadas en el período perinatal",
          "17/Otras afecciones especificadas originadas en el período perinatal",
          "18/Otras afecciones especificadas originadas en el período perinatal",
          "19/Otras afecciones especificadas originadas en el período perinatal",
          "17/Otras anemias congénitas, no clasificadas en otra parte",
          "17/Otras anomalías de los cromosomas, especificadas",
          "18/Otras anomalías de los cromosomas, especificadas",
          "18/Otras anomalías hipoplásicas del encéfalo",
          "19/Otras anomalías hipoplásicas del encéfalo",
          "14/Otras enfermedades hemolíticas del feto y del recién nacido",
          "17/Otras enfermedades hemolíticas del feto y del recién nacido",
          "16/Otras hemorragias fetales y neonatales especificadas",
          "15/Otras infecciones especificadas propias del período perinatal",
          "17/Otras infecciones especificadas propias del período perinatal",
          "17/Otras malformaciones congénitas de la pared abdominal",
          "19/Otras malformaciones congénitas de la pared abdominal",
          "16/Otras malformaciones congénitas de la vejiga y de la uretra",
          "18/Otras malformaciones congénitas de las cámaras cardíacas y sus conexiones",
          "16/Otras malformaciones congénitas del corazón, especificadas",
          "17/Otras malformaciones congénitas del corazón, especificadas",
          "18/Otras malformaciones congénitas del corazón, especificadas",
          "19/Otras malformaciones congénitas del corazón, especificadas",
          "16/Otras malformaciones congénitas del encéfalo, especificadas",
          "18/Otras malformaciones congénitas del encéfalo, especificadas",
          "15/Otras malformaciones congénitas del pulmón",
          "18/Otras malformaciones congénitas del sistema digestivo, especificadas",
          "19/Otras malformaciones congénitas del sistema nervioso, especificadas",
          "15/Otras malformaciones congénitas del sistema nervioso, no especificada",
          "16/Otras malformaciones congénitas del sistema nervioso, no especificada",
          "17/Otras malformaciones congénitas del sistema nervioso, no especificada",
          "18/Otras malformaciones congénitas del sistema nervioso, no especificada",
          "19/Otras malformaciones congénitas del sistema nervioso, no especificada",
          "15/Otras malformaciones congénitas del sistema osteomuscular",
          "17/Otras malformaciones congénitas especificadas de la médula espinal",
          "14/Otras malformaciones congénitas, especificadas",
          "15/Otras malformaciones congénitas, especificadas",
          "16/Otras malformaciones congénitas, especificadas",
          "17/Otras malformaciones congénitas, especificadas",
          "18/Otras malformaciones congénitas, especificadas",
          "19/Otras malformaciones congénitas, especificadas",
          "19/Otras pérdidas de sangre fetal",
          "16/Otras supresiones de parte de un cromosoma",
          "18/Otros recién nacidos con sobrepeso para la edad gestacional",
          "19/Otros recién nacidos con sobrepeso para la edad gestacional",
          "17/Otros síndromes de malformaciones congénitas debidos a causas exógenas conocidas",
          "16/Otros síndromes de malformaciones congénitas especificados, no clasificados en otra parte",
          "17/Otros síndromes de malformaciones congénitas especificados, no clasificados en otra parte",
          "18/Otros síndromes de malformaciones congénitas especificados, no clasificados en otra parte",
          "19/Otros síndromes de malformaciones congénitas especificados, no clasificados en otra parte",
          "15/Otros trastornos cardiovasculares originados en el período perinatal",
          "16/Otros trastornos cardiovasculares originados en el período perinatal",
          "19/Otros trastornos cardiovasculares originados en el período perinatal",
          "15/Otros trastornos hematológicos perinatales especificados",
          "13/Pequeño para la edad gestacional",
          "14/Pequeño para la edad gestacional",
          "15/Pequeño para la edad gestacional",
          "16/Pequeño para la edad gestacional",
          "17/Pequeño para la edad gestacional",
          "18/Pequeño para la edad gestacional",
          "19/Pequeño para la edad gestacional",
          "17/Persistencia de la circulación fetal",
          "18/Persistencia de la circulación fetal",
          "19/Persistencia de la circulación fetal",
          "19/Pérdida de sangre fetal, no especificada",
          "13/Quistes cerebrales congénitos",
          "14/Recién nacido postérmino sin sobrepeso para su edad gestacional",
          "15/Recién nacido postérmino sin sobrepeso para su edad gestacional",
          "17/Recién nacido postérmino sin sobrepeso para su edad gestacional",
          "18/Recién nacido postérmino sin sobrepeso para su edad gestacional",
          "19/Recién nacido postérmino sin sobrepeso para su edad gestacional",
          "13/Retardo del crecimiento fetal, no especificado",
          "14/Retardo del crecimiento fetal, no especificado",
          "15/Retardo del crecimiento fetal, no especificado",
          "16/Retardo del crecimiento fetal, no especificado",
          "17/Retardo del crecimiento fetal, no especificado",
          "18/Retardo del crecimiento fetal, no especificado",
          "19/Retardo del crecimiento fetal, no especificado",
          "15/Riñón poliquístico, autosómico recesivo",
          "18/Riñón poliquístico, autosómico recesivo",
          "16/Riñón poliquístico, tipo no especificado",
          "18/Riñón poliquístico, tipo no especificado",
          "19/Riñón poliquístico, tipo no especificado",
          "17/Síndrome de Arnold-Chiari",
          "14/Síndrome de Down, no especificado",
          "16/Síndrome de Down, no especificado",
          "17/Síndrome de Down, no especificado",
          "18/Síndrome de Down, no especificado",
          "19/Síndrome de Down, no especificado",
          "15/Síndrome de Edwards, no especificado",
          "16/Síndrome de Edwards, no especificado",
          "19/Síndrome de Edwards, no especificado",
          "15/Síndrome de Patau, no especificado",
          "16/Síndrome de Patau, no especificado",
          "17/Síndrome de Patau, no especificado",
          "19/Síndrome de Patau, no especificado",
          "14/Síndrome de Potter",
          "16/Síndrome de Potter",
          "17/Síndrome de Potter",
          "18/Síndrome de Potter",
          "19/Síndrome de Potter",
          "15/Síndrome de Turner, no especificado",
          "19/Síndrome de Turner, no especificado",
          "19/Síndrome de hipoplasia del corazón izquierdo",
          "14/Síndrome del recién nacido de madre diabética",
          "15/Síndrome del recién nacido de madre diabética",
          "16/Síndrome del recién nacido de madre diabética",
          "17/Síndrome del recién nacido de madre diabética",
          "18/Síndrome del recién nacido de madre diabética",
          "19/Síndrome del recién nacido de madre diabética",
          "19/Síndrome fetal (dismórfico) debido al alcohol",
          "14/Terminación del embarazo, feto y recién nacido",
          "15/Terminación del embarazo, feto y recién nacido",
          "16/Terminación del embarazo, feto y recién nacido",
          "17/Terminación del embarazo, feto y recién nacido",
          "18/Terminación del embarazo, feto y recién nacido",
          "19/Terminación del embarazo, feto y recién nacido",
          "16/Tetralogía de Fallot",
          "17/Tetralogía de Fallot",
          "19/Tetralogía de Fallot",
          "17/Trastorno cardiovascular no especificado, originado en el período perinatal",
          "18/Trastorno cardiovascular no especificado, originado en el período perinatal",
          "18/Trisomía 18, mosaico (por falta de disyunción mitótica)",
          "14/Ventrículo con doble entrada",
          "19/Ventrículo con doble entrada",
          "10",
          "11",
          "12",
          "13",
          "14",
          "15",
          "16",
          "17",
          "18",
          "19"
         ],
         "labels": [
          "Acondroplasia",
          "Acondroplasia",
          "Afección no especificada originada en el período perinatal",
          "Afección no especificada originada en el período perinatal",
          "Afección no especificada originada en el período perinatal",
          "Afección no especificada originada en el período perinatal",
          "Agenesia renal, bilateral",
          "Agenesia renal, sin otra especificación",
          "Agenesia renal, sin otra especificación",
          "Agenesia renal, sin otra especificación",
          "Anencefalia",
          "Anencefalia",
          "Anencefalia",
          "Anencefalia",
          "Anencefalia",
          "Anencefalia",
          "Anencefalia",
          "Anomalía cromosómica, no especificada",
          "Anomalía cromosómica, no especificada",
          "Anomalía cromosómica, no especificada",
          "Anomalía cromosómica, no especificada",
          "Anomalía cromosómica, no especificada",
          "Anomalía cromosómica, no especificada",
          "Anomalía de Ebstein",
          "Atresia de los agujeros de Magendie y de Luschka",
          "Atresia de los agujeros de Magendie y de Luschka",
          "Atresia de los agujeros de Magendie y de Luschka",
          "Atresia de los agujeros de Magendie y de Luschka",
          "Ausencia e hipoplasia congénita de la arteria umbilical",
          "Ausencia e hipoplasia congénita de la arteria umbilical",
          "Ausencia, atresia y estenosis congénita del ano, sin fístula",
          "Bajo peso para la edad gestacional",
          "Bajo peso para la edad gestacional",
          "Bajo peso para la edad gestacional",
          "Bajo peso para la edad gestacional",
          "Bajo peso para la edad gestacional",
          "Bajo peso para la edad gestacional",
          "Bajo peso para la edad gestacional",
          "Bajo peso para la edad gestacional",
          "Complicaciones de procedimientos intrauterinos, no clasificados en otra parte",
          "Complicaciones de procedimientos intrauterinos, no clasificados en otra parte",
          "Craneosinostosis",
          "Desnutrición fetal, sin mención de peso o talla bajos para la edad gestacional",
          "Desnutrición fetal, sin mención de peso o talla bajos para la edad gestacional",
          "Desnutrición fetal, sin mención de peso o talla bajos para la edad gestacional",
          "Desnutrición fetal, sin mención de peso o talla bajos para la edad gestacional",
          "Desnutrición fetal, sin mención de peso o talla bajos para la edad gestacional",
          "Desnutrición fetal, sin mención de peso o talla bajos para la edad gestacional",
          "Desnutrición fetal, sin mención de peso o talla bajos para la edad gestacional",
          "Dextrocardia",
          "Discordancia de la conexión ventriculoarterial",
          "Displasia renal",
          "Displasia renal",
          "Displasia renal",
          "Dolicocefalia",
          "Encefalocele occipital",
          "Encefalocele, no especificado",
          "Encefalocele, no especificado",
          "Encefalocele, no especificado",
          "Encefalocele, no especificado",
          "Encefalocele, no especificado",
          "Enfermedad hemolítica del feto y del recién nacido, no especificada",
          "Enfermedad hemolítica del feto y del recién nacido, no especificada",
          "Enfermedad infecciosa y parasitaria congénita, no especificada",
          "Enfermedad viral congénita, sin otra especificación",
          "Espina bífida, no especificada",
          "Espina bífida, no especificada",
          "Espina bífida, no especificada",
          "Espina bífida, no especificada",
          "Espina bífida, no especificada",
          "Espina bífida, no especificada",
          "Exónfalos",
          "Exónfalos",
          "Exónfalos",
          "Exónfalos",
          "Feto y recién nacido afectados por afección materna no especificada",
          "Feto y recién nacido afectados por afección materna no especificada",
          "Feto y recién nacido afectados por afección materna no especificada",
          "Feto y recién nacido afectados por afección materna no especificada",
          "Feto y recién nacido afectados por afección materna no especificada",
          "Feto y recién nacido afectados por afección materna no especificada",
          "Feto y recién nacido afectados por afección materna no especificada",
          "Feto y recién nacido afectados por anormalidad no especificada de las membranas",
          "Feto y recién nacido afectados por anormalidad no especificada de las membranas",
          "Feto y recién nacido afectados por anormalidad no especificada de las membranas",
          "Feto y recién nacido afectados por anormalidad no especificada de las membranas",
          "Feto y recién nacido afectados por anormalidad no especificada de las membranas",
          "Feto y recién nacido afectados por anormalidad no especificada de las membranas",
          "Feto y recién nacido afectados por complicaciones maternas no especificadas del embarazo",
          "Feto y recién nacido afectados por complicaciones maternas no especificadas del embarazo",
          "Feto y recién nacido afectados por complicaciones maternas no especificadas del embarazo",
          "Feto y recién nacido afectados por complicaciones maternas no especificadas del embarazo",
          "Feto y recién nacido afectados por complicaciones maternas no especificadas del embarazo",
          "Feto y recién nacido afectados por complicaciones maternas no especificadas del embarazo",
          "Feto y recién nacido afectados por complicaciones maternas no especificadas del embarazo",
          "Feto y recién nacido afectados por complicaciones no especificadas del trabajo de parto y del parto",
          "Feto y recién nacido afectados por complicaciones no especificadas del trabajo de parto y del parto",
          "Feto y recién nacido afectados por complicaciones no especificadas del trabajo de parto y del parto",
          "Feto y recién nacido afectados por complicaciones no especificadas del trabajo de parto y del parto",
          "Feto y recién nacido afectados por complicaciones no especificadas del trabajo de parto y del parto",
          "Feto y recién nacido afectados por complicaciones no especificadas del trabajo de parto y del parto",
          "Feto y recién nacido afectados por contracciones uterinas anormales",
          "Feto y recién nacido afectados por contracciones uterinas anormales",
          "Feto y recién nacido afectados por contracciones uterinas anormales",
          "Feto y recién nacido afectados por contracciones uterinas anormales",
          "Feto y recién nacido afectados por contracciones uterinas anormales",
          "Feto y recién nacido afectados por corioamnionitis",
          "Feto y recién nacido afectados por corioamnionitis",
          "Feto y recién nacido afectados por corioamnionitis",
          "Feto y recién nacido afectados por corioamnionitis",
          "Feto y recién nacido afectados por corioamnionitis",
          "Feto y recién nacido afectados por corioamnionitis",
          "Feto y recién nacido afectados por corioamnionitis",
          "Feto y recién nacido afectados por drogadicción materna",
          "Feto y recién nacido afectados por drogadicción materna",
          "Feto y recién nacido afectados por drogadicción materna",
          "Feto y recién nacido afectados por embarazo ectópico",
          "Feto y recién nacido afectados por embarazo ectópico",
          "Feto y recién nacido afectados por embarazo múltiple",
          "Feto y recién nacido afectados por embarazo múltiple",
          "Feto y recién nacido afectados por embarazo múltiple",
          "Feto y recién nacido afectados por embarazo múltiple",
          "Feto y recién nacido afectados por enfermedades infecciosas y parasitarias de la madre",
          "Feto y recién nacido afectados por enfermedades infecciosas y parasitarias de la madre",
          "Feto y recién nacido afectados por enfermedades infecciosas y parasitarias de la madre",
          "Feto y recién nacido afectados por enfermedades infecciosas y parasitarias de la madre",
          "Feto y recién nacido afectados por enfermedades infecciosas y parasitarias de la madre",
          "Feto y recién nacido afectados por enfermedades infecciosas y parasitarias de la madre",
          "Feto y recién nacido afectados por enfermedades infecciosas y parasitarias de la madre",
          "Feto y recién nacido afectados por enfermedades renales y de las vías urinarias de la madre",
          "Feto y recién nacido afectados por enfermedades renales y de las vías urinarias de la madre",
          "Feto y recién nacido afectados por enfermedades renales y de las vías urinarias de la madre",
          "Feto y recién nacido afectados por enfermedades renales y de las vías urinarias de la madre",
          "Feto y recién nacido afectados por enfermedades renales y de las vías urinarias de la madre",
          "Feto y recién nacido afectados por enfermedades renales y de las vías urinarias de la madre",
          "Feto y recién nacido afectados por enfermedades renales y de las vías urinarias de la madre",
          "Feto y recién nacido afectados por enfermedades renales y de las vías urinarias de la madre",
          "Feto y recién nacido afectados por incompetencia del cuello uterino",
          "Feto y recién nacido afectados por incompetencia del cuello uterino",
          "Feto y recién nacido afectados por incompetencia del cuello uterino",
          "Feto y recién nacido afectados por incompetencia del cuello uterino",
          "Feto y recién nacido afectados por incompetencia del cuello uterino",
          "Feto y recién nacido afectados por incompetencia del cuello uterino",
          "Feto y recién nacido afectados por incompetencia del cuello uterino",
          "Feto y recién nacido afectados por incompetencia del cuello uterino",
          "Feto y recién nacido afectados por influencias nocivas de la madre, no especificadas",
          "Feto y recién nacido afectados por influencias nocivas de la madre, no especificadas",
          "Feto y recién nacido afectados por muerte materna",
          "Feto y recién nacido afectados por muerte materna",
          "Feto y recién nacido afectados por oligohidramnios",
          "Feto y recién nacido afectados por oligohidramnios",
          "Feto y recién nacido afectados por oligohidramnios",
          "Feto y recién nacido afectados por oligohidramnios",
          "Feto y recién nacido afectados por oligohidramnios",
          "Feto y recién nacido afectados por oligohidramnios",
          "Feto y recién nacido afectados por oligohidramnios",
          "Feto y recién nacido afectados por otra compresión del cordón umbilical",
          "Feto y recién nacido afectados por otra compresión del cordón umbilical",
          "Feto y recién nacido afectados por otra compresión del cordón umbilical",
          "Feto y recién nacido afectados por otra compresión del cordón umbilical",
          "Feto y recién nacido afectados por otra compresión del cordón umbilical",
          "Feto y recién nacido afectados por otra compresión del cordón umbilical",
          "Feto y recién nacido afectados por otra compresión del cordón umbilical",
          "Feto y recién nacido afectados por otra compresión del cordón umbilical",
          "Feto y recién nacido afectados por otra presentación anómala, posición anómala y desproporción durante el trabajo de parto y el parto",
          "Feto y recién nacido afectados por otra presentación anómala, posición anómala y desproporción durante el trabajo de parto y el parto",
          "Feto y recién nacido afectados por otra presentación anómala, posición anómala y desproporción durante el trabajo de parto y el parto",
          "Feto y recién nacido afectados por otra presentación anómala, posición anómala y desproporción durante el trabajo de parto y el parto",
          "Feto y recién nacido afectados por otra presentación anómala, posición anómala y desproporción durante el trabajo de parto y el parto",
          "Feto y recién nacido afectados por otra presentación anómala, posición anómala y desproporción durante el trabajo de parto y el parto",
          "Feto y recién nacido afectados por otras afecciones maternas",
          "Feto y recién nacido afectados por otras afecciones maternas",
          "Feto y recién nacido afectados por otras afecciones maternas",
          "Feto y recién nacido afectados por otras afecciones maternas",
          "Feto y recién nacido afectados por otras afecciones maternas",
          "Feto y recién nacido afectados por otras afecciones maternas",
          "Feto y recién nacido afectados por otras afecciones maternas",
          "Feto y recién nacido afectados por otras anormalidades de las membranas",
          "Feto y recién nacido afectados por otras anormalidades de las membranas",
          "Feto y recién nacido afectados por otras anormalidades de las membranas",
          "Feto y recién nacido afectados por otras anormalidades de las membranas",
          "Feto y recién nacido afectados por otras anormalidades de las membranas",
          "Feto y recién nacido afectados por otras anormalidades morfológicas y funcionales de la placenta y las no especificadas",
          "Feto y recién nacido afectados por otras anormalidades morfológicas y funcionales de la placenta y las no especificadas",
          "Feto y recién nacido afectados por otras anormalidades morfológicas y funcionales de la placenta y las no especificadas",
          "Feto y recién nacido afectados por otras anormalidades morfológicas y funcionales de la placenta y las no especificadas",
          "Feto y recién nacido afectados por otras anormalidades morfológicas y funcionales de la placenta y las no especificadas",
          "Feto y recién nacido afectados por otras anormalidades morfológicas y funcionales de la placenta y las no especificadas",
          "Feto y recién nacido afectados por otras anormalidades morfológicas y funcionales de la placenta y las no especificadas",
          "Feto y recién nacido afectados por otras anormalidades morfológicas y funcionales de la placenta y las no especificadas",
          "Feto y recién nacido afectados por otras complicaciones del cordón umbilical y las no especificadas",
          "Feto y recién nacido afectados por otras complicaciones del cordón umbilical y las no especificadas",
          "Feto y recién nacido afectados por otras complicaciones del cordón umbilical y las no especificadas",
          "Feto y recién nacido afectados por otras complicaciones del cordón umbilical y las no especificadas",
          "Feto y recién nacido afectados por otras complicaciones del cordón umbilical y las no especificadas",
          "Feto y recién nacido afectados por otras complicaciones del cordón umbilical y las no especificadas",
          "Feto y recién nacido afectados por otras complicaciones especificadas del trabajo de parto y del parto",
          "Feto y recién nacido afectados por otras complicaciones especificadas del trabajo de parto y del parto",
          "Feto y recién nacido afectados por otras complicaciones especificadas del trabajo de parto y del parto",
          "Feto y recién nacido afectados por otras complicaciones especificadas del trabajo de parto y del parto",
          "Feto y recién nacido afectados por otras complicaciones especificadas del trabajo de parto y del parto",
          "Feto y recién nacido afectados por otras complicaciones especificadas del trabajo de parto y del parto",
          "Feto y recién nacido afectados por otras complicaciones especificadas del trabajo de parto y del parto",
          "Feto y recién nacido afectados por otras complicaciones maternas del embarazo",
          "Feto y recién nacido afectados por otras complicaciones maternas del embarazo",
          "Feto y recién nacido afectados por otras complicaciones maternas del embarazo",
          "Feto y recién nacido afectados por otras complicaciones maternas del embarazo",
          "Feto y recién nacido afectados por otras complicaciones maternas del embarazo",
          "Feto y recién nacido afectados por otras complicaciones maternas del embarazo",
          "Feto y recién nacido afectados por otras complicaciones maternas del embarazo",
          "Feto y recién nacido afectados por otras complicaciones maternas del embarazo",
          "Feto y recién nacido afectados por otras complicaciones maternas del embarazo",
          "Feto y recién nacido afectados por otras enfermedades circulatorias y respiratorias de la madre",
          "Feto y recién nacido afectados por otras enfermedades circulatorias y respiratorias de la madre",
          "Feto y recién nacido afectados por otras enfermedades circulatorias y respiratorias de la madre",
          "Feto y recién nacido afectados por otras formas de desprendimiento y de hemorragia placentarios",
          "Feto y recién nacido afectados por otras formas de desprendimiento y de hemorragia placentarios",
          "Feto y recién nacido afectados por otras formas de desprendimiento y de hemorragia placentarios",
          "Feto y recién nacido afectados por otras formas de desprendimiento y de hemorragia placentarios",
          "Feto y recién nacido afectados por otras formas de desprendimiento y de hemorragia placentarios",
          "Feto y recién nacido afectados por otras formas de desprendimiento y de hemorragia placentarios",
          "Feto y recién nacido afectados por otras formas de desprendimiento y de hemorragia placentarios",
          "Feto y recién nacido afectados por otras formas de desprendimiento y de hemorragia placentarios",
          "Feto y recién nacido afectados por otras medicaciones maternas",
          "Feto y recién nacido afectados por otras medicaciones maternas",
          "Feto y recién nacido afectados por otras medicaciones maternas",
          "Feto y recién nacido afectados por parto con fórceps",
          "Feto y recién nacido afectados por parto precipitado",
          "Feto y recién nacido afectados por parto precipitado",
          "Feto y recién nacido afectados por parto precipitado",
          "Feto y recién nacido afectados por parto precipitado",
          "Feto y recién nacido afectados por parto precipitado",
          "Feto y recién nacido afectados por parto y extracción de nalgas",
          "Feto y recién nacido afectados por parto y extracción de nalgas",
          "Feto y recién nacido afectados por parto y extracción de nalgas",
          "Feto y recién nacido afectados por parto y extracción de nalgas",
          "Feto y recién nacido afectados por parto y extracción de nalgas",
          "Feto y recién nacido afectados por parto y extracción de nalgas",
          "Feto y recién nacido afectados por placenta previa",
          "Feto y recién nacido afectados por placenta previa",
          "Feto y recién nacido afectados por placenta previa",
          "Feto y recién nacido afectados por placenta previa",
          "Feto y recién nacido afectados por placenta previa",
          "Feto y recién nacido afectados por placenta previa",
          "Feto y recién nacido afectados por placenta previa",
          "Feto y recién nacido afectados por polihidramnios",
          "Feto y recién nacido afectados por polihidramnios",
          "Feto y recién nacido afectados por polihidramnios",
          "Feto y recién nacido afectados por polihidramnios",
          "Feto y recién nacido afectados por polihidramnios",
          "Feto y recién nacido afectados por polihidramnios",
          "Feto y recién nacido afectados por polihidramnios",
          "Feto y recién nacido afectados por presentación anómala antes del trabajo de parto",
          "Feto y recién nacido afectados por presentación anómala antes del trabajo de parto",
          "Feto y recién nacido afectados por presentación anómala antes del trabajo de parto",
          "Feto y recién nacido afectados por presentación anómala antes del trabajo de parto",
          "Feto y recién nacido afectados por presentación anómala antes del trabajo de parto",
          "Feto y recién nacido afectados por presentación anómala antes del trabajo de parto",
          "Feto y recién nacido afectados por prolapso del cordón umbilical",
          "Feto y recién nacido afectados por prolapso del cordón umbilical",
          "Feto y recién nacido afectados por prolapso del cordón umbilical",
          "Feto y recién nacido afectados por prolapso del cordón umbilical",
          "Feto y recién nacido afectados por prolapso del cordón umbilical",
          "Feto y recién nacido afectados por prolapso del cordón umbilical",
          "Feto y recién nacido afectados por prolapso del cordón umbilical",
          "Feto y recién nacido afectados por prolapso del cordón umbilical",
          "Feto y recién nacido afectados por ruptura prematura de las membranas",
          "Feto y recién nacido afectados por ruptura prematura de las membranas",
          "Feto y recién nacido afectados por ruptura prematura de las membranas",
          "Feto y recién nacido afectados por ruptura prematura de las membranas",
          "Feto y recién nacido afectados por ruptura prematura de las membranas",
          "Feto y recién nacido afectados por ruptura prematura de las membranas",
          "Feto y recién nacido afectados por ruptura prematura de las membranas",
          "Feto y recién nacido afectados por ruptura prematura de las membranas",
          "Feto y recién nacido afectados por síndromes de transfusión placentaria",
          "Feto y recién nacido afectados por síndromes de transfusión placentaria",
          "Feto y recién nacido afectados por síndromes de transfusión placentaria",
          "Feto y recién nacido afectados por síndromes de transfusión placentaria",
          "Feto y recién nacido afectados por síndromes de transfusión placentaria",
          "Feto y recién nacido afectados por trastornos hipertensivos de la madre",
          "Feto y recién nacido afectados por trastornos hipertensivos de la madre",
          "Feto y recién nacido afectados por trastornos hipertensivos de la madre",
          "Feto y recién nacido afectados por trastornos hipertensivos de la madre",
          "Feto y recién nacido afectados por trastornos hipertensivos de la madre",
          "Feto y recién nacido afectados por trastornos hipertensivos de la madre",
          "Feto y recién nacido afectados por trastornos hipertensivos de la madre",
          "Feto y recién nacido afectados por trastornos nutricionales de la madre",
          "Feto y recién nacido afectados por trastornos nutricionales de la madre",
          "Feto y recién nacido afectados por trastornos nutricionales de la madre",
          "Feto y recién nacido afectados por trastornos nutricionales de la madre",
          "Feto y recién nacido afectados por traumatismo de la madre",
          "Feto y recién nacido afectados por traumatismo de la madre",
          "Feto y recién nacido afectados por traumatismo de la madre",
          "Feto y recién nacido afectados por traumatismo de la madre",
          "Feto y recién nacido afectados por traumatismo de la madre",
          "Feto y recién nacido afectados por traumatismo de la madre",
          "Gastrosquisis",
          "Gastrosquisis",
          "Gastrosquisis",
          "Gastrosquisis",
          "Gastrosquisis",
          "Gastrosquisis",
          "Hemorragia fetal hacia la circulación materna",
          "Hemorragia fetal hacia la circulación materna",
          "Hemorragia fetal hacia la circulación materna",
          "Hemorragia intracerebral (no traumática) del feto y del recién nacido",
          "Hemorragia intracerebral (no traumática) del feto y del recién nacido",
          "Hemorragia intracerebral (no traumática) del feto y del recién nacido",
          "Hemorragia intracraneal (no traumática) del feto y del recién nacido, sin otra especificación",
          "Hemorragia intracraneal (no traumática) del feto y del recién nacido, sin otra especificación",
          "Hemorragia intraventricular (no traumática) del feto y del recién nacido, sin otra especificación",
          "Hemorragia intraventricular (no traumática) del feto y del recién nacido, sin otra especificación",
          "Hemorragia intraventricular (no traumática) del feto y del recién nacido, sin otra especificación",
          "Hemorragia intraventricular (no traumática) del feto y del recién nacido, sin otra especificación",
          "Hemorragia intraventricular (no traumática) grado 1, del feto y del recién nacido",
          "Hernia diafragmática congénita",
          "Hidrocéfalo congénito, no especificado",
          "Hidrocéfalo congénito, no especificado",
          "Hidrocéfalo congénito, no especificado",
          "Hidrocéfalo congénito, no especificado",
          "Hidrocéfalo congénito, no especificado",
          "Hidrocéfalo congénito, no especificado",
          "Hidronefrosis congénita",
          "Hidropesía fetal debida a incompatibilidad",
          "Hidropesía fetal debida a incompatibilidad",
          "Hidropesía fetal debida a otras enfermedades hemolíticas especificadas y a las no especificadas",
          "Hidropesía fetal debida a otras enfermedades hemolíticas especificadas y a las no especificadas",
          "Hidropesía fetal debida a otras enfermedades hemolíticas especificadas y a las no especificadas",
          "Hidropesía fetal debida a otras enfermedades hemolíticas especificadas y a las no especificadas",
          "Hidropesía fetal debida a otras enfermedades hemolíticas especificadas y a las no especificadas",
          "Hidropesía fetal no debida a enfermedad hemolítica",
          "Hidropesía fetal no debida a enfermedad hemolítica",
          "Hidropesía fetal no debida a enfermedad hemolítica",
          "Hidropesía fetal no debida a enfermedad hemolítica",
          "Hidropesía fetal no debida a enfermedad hemolítica",
          "Hidropesía fetal no debida a enfermedad hemolítica",
          "Hipoplasia renal, no especificada",
          "Hipoplasia y displasia pulmonar",
          "Hipoplasia y displasia pulmonar",
          "Hipoplasia y displasia pulmonar",
          "Hipoplasia y displasia pulmonar",
          "Hipoplasia y displasia pulmonar",
          "Hipoxia intrauterina notada por primera vez antes del inicio del trabajo de parto",
          "Hipoxia intrauterina notada por primera vez antes del inicio del trabajo de parto",
          "Hipoxia intrauterina notada por primera vez antes del inicio del trabajo de parto",
          "Hipoxia intrauterina notada por primera vez antes del inicio del trabajo de parto",
          "Hipoxia intrauterina notada por primera vez antes del inicio del trabajo de parto",
          "Hipoxia intrauterina notada por primera vez antes del inicio del trabajo de parto",
          "Hipoxia intrauterina notada por primera vez antes del inicio del trabajo de parto",
          "Hipoxia intrauterina notada por primera vez antes del inicio del trabajo de parto",
          "Hipoxia intrauterina notada por primera vez antes del inicio del trabajo de parto",
          "Hipoxia intrauterina notada por primera vez durante el trabajo de parto y el parto",
          "Hipoxia intrauterina notada por primera vez durante el trabajo de parto y el parto",
          "Hipoxia intrauterina notada por primera vez durante el trabajo de parto y el parto",
          "Hipoxia intrauterina notada por primera vez durante el trabajo de parto y el parto",
          "Hipoxia intrauterina notada por primera vez durante el trabajo de parto y el parto",
          "Hipoxia intrauterina notada por primera vez durante el trabajo de parto y el parto",
          "Hipoxia intrauterina notada por primera vez durante el trabajo de parto y el parto",
          "Hipoxia intrauterina, no especificada",
          "Hipoxia intrauterina, no especificada",
          "Hipoxia intrauterina, no especificada",
          "Hipoxia intrauterina, no especificada",
          "Hipoxia intrauterina, no especificada",
          "Hipoxia intrauterina, no especificada",
          "Hipoxia intrauterina, no especificada",
          "Holoprosencefalia",
          "Incompatibilidad Rh del feto y del recién nacido",
          "Incompatibilidad Rh del feto y del recién nacido",
          "Incompatibilidad Rh del feto y del recién nacido",
          "Infección intraamniótica del feto, no clasificada en otra parte",
          "Infección intraamniótica del feto, no clasificada en otra parte",
          "Infección intraamniótica del feto, no clasificada en otra parte",
          "Infección propia del período perinatal, no especificada",
          "Infección propia del período perinatal, no especificada",
          "Infección propia del período perinatal, no especificada",
          "Levocardia",
          "Macrocefalia",
          "Macrocefalia",
          "Malformaciones congénitas del cuerpo calloso",
          "Malformaciones congénitas del cuerpo calloso",
          "Malformaciones congénitas múltiples, no clasificadas en otra parte",
          "Malformaciones congénitas múltiples, no clasificadas en otra parte",
          "Malformaciones congénitas múltiples, no clasificadas en otra parte",
          "Malformaciones congénitas múltiples, no clasificadas en otra parte",
          "Malformaciones congénitas múltiples, no clasificadas en otra parte",
          "Malformaciones congénitas múltiples, no clasificadas en otra parte",
          "Malformaciones congénitas múltiples, no clasificadas en otra parte",
          "Malformaciones congénitas múltiples, no clasificadas en otra parte",
          "Malformación congénita de la cara y del cuello, no especificada",
          "Malformación congénita de la cara y del cuello, no especificada",
          "Malformación congénita de la cara y del cuello, no especificada",
          "Malformación congénita de la parte superior del tubo digestivo, no especificada",
          "Malformación congénita de las cámaras cardíacas y sus conexiones, no especificada",
          "Malformación congénita del aparato urinario, no especificada",
          "Malformación congénita del aparato urinario, no especificada",
          "Malformación congénita del corazón, no especificada",
          "Malformación congénita del corazón, no especificada",
          "Malformación congénita del corazón, no especificada",
          "Malformación congénita del corazón, no especificada",
          "Malformación congénita del corazón, no especificada",
          "Malformación congénita del corazón, no especificada",
          "Malformación congénita del encéfalo, no especificada",
          "Malformación congénita del encéfalo, no especificada",
          "Malformación congénita del encéfalo, no especificada",
          "Malformación congénita del encéfalo, no especificada",
          "Malformación congénita del estómago, no especificada",
          "Malformación congénita del pulmón, no especificada",
          "Malformación congénita del pulmón, no especificada",
          "Malformación congénita del pulmón, no especificada",
          "Malformación congénita del pulmón, no especificada",
          "Malformación congénita del riñón, no especificada",
          "Malformación congénita del riñón, no especificada",
          "Malformación congénita del sistema digestivo, no especificada",
          "Malformación congénita del sistema digestivo, no especificada",
          "Malformación congénita del sistema digestivo, no especificada",
          "Malformación congénita del sistema osteomuscular, no especificada",
          "Malformación congénita del sistema osteomuscular, no especificada",
          "Malformación congénita no especificada de los huesos del cráneo y de la cara",
          "Malformación congénita no especificada de los huesos del cráneo y de la cara",
          "Malformación congénita no especificada de los huesos del cráneo y de la cara",
          "Malformación congénita, no especificada",
          "Malformación congénita, no especificada",
          "Malformación congénita, no especificada",
          "Malformación congénita, no especificada",
          "Malformación congénita, no especificada",
          "Malformación congénita, no especificada",
          "Malformación congénita, no especificada",
          "Muerte fetal de causa no especificada",
          "Muerte fetal de causa no especificada",
          "Muerte fetal de causa no especificada",
          "Muerte fetal de causa no especificada",
          "Muerte fetal de causa no especificada",
          "Muerte fetal de causa no especificada",
          "Muerte fetal de causa no especificada",
          "Osteocondrodisplasia con defectos del crecimiento de los huesos largos y de la columna vertebral, sin otra especificación",
          "Otras afecciones especificadas originadas en el período perinatal",
          "Otras afecciones especificadas originadas en el período perinatal",
          "Otras afecciones especificadas originadas en el período perinatal",
          "Otras afecciones especificadas originadas en el período perinatal",
          "Otras afecciones especificadas originadas en el período perinatal",
          "Otras afecciones especificadas originadas en el período perinatal",
          "Otras afecciones especificadas originadas en el período perinatal",
          "Otras afecciones especificadas originadas en el período perinatal",
          "Otras afecciones especificadas originadas en el período perinatal",
          "Otras anemias congénitas, no clasificadas en otra parte",
          "Otras anomalías de los cromosomas, especificadas",
          "Otras anomalías de los cromosomas, especificadas",
          "Otras anomalías hipoplásicas del encéfalo",
          "Otras anomalías hipoplásicas del encéfalo",
          "Otras enfermedades hemolíticas del feto y del recién nacido",
          "Otras enfermedades hemolíticas del feto y del recién nacido",
          "Otras hemorragias fetales y neonatales especificadas",
          "Otras infecciones especificadas propias del período perinatal",
          "Otras infecciones especificadas propias del período perinatal",
          "Otras malformaciones congénitas de la pared abdominal",
          "Otras malformaciones congénitas de la pared abdominal",
          "Otras malformaciones congénitas de la vejiga y de la uretra",
          "Otras malformaciones congénitas de las cámaras cardíacas y sus conexiones",
          "Otras malformaciones congénitas del corazón, especificadas",
          "Otras malformaciones congénitas del corazón, especificadas",
          "Otras malformaciones congénitas del corazón, especificadas",
          "Otras malformaciones congénitas del corazón, especificadas",
          "Otras malformaciones congénitas del encéfalo, especificadas",
          "Otras malformaciones congénitas del encéfalo, especificadas",
          "Otras malformaciones congénitas del pulmón",
          "Otras malformaciones congénitas del sistema digestivo, especificadas",
          "Otras malformaciones congénitas del sistema nervioso, especificadas",
          "Otras malformaciones congénitas del sistema nervioso, no especificada",
          "Otras malformaciones congénitas del sistema nervioso, no especificada",
          "Otras malformaciones congénitas del sistema nervioso, no especificada",
          "Otras malformaciones congénitas del sistema nervioso, no especificada",
          "Otras malformaciones congénitas del sistema nervioso, no especificada",
          "Otras malformaciones congénitas del sistema osteomuscular",
          "Otras malformaciones congénitas especificadas de la médula espinal",
          "Otras malformaciones congénitas, especificadas",
          "Otras malformaciones congénitas, especificadas",
          "Otras malformaciones congénitas, especificadas",
          "Otras malformaciones congénitas, especificadas",
          "Otras malformaciones congénitas, especificadas",
          "Otras malformaciones congénitas, especificadas",
          "Otras pérdidas de sangre fetal",
          "Otras supresiones de parte de un cromosoma",
          "Otros recién nacidos con sobrepeso para la edad gestacional",
          "Otros recién nacidos con sobrepeso para la edad gestacional",
          "Otros síndromes de malformaciones congénitas debidos a causas exógenas conocidas",
          "Otros síndromes de malformaciones congénitas especificados, no clasificados en otra parte",
          "Otros síndromes de malformaciones congénitas especificados, no clasificados en otra parte",
          "Otros síndromes de malformaciones congénitas especificados, no clasificados en otra parte",
          "Otros síndromes de malformaciones congénitas especificados, no clasificados en otra parte",
          "Otros trastornos cardiovasculares originados en el período perinatal",
          "Otros trastornos cardiovasculares originados en el período perinatal",
          "Otros trastornos cardiovasculares originados en el período perinatal",
          "Otros trastornos hematológicos perinatales especificados",
          "Pequeño para la edad gestacional",
          "Pequeño para la edad gestacional",
          "Pequeño para la edad gestacional",
          "Pequeño para la edad gestacional",
          "Pequeño para la edad gestacional",
          "Pequeño para la edad gestacional",
          "Pequeño para la edad gestacional",
          "Persistencia de la circulación fetal",
          "Persistencia de la circulación fetal",
          "Persistencia de la circulación fetal",
          "Pérdida de sangre fetal, no especificada",
          "Quistes cerebrales congénitos",
          "Recién nacido postérmino sin sobrepeso para su edad gestacional",
          "Recién nacido postérmino sin sobrepeso para su edad gestacional",
          "Recién nacido postérmino sin sobrepeso para su edad gestacional",
          "Recién nacido postérmino sin sobrepeso para su edad gestacional",
          "Recién nacido postérmino sin sobrepeso para su edad gestacional",
          "Retardo del crecimiento fetal, no especificado",
          "Retardo del crecimiento fetal, no especificado",
          "Retardo del crecimiento fetal, no especificado",
          "Retardo del crecimiento fetal, no especificado",
          "Retardo del crecimiento fetal, no especificado",
          "Retardo del crecimiento fetal, no especificado",
          "Retardo del crecimiento fetal, no especificado",
          "Riñón poliquístico, autosómico recesivo",
          "Riñón poliquístico, autosómico recesivo",
          "Riñón poliquístico, tipo no especificado",
          "Riñón poliquístico, tipo no especificado",
          "Riñón poliquístico, tipo no especificado",
          "Síndrome de Arnold-Chiari",
          "Síndrome de Down, no especificado",
          "Síndrome de Down, no especificado",
          "Síndrome de Down, no especificado",
          "Síndrome de Down, no especificado",
          "Síndrome de Down, no especificado",
          "Síndrome de Edwards, no especificado",
          "Síndrome de Edwards, no especificado",
          "Síndrome de Edwards, no especificado",
          "Síndrome de Patau, no especificado",
          "Síndrome de Patau, no especificado",
          "Síndrome de Patau, no especificado",
          "Síndrome de Patau, no especificado",
          "Síndrome de Potter",
          "Síndrome de Potter",
          "Síndrome de Potter",
          "Síndrome de Potter",
          "Síndrome de Potter",
          "Síndrome de Turner, no especificado",
          "Síndrome de Turner, no especificado",
          "Síndrome de hipoplasia del corazón izquierdo",
          "Síndrome del recién nacido de madre diabética",
          "Síndrome del recién nacido de madre diabética",
          "Síndrome del recién nacido de madre diabética",
          "Síndrome del recién nacido de madre diabética",
          "Síndrome del recién nacido de madre diabética",
          "Síndrome del recién nacido de madre diabética",
          "Síndrome fetal (dismórfico) debido al alcohol",
          "Terminación del embarazo, feto y recién nacido",
          "Terminación del embarazo, feto y recién nacido",
          "Terminación del embarazo, feto y recién nacido",
          "Terminación del embarazo, feto y recién nacido",
          "Terminación del embarazo, feto y recién nacido",
          "Terminación del embarazo, feto y recién nacido",
          "Tetralogía de Fallot",
          "Tetralogía de Fallot",
          "Tetralogía de Fallot",
          "Trastorno cardiovascular no especificado, originado en el período perinatal",
          "Trastorno cardiovascular no especificado, originado en el período perinatal",
          "Trisomía 18, mosaico (por falta de disyunción mitótica)",
          "Ventrículo con doble entrada",
          "Ventrículo con doble entrada",
          "10",
          "11",
          "12",
          "13",
          "14",
          "15",
          "16",
          "17",
          "18",
          "19"
         ],
         "marker": {
          "coloraxis": "coloraxis",
          "colors": [
           1,
           1,
           3,
           1,
           9,
           9,
           1,
           2,
           2,
           2,
           5,
           6,
           26,
           48,
           53,
           57,
           68,
           1,
           3,
           9,
           9,
           5,
           12,
           1,
           1,
           1,
           1,
           1,
           1,
           2,
           1,
           1,
           6,
           31,
           98,
           136,
           205,
           255,
           286,
           1,
           1,
           1,
           6,
           6,
           18,
           28,
           44,
           46,
           48,
           1,
           1,
           1,
           1,
           1,
           1,
           1,
           1,
           3,
           4,
           5,
           5,
           1,
           4,
           1,
           1,
           1,
           1,
           3,
           1,
           2,
           4,
           1,
           3,
           3,
           3,
           1,
           1,
           3,
           4,
           3,
           4,
           5,
           1,
           3,
           4,
           6,
           4,
           10,
           1,
           1,
           6,
           2,
           3,
           13,
           6,
           2,
           6,
           1,
           4,
           3,
           5,
           1,
           2,
           2,
           2,
           6,
           1,
           2,
           5,
           16,
           31,
           35,
           36,
           2,
           2,
           4,
           1,
           1,
           6,
           7,
           7,
           1,
           1,
           1,
           4,
           5,
           12,
           14,
           12,
           1,
           1,
           9,
           22,
           26,
           51,
           60,
           50,
           1,
           1,
           9,
           19,
           20,
           53,
           71,
           63,
           1,
           2,
           1,
           1,
           1,
           9,
           21,
           59,
           78,
           115,
           118,
           1,
           6,
           18,
           48,
           99,
           165,
           195,
           228,
           1,
           2,
           6,
           4,
           8,
           8,
           1,
           10,
           11,
           24,
           26,
           39,
           41,
           1,
           2,
           1,
           5,
           3,
           1,
           11,
           65,
           173,
           284,
           386,
           492,
           592,
           3,
           13,
           25,
           36,
           53,
           54,
           1,
           9,
           12,
           16,
           31,
           30,
           24,
           1,
           2,
           4,
           9,
           45,
           81,
           114,
           132,
           170,
           2,
           1,
           2,
           3,
           1,
           21,
           57,
           98,
           117,
           161,
           166,
           1,
           1,
           1,
           1,
           3,
           4,
           8,
           8,
           8,
           1,
           3,
           3,
           4,
           2,
           5,
           1,
           2,
           9,
           17,
           19,
           14,
           30,
           2,
           5,
           3,
           10,
           21,
           29,
           29,
           1,
           2,
           2,
           3,
           1,
           4,
           1,
           1,
           3,
           6,
           13,
           17,
           19,
           12,
           1,
           4,
           45,
           94,
           122,
           236,
           229,
           287,
           1,
           5,
           9,
           14,
           5,
           1,
           6,
           17,
           40,
           43,
           69,
           92,
           1,
           2,
           3,
           4,
           1,
           3,
           5,
           8,
           12,
           13,
           1,
           5,
           6,
           8,
           8,
           12,
           1,
           1,
           1,
           1,
           1,
           1,
           1,
           1,
           2,
           3,
           2,
           1,
           1,
           3,
           1,
           1,
           6,
           4,
           8,
           12,
           1,
           1,
           1,
           1,
           1,
           1,
           1,
           1,
           11,
           17,
           15,
           29,
           41,
           46,
           1,
           3,
           2,
           2,
           3,
           1,
           1,
           1,
           8,
           31,
           73,
           125,
           175,
           215,
           254,
           2,
           5,
           6,
           14,
           34,
           28,
           45,
           2,
           14,
           29,
           58,
           46,
           85,
           103,
           3,
           1,
           1,
           1,
           1,
           2,
           2,
           2,
           1,
           3,
           1,
           1,
           1,
           1,
           1,
           1,
           1,
           8,
           31,
           56,
           61,
           77,
           85,
           1,
           1,
           1,
           1,
           1,
           1,
           1,
           1,
           5,
           8,
           16,
           11,
           20,
           1,
           1,
           2,
           2,
           1,
           1,
           1,
           2,
           2,
           1,
           1,
           1,
           1,
           2,
           1,
           1,
           2,
           2,
           1,
           1,
           5,
           10,
           17,
           17,
           29,
           27,
           10,
           23,
           45,
           69,
           99,
           131,
           152,
           1,
           2,
           10,
           66,
           178,
           457,
           866,
           1196,
           1403,
           1661,
           1,
           1,
           1,
           1,
           2,
           1,
           2,
           1,
           1,
           2,
           1,
           3,
           1,
           1,
           2,
           2,
           1,
           2,
           1,
           1,
           1,
           1,
           1,
           1,
           4,
           4,
           6,
           5,
           1,
           1,
           1,
           2,
           1,
           4,
           6,
           3,
           1,
           1,
           1,
           1,
           1,
           1,
           2,
           1,
           2,
           1,
           1,
           2,
           1,
           2,
           14,
           38,
           65,
           84,
           91,
           116,
           3,
           1,
           4,
           1,
           1,
           1,
           1,
           3,
           1,
           2,
           1,
           12,
           29,
           38,
           52,
           59,
           53,
           1,
           1,
           1,
           1,
           2,
           1,
           1,
           1,
           1,
           2,
           6,
           1,
           2,
           2,
           1,
           1,
           1,
           2,
           1,
           1,
           4,
           3,
           5,
           1,
           1,
           1,
           2,
           3,
           7,
           16,
           16,
           31,
           1,
           2,
           2,
           1,
           3,
           3,
           4,
           1,
           1,
           1,
           1,
           1,
           1,
           1,
           1,
           1,
           1.4,
           5.083333333333333,
           31.640522875816995,
           71.04,
           183.9047931713723,
           356.8534910339565,
           486.66353635631873,
           565.5115658362989,
           678.9514989497804
          ]
         },
         "name": "",
         "parents": [
          "15",
          "18",
          "16",
          "17",
          "18",
          "19",
          "19",
          "17",
          "18",
          "19",
          "13",
          "14",
          "15",
          "16",
          "17",
          "18",
          "19",
          "14",
          "15",
          "16",
          "17",
          "18",
          "19",
          "16",
          "14",
          "16",
          "18",
          "19",
          "15",
          "19",
          "18",
          "12",
          "13",
          "14",
          "15",
          "16",
          "17",
          "18",
          "19",
          "16",
          "19",
          "17",
          "13",
          "14",
          "15",
          "16",
          "17",
          "18",
          "19",
          "17",
          "17",
          "15",
          "16",
          "18",
          "18",
          "17",
          "14",
          "16",
          "17",
          "18",
          "19",
          "18",
          "19",
          "18",
          "18",
          "14",
          "15",
          "16",
          "17",
          "18",
          "19",
          "16",
          "17",
          "18",
          "19",
          "13",
          "14",
          "15",
          "16",
          "17",
          "18",
          "19",
          "13",
          "15",
          "16",
          "17",
          "18",
          "19",
          "13",
          "14",
          "15",
          "16",
          "17",
          "18",
          "19",
          "14",
          "15",
          "16",
          "17",
          "18",
          "19",
          "15",
          "16",
          "17",
          "18",
          "19",
          "13",
          "14",
          "15",
          "16",
          "17",
          "18",
          "19",
          "15",
          "18",
          "19",
          "16",
          "17",
          "16",
          "17",
          "18",
          "19",
          "13",
          "14",
          "15",
          "16",
          "17",
          "18",
          "19",
          "12",
          "13",
          "14",
          "15",
          "16",
          "17",
          "18",
          "19",
          "12",
          "13",
          "14",
          "15",
          "16",
          "17",
          "18",
          "19",
          "16",
          "18",
          "15",
          "18",
          "13",
          "14",
          "15",
          "16",
          "17",
          "18",
          "19",
          "12",
          "13",
          "14",
          "15",
          "16",
          "17",
          "18",
          "19",
          "14",
          "15",
          "16",
          "17",
          "18",
          "19",
          "13",
          "14",
          "15",
          "16",
          "17",
          "18",
          "19",
          "13",
          "15",
          "16",
          "18",
          "19",
          "12",
          "13",
          "14",
          "15",
          "16",
          "17",
          "18",
          "19",
          "14",
          "15",
          "16",
          "17",
          "18",
          "19",
          "13",
          "14",
          "15",
          "16",
          "17",
          "18",
          "19",
          "11",
          "12",
          "13",
          "14",
          "15",
          "16",
          "17",
          "18",
          "19",
          "14",
          "16",
          "19",
          "12",
          "13",
          "14",
          "15",
          "16",
          "17",
          "18",
          "19",
          "15",
          "17",
          "18",
          "15",
          "15",
          "16",
          "17",
          "18",
          "19",
          "14",
          "15",
          "16",
          "17",
          "18",
          "19",
          "13",
          "14",
          "15",
          "16",
          "17",
          "18",
          "19",
          "13",
          "14",
          "15",
          "16",
          "17",
          "18",
          "19",
          "14",
          "15",
          "16",
          "17",
          "18",
          "19",
          "12",
          "13",
          "14",
          "15",
          "16",
          "17",
          "18",
          "19",
          "12",
          "13",
          "14",
          "15",
          "16",
          "17",
          "18",
          "19",
          "15",
          "16",
          "17",
          "18",
          "19",
          "13",
          "14",
          "15",
          "16",
          "17",
          "18",
          "19",
          "16",
          "17",
          "18",
          "19",
          "14",
          "15",
          "16",
          "17",
          "18",
          "19",
          "14",
          "15",
          "16",
          "17",
          "18",
          "19",
          "15",
          "16",
          "19",
          "17",
          "18",
          "19",
          "15",
          "18",
          "15",
          "17",
          "18",
          "19",
          "19",
          "19",
          "14",
          "15",
          "16",
          "17",
          "18",
          "19",
          "19",
          "15",
          "18",
          "14",
          "16",
          "17",
          "18",
          "19",
          "14",
          "15",
          "16",
          "17",
          "18",
          "19",
          "17",
          "15",
          "16",
          "17",
          "18",
          "19",
          "11",
          "12",
          "13",
          "14",
          "15",
          "16",
          "17",
          "18",
          "19",
          "13",
          "14",
          "15",
          "16",
          "17",
          "18",
          "19",
          "13",
          "14",
          "15",
          "16",
          "17",
          "18",
          "19",
          "19",
          "16",
          "17",
          "19",
          "16",
          "17",
          "18",
          "16",
          "17",
          "19",
          "17",
          "16",
          "19",
          "15",
          "17",
          "11",
          "13",
          "14",
          "15",
          "16",
          "17",
          "18",
          "19",
          "14",
          "15",
          "18",
          "17",
          "17",
          "17",
          "18",
          "14",
          "15",
          "16",
          "17",
          "18",
          "19",
          "10",
          "17",
          "18",
          "19",
          "19",
          "12",
          "15",
          "16",
          "17",
          "17",
          "19",
          "14",
          "18",
          "19",
          "17",
          "19",
          "17",
          "18",
          "19",
          "13",
          "14",
          "15",
          "16",
          "17",
          "18",
          "19",
          "13",
          "14",
          "15",
          "16",
          "17",
          "18",
          "19",
          "18",
          "11",
          "12",
          "13",
          "14",
          "15",
          "16",
          "17",
          "18",
          "19",
          "17",
          "17",
          "18",
          "18",
          "19",
          "14",
          "17",
          "16",
          "15",
          "17",
          "17",
          "19",
          "16",
          "18",
          "16",
          "17",
          "18",
          "19",
          "16",
          "18",
          "15",
          "18",
          "19",
          "15",
          "16",
          "17",
          "18",
          "19",
          "15",
          "17",
          "14",
          "15",
          "16",
          "17",
          "18",
          "19",
          "19",
          "16",
          "18",
          "19",
          "17",
          "16",
          "17",
          "18",
          "19",
          "15",
          "16",
          "19",
          "15",
          "13",
          "14",
          "15",
          "16",
          "17",
          "18",
          "19",
          "17",
          "18",
          "19",
          "19",
          "13",
          "14",
          "15",
          "17",
          "18",
          "19",
          "13",
          "14",
          "15",
          "16",
          "17",
          "18",
          "19",
          "15",
          "18",
          "16",
          "18",
          "19",
          "17",
          "14",
          "16",
          "17",
          "18",
          "19",
          "15",
          "16",
          "19",
          "15",
          "16",
          "17",
          "19",
          "14",
          "16",
          "17",
          "18",
          "19",
          "15",
          "19",
          "19",
          "14",
          "15",
          "16",
          "17",
          "18",
          "19",
          "19",
          "14",
          "15",
          "16",
          "17",
          "18",
          "19",
          "16",
          "17",
          "19",
          "17",
          "18",
          "18",
          "14",
          "19",
          "",
          "",
          "",
          "",
          "",
          "",
          "",
          "",
          "",
          ""
         ],
         "type": "treemap",
         "values": [
          1,
          1,
          3,
          1,
          9,
          9,
          1,
          2,
          2,
          2,
          5,
          6,
          26,
          48,
          53,
          57,
          68,
          1,
          3,
          9,
          9,
          5,
          12,
          1,
          1,
          1,
          1,
          1,
          1,
          2,
          1,
          1,
          6,
          31,
          98,
          136,
          205,
          255,
          286,
          1,
          1,
          1,
          6,
          6,
          18,
          28,
          44,
          46,
          48,
          1,
          1,
          1,
          1,
          1,
          1,
          1,
          1,
          3,
          4,
          5,
          5,
          1,
          4,
          1,
          1,
          1,
          1,
          3,
          1,
          2,
          4,
          1,
          3,
          3,
          3,
          1,
          1,
          3,
          4,
          3,
          4,
          5,
          1,
          3,
          4,
          6,
          4,
          10,
          1,
          1,
          6,
          2,
          3,
          13,
          6,
          2,
          6,
          1,
          4,
          3,
          5,
          1,
          2,
          2,
          2,
          6,
          1,
          2,
          5,
          16,
          31,
          35,
          36,
          2,
          2,
          4,
          1,
          1,
          6,
          7,
          7,
          1,
          1,
          1,
          4,
          5,
          12,
          14,
          12,
          1,
          1,
          9,
          22,
          26,
          51,
          60,
          50,
          1,
          1,
          9,
          19,
          20,
          53,
          71,
          63,
          1,
          2,
          1,
          1,
          1,
          9,
          21,
          59,
          78,
          115,
          118,
          1,
          6,
          18,
          48,
          99,
          165,
          195,
          228,
          1,
          2,
          6,
          4,
          8,
          8,
          1,
          10,
          11,
          24,
          26,
          39,
          41,
          1,
          2,
          1,
          5,
          3,
          1,
          11,
          65,
          173,
          284,
          386,
          492,
          592,
          3,
          13,
          25,
          36,
          53,
          54,
          1,
          9,
          12,
          16,
          31,
          30,
          24,
          1,
          2,
          4,
          9,
          45,
          81,
          114,
          132,
          170,
          2,
          1,
          2,
          3,
          1,
          21,
          57,
          98,
          117,
          161,
          166,
          1,
          1,
          1,
          1,
          3,
          4,
          8,
          8,
          8,
          1,
          3,
          3,
          4,
          2,
          5,
          1,
          2,
          9,
          17,
          19,
          14,
          30,
          2,
          5,
          3,
          10,
          21,
          29,
          29,
          1,
          2,
          2,
          3,
          1,
          4,
          1,
          1,
          3,
          6,
          13,
          17,
          19,
          12,
          1,
          4,
          45,
          94,
          122,
          236,
          229,
          287,
          1,
          5,
          9,
          14,
          5,
          1,
          6,
          17,
          40,
          43,
          69,
          92,
          1,
          2,
          3,
          4,
          1,
          3,
          5,
          8,
          12,
          13,
          1,
          5,
          6,
          8,
          8,
          12,
          1,
          1,
          1,
          1,
          1,
          1,
          1,
          1,
          2,
          3,
          2,
          1,
          1,
          3,
          1,
          1,
          6,
          4,
          8,
          12,
          1,
          1,
          1,
          1,
          1,
          1,
          1,
          1,
          11,
          17,
          15,
          29,
          41,
          46,
          1,
          3,
          2,
          2,
          3,
          1,
          1,
          1,
          8,
          31,
          73,
          125,
          175,
          215,
          254,
          2,
          5,
          6,
          14,
          34,
          28,
          45,
          2,
          14,
          29,
          58,
          46,
          85,
          103,
          3,
          1,
          1,
          1,
          1,
          2,
          2,
          2,
          1,
          3,
          1,
          1,
          1,
          1,
          1,
          1,
          1,
          8,
          31,
          56,
          61,
          77,
          85,
          1,
          1,
          1,
          1,
          1,
          1,
          1,
          1,
          5,
          8,
          16,
          11,
          20,
          1,
          1,
          2,
          2,
          1,
          1,
          1,
          2,
          2,
          1,
          1,
          1,
          1,
          2,
          1,
          1,
          2,
          2,
          1,
          1,
          5,
          10,
          17,
          17,
          29,
          27,
          10,
          23,
          45,
          69,
          99,
          131,
          152,
          1,
          2,
          10,
          66,
          178,
          457,
          866,
          1196,
          1403,
          1661,
          1,
          1,
          1,
          1,
          2,
          1,
          2,
          1,
          1,
          2,
          1,
          3,
          1,
          1,
          2,
          2,
          1,
          2,
          1,
          1,
          1,
          1,
          1,
          1,
          4,
          4,
          6,
          5,
          1,
          1,
          1,
          2,
          1,
          4,
          6,
          3,
          1,
          1,
          1,
          1,
          1,
          1,
          2,
          1,
          2,
          1,
          1,
          2,
          1,
          2,
          14,
          38,
          65,
          84,
          91,
          116,
          3,
          1,
          4,
          1,
          1,
          1,
          1,
          3,
          1,
          2,
          1,
          12,
          29,
          38,
          52,
          59,
          53,
          1,
          1,
          1,
          1,
          2,
          1,
          1,
          1,
          1,
          2,
          6,
          1,
          2,
          2,
          1,
          1,
          1,
          2,
          1,
          1,
          4,
          3,
          5,
          1,
          1,
          1,
          2,
          3,
          7,
          16,
          16,
          31,
          1,
          2,
          2,
          1,
          3,
          3,
          4,
          1,
          1,
          1,
          1,
          1,
          1,
          1,
          1,
          1,
          5,
          24,
          153,
          600,
          1523,
          2621,
          3727,
          4496,
          5237
         ]
        }
       ],
       "layout": {
        "autosize": true,
        "coloraxis": {
         "colorbar": {
          "thickness": 30,
          "thicknessmode": "pixels",
          "title": {
           "text": ""
          }
         },
         "colorscale": [
          [
           0,
           "rgb(247,251,255)"
          ],
          [
           0.125,
           "rgb(222,235,247)"
          ],
          [
           0.25,
           "rgb(198,219,239)"
          ],
          [
           0.375,
           "rgb(158,202,225)"
          ],
          [
           0.5,
           "rgb(107,174,214)"
          ],
          [
           0.625,
           "rgb(66,146,198)"
          ],
          [
           0.75,
           "rgb(33,113,181)"
          ],
          [
           0.875,
           "rgb(8,81,156)"
          ],
          [
           1,
           "rgb(8,48,107)"
          ]
         ],
         "showscale": false
        },
        "legend": {
         "tracegroupgap": 0
        },
        "margin": {
         "b": 0,
         "l": 0,
         "r": 0,
         "t": 0
        },
        "template": {
         "data": {
          "bar": [
           {
            "error_x": {
             "color": "#2a3f5f"
            },
            "error_y": {
             "color": "#2a3f5f"
            },
            "marker": {
             "line": {
              "color": "#E5ECF6",
              "width": 0.5
             },
             "pattern": {
              "fillmode": "overlay",
              "size": 10,
              "solidity": 0.2
             }
            },
            "type": "bar"
           }
          ],
          "barpolar": [
           {
            "marker": {
             "line": {
              "color": "#E5ECF6",
              "width": 0.5
             },
             "pattern": {
              "fillmode": "overlay",
              "size": 10,
              "solidity": 0.2
             }
            },
            "type": "barpolar"
           }
          ],
          "carpet": [
           {
            "aaxis": {
             "endlinecolor": "#2a3f5f",
             "gridcolor": "white",
             "linecolor": "white",
             "minorgridcolor": "white",
             "startlinecolor": "#2a3f5f"
            },
            "baxis": {
             "endlinecolor": "#2a3f5f",
             "gridcolor": "white",
             "linecolor": "white",
             "minorgridcolor": "white",
             "startlinecolor": "#2a3f5f"
            },
            "type": "carpet"
           }
          ],
          "choropleth": [
           {
            "colorbar": {
             "outlinewidth": 0,
             "ticks": ""
            },
            "type": "choropleth"
           }
          ],
          "contour": [
           {
            "colorbar": {
             "outlinewidth": 0,
             "ticks": ""
            },
            "colorscale": [
             [
              0,
              "#0d0887"
             ],
             [
              0.1111111111111111,
              "#46039f"
             ],
             [
              0.2222222222222222,
              "#7201a8"
             ],
             [
              0.3333333333333333,
              "#9c179e"
             ],
             [
              0.4444444444444444,
              "#bd3786"
             ],
             [
              0.5555555555555556,
              "#d8576b"
             ],
             [
              0.6666666666666666,
              "#ed7953"
             ],
             [
              0.7777777777777778,
              "#fb9f3a"
             ],
             [
              0.8888888888888888,
              "#fdca26"
             ],
             [
              1,
              "#f0f921"
             ]
            ],
            "type": "contour"
           }
          ],
          "contourcarpet": [
           {
            "colorbar": {
             "outlinewidth": 0,
             "ticks": ""
            },
            "type": "contourcarpet"
           }
          ],
          "heatmap": [
           {
            "colorbar": {
             "outlinewidth": 0,
             "ticks": ""
            },
            "colorscale": [
             [
              0,
              "#0d0887"
             ],
             [
              0.1111111111111111,
              "#46039f"
             ],
             [
              0.2222222222222222,
              "#7201a8"
             ],
             [
              0.3333333333333333,
              "#9c179e"
             ],
             [
              0.4444444444444444,
              "#bd3786"
             ],
             [
              0.5555555555555556,
              "#d8576b"
             ],
             [
              0.6666666666666666,
              "#ed7953"
             ],
             [
              0.7777777777777778,
              "#fb9f3a"
             ],
             [
              0.8888888888888888,
              "#fdca26"
             ],
             [
              1,
              "#f0f921"
             ]
            ],
            "type": "heatmap"
           }
          ],
          "heatmapgl": [
           {
            "colorbar": {
             "outlinewidth": 0,
             "ticks": ""
            },
            "colorscale": [
             [
              0,
              "#0d0887"
             ],
             [
              0.1111111111111111,
              "#46039f"
             ],
             [
              0.2222222222222222,
              "#7201a8"
             ],
             [
              0.3333333333333333,
              "#9c179e"
             ],
             [
              0.4444444444444444,
              "#bd3786"
             ],
             [
              0.5555555555555556,
              "#d8576b"
             ],
             [
              0.6666666666666666,
              "#ed7953"
             ],
             [
              0.7777777777777778,
              "#fb9f3a"
             ],
             [
              0.8888888888888888,
              "#fdca26"
             ],
             [
              1,
              "#f0f921"
             ]
            ],
            "type": "heatmapgl"
           }
          ],
          "histogram": [
           {
            "marker": {
             "pattern": {
              "fillmode": "overlay",
              "size": 10,
              "solidity": 0.2
             }
            },
            "type": "histogram"
           }
          ],
          "histogram2d": [
           {
            "colorbar": {
             "outlinewidth": 0,
             "ticks": ""
            },
            "colorscale": [
             [
              0,
              "#0d0887"
             ],
             [
              0.1111111111111111,
              "#46039f"
             ],
             [
              0.2222222222222222,
              "#7201a8"
             ],
             [
              0.3333333333333333,
              "#9c179e"
             ],
             [
              0.4444444444444444,
              "#bd3786"
             ],
             [
              0.5555555555555556,
              "#d8576b"
             ],
             [
              0.6666666666666666,
              "#ed7953"
             ],
             [
              0.7777777777777778,
              "#fb9f3a"
             ],
             [
              0.8888888888888888,
              "#fdca26"
             ],
             [
              1,
              "#f0f921"
             ]
            ],
            "type": "histogram2d"
           }
          ],
          "histogram2dcontour": [
           {
            "colorbar": {
             "outlinewidth": 0,
             "ticks": ""
            },
            "colorscale": [
             [
              0,
              "#0d0887"
             ],
             [
              0.1111111111111111,
              "#46039f"
             ],
             [
              0.2222222222222222,
              "#7201a8"
             ],
             [
              0.3333333333333333,
              "#9c179e"
             ],
             [
              0.4444444444444444,
              "#bd3786"
             ],
             [
              0.5555555555555556,
              "#d8576b"
             ],
             [
              0.6666666666666666,
              "#ed7953"
             ],
             [
              0.7777777777777778,
              "#fb9f3a"
             ],
             [
              0.8888888888888888,
              "#fdca26"
             ],
             [
              1,
              "#f0f921"
             ]
            ],
            "type": "histogram2dcontour"
           }
          ],
          "mesh3d": [
           {
            "colorbar": {
             "outlinewidth": 0,
             "ticks": ""
            },
            "type": "mesh3d"
           }
          ],
          "parcoords": [
           {
            "line": {
             "colorbar": {
              "outlinewidth": 0,
              "ticks": ""
             }
            },
            "type": "parcoords"
           }
          ],
          "pie": [
           {
            "automargin": true,
            "type": "pie"
           }
          ],
          "scatter": [
           {
            "fillpattern": {
             "fillmode": "overlay",
             "size": 10,
             "solidity": 0.2
            },
            "type": "scatter"
           }
          ],
          "scatter3d": [
           {
            "line": {
             "colorbar": {
              "outlinewidth": 0,
              "ticks": ""
             }
            },
            "marker": {
             "colorbar": {
              "outlinewidth": 0,
              "ticks": ""
             }
            },
            "type": "scatter3d"
           }
          ],
          "scattercarpet": [
           {
            "marker": {
             "colorbar": {
              "outlinewidth": 0,
              "ticks": ""
             }
            },
            "type": "scattercarpet"
           }
          ],
          "scattergeo": [
           {
            "marker": {
             "colorbar": {
              "outlinewidth": 0,
              "ticks": ""
             }
            },
            "type": "scattergeo"
           }
          ],
          "scattergl": [
           {
            "marker": {
             "colorbar": {
              "outlinewidth": 0,
              "ticks": ""
             }
            },
            "type": "scattergl"
           }
          ],
          "scattermapbox": [
           {
            "marker": {
             "colorbar": {
              "outlinewidth": 0,
              "ticks": ""
             }
            },
            "type": "scattermapbox"
           }
          ],
          "scatterpolar": [
           {
            "marker": {
             "colorbar": {
              "outlinewidth": 0,
              "ticks": ""
             }
            },
            "type": "scatterpolar"
           }
          ],
          "scatterpolargl": [
           {
            "marker": {
             "colorbar": {
              "outlinewidth": 0,
              "ticks": ""
             }
            },
            "type": "scatterpolargl"
           }
          ],
          "scatterternary": [
           {
            "marker": {
             "colorbar": {
              "outlinewidth": 0,
              "ticks": ""
             }
            },
            "type": "scatterternary"
           }
          ],
          "surface": [
           {
            "colorbar": {
             "outlinewidth": 0,
             "ticks": ""
            },
            "colorscale": [
             [
              0,
              "#0d0887"
             ],
             [
              0.1111111111111111,
              "#46039f"
             ],
             [
              0.2222222222222222,
              "#7201a8"
             ],
             [
              0.3333333333333333,
              "#9c179e"
             ],
             [
              0.4444444444444444,
              "#bd3786"
             ],
             [
              0.5555555555555556,
              "#d8576b"
             ],
             [
              0.6666666666666666,
              "#ed7953"
             ],
             [
              0.7777777777777778,
              "#fb9f3a"
             ],
             [
              0.8888888888888888,
              "#fdca26"
             ],
             [
              1,
              "#f0f921"
             ]
            ],
            "type": "surface"
           }
          ],
          "table": [
           {
            "cells": {
             "fill": {
              "color": "#EBF0F8"
             },
             "line": {
              "color": "white"
             }
            },
            "header": {
             "fill": {
              "color": "#C8D4E3"
             },
             "line": {
              "color": "white"
             }
            },
            "type": "table"
           }
          ]
         },
         "layout": {
          "annotationdefaults": {
           "arrowcolor": "#2a3f5f",
           "arrowhead": 0,
           "arrowwidth": 1
          },
          "autotypenumbers": "strict",
          "coloraxis": {
           "colorbar": {
            "outlinewidth": 0,
            "ticks": ""
           }
          },
          "colorscale": {
           "diverging": [
            [
             0,
             "#8e0152"
            ],
            [
             0.1,
             "#c51b7d"
            ],
            [
             0.2,
             "#de77ae"
            ],
            [
             0.3,
             "#f1b6da"
            ],
            [
             0.4,
             "#fde0ef"
            ],
            [
             0.5,
             "#f7f7f7"
            ],
            [
             0.6,
             "#e6f5d0"
            ],
            [
             0.7,
             "#b8e186"
            ],
            [
             0.8,
             "#7fbc41"
            ],
            [
             0.9,
             "#4d9221"
            ],
            [
             1,
             "#276419"
            ]
           ],
           "sequential": [
            [
             0,
             "#0d0887"
            ],
            [
             0.1111111111111111,
             "#46039f"
            ],
            [
             0.2222222222222222,
             "#7201a8"
            ],
            [
             0.3333333333333333,
             "#9c179e"
            ],
            [
             0.4444444444444444,
             "#bd3786"
            ],
            [
             0.5555555555555556,
             "#d8576b"
            ],
            [
             0.6666666666666666,
             "#ed7953"
            ],
            [
             0.7777777777777778,
             "#fb9f3a"
            ],
            [
             0.8888888888888888,
             "#fdca26"
            ],
            [
             1,
             "#f0f921"
            ]
           ],
           "sequentialminus": [
            [
             0,
             "#0d0887"
            ],
            [
             0.1111111111111111,
             "#46039f"
            ],
            [
             0.2222222222222222,
             "#7201a8"
            ],
            [
             0.3333333333333333,
             "#9c179e"
            ],
            [
             0.4444444444444444,
             "#bd3786"
            ],
            [
             0.5555555555555556,
             "#d8576b"
            ],
            [
             0.6666666666666666,
             "#ed7953"
            ],
            [
             0.7777777777777778,
             "#fb9f3a"
            ],
            [
             0.8888888888888888,
             "#fdca26"
            ],
            [
             1,
             "#f0f921"
            ]
           ]
          },
          "colorway": [
           "#636efa",
           "#EF553B",
           "#00cc96",
           "#ab63fa",
           "#FFA15A",
           "#19d3f3",
           "#FF6692",
           "#B6E880",
           "#FF97FF",
           "#FECB52"
          ],
          "font": {
           "color": "#2a3f5f"
          },
          "geo": {
           "bgcolor": "white",
           "lakecolor": "white",
           "landcolor": "#E5ECF6",
           "showlakes": true,
           "showland": true,
           "subunitcolor": "white"
          },
          "hoverlabel": {
           "align": "left"
          },
          "hovermode": "closest",
          "mapbox": {
           "style": "light"
          },
          "paper_bgcolor": "white",
          "plot_bgcolor": "#E5ECF6",
          "polar": {
           "angularaxis": {
            "gridcolor": "white",
            "linecolor": "white",
            "ticks": ""
           },
           "bgcolor": "#E5ECF6",
           "radialaxis": {
            "gridcolor": "white",
            "linecolor": "white",
            "ticks": ""
           }
          },
          "scene": {
           "xaxis": {
            "backgroundcolor": "#E5ECF6",
            "gridcolor": "white",
            "gridwidth": 2,
            "linecolor": "white",
            "showbackground": true,
            "ticks": "",
            "zerolinecolor": "white"
           },
           "yaxis": {
            "backgroundcolor": "#E5ECF6",
            "gridcolor": "white",
            "gridwidth": 2,
            "linecolor": "white",
            "showbackground": true,
            "ticks": "",
            "zerolinecolor": "white"
           },
           "zaxis": {
            "backgroundcolor": "#E5ECF6",
            "gridcolor": "white",
            "gridwidth": 2,
            "linecolor": "white",
            "showbackground": true,
            "ticks": "",
            "zerolinecolor": "white"
           }
          },
          "shapedefaults": {
           "line": {
            "color": "#2a3f5f"
           }
          },
          "ternary": {
           "aaxis": {
            "gridcolor": "white",
            "linecolor": "white",
            "ticks": ""
           },
           "baxis": {
            "gridcolor": "white",
            "linecolor": "white",
            "ticks": ""
           },
           "bgcolor": "#E5ECF6",
           "caxis": {
            "gridcolor": "white",
            "linecolor": "white",
            "ticks": ""
           }
          },
          "title": {
           "x": 0.05
          },
          "xaxis": {
           "automargin": true,
           "gridcolor": "white",
           "linecolor": "white",
           "ticks": "",
           "title": {
            "standoff": 15
           },
           "zerolinecolor": "white",
           "zerolinewidth": 2
          },
          "yaxis": {
           "automargin": true,
           "gridcolor": "white",
           "linecolor": "white",
           "ticks": "",
           "title": {
            "standoff": 15
           },
           "zerolinecolor": "white",
           "zerolinewidth": 2
          }
         }
        }
       }
      }
     },
     "metadata": {},
     "output_type": "display_data"
    }
   ],
   "source": [
    "# Filtrar datos relevantes y contar ocurrencias\n",
    "data = MORT_FET.groupby(['eda_madr', 'causa_def']).size().reset_index(name='ocurrencias')\n",
    "data.to_csv('C://Users//sdvc0//OneDrive//Escritorio//REPOSITORIO_ENAPEA//BACK//Mortalidad//Fetal//Gráficas//MORT_FET_6.csv', index=False)\n",
    "\n",
    "# Crear tree map con Plotly Express\n",
    "fig = px.treemap(data, \n",
    "                 path=['eda_madr', 'causa_def'],  # Definir la jerarquía de los niveles\n",
    "                 values='ocurrencias',  # Valores para determinar el tamaño de las cajas\n",
    "                 color='ocurrencias',\n",
    "                 color_continuous_scale='Blues',  # Escala de color Blues\n",
    "                 labels={'ocurrencias': 'Ocurrencias', 'eda_madr': 'Edad Madre', 'causa_def': 'Causa de Defunción'},\n",
    "                 title='',  # Eliminar título\n",
    ")\n",
    "# Ajustar diseño del tree map\n",
    "fig.update_layout(\n",
    "    margin=dict(l=0, r=0, t=0, b=0),\n",
    "    coloraxis_colorbar=dict(\n",
    "        title='',\n",
    "        thicknessmode=\"pixels\", thickness=30,\n",
    "    ),\n",
    "    coloraxis_showscale=False ,\n",
    "    autosize=True\n",
    ")\n",
    "\n",
    "# Guardar el gráfico en un archivo HTML\n",
    "fig.write_html('C://Users//sdvc0//OneDrive//Escritorio//REPOSITORIO_ENAPEA//BACK//Mortalidad//Fetal//Gráficas//MORT_FET_6.html')\n",
    "\n",
    "# Mostrar el tree map (opcional)\n",
    "fig.show()\n",
    "\n"
   ]
  },
  {
   "cell_type": "code",
   "execution_count": 9,
   "metadata": {},
   "outputs": [
    {
     "data": {
      "application/vnd.plotly.v1+json": {
       "config": {
        "plotlyServerURL": "https://plot.ly"
       },
       "data": [
        {
         "domain": {
          "x": [
           0,
           1
          ],
          "y": [
           0,
           1
          ]
         },
         "hovertemplate": "de_un_emba=%{label}<br>Cantidad de ocurrencias=%{value}<extra></extra>",
         "labels": [
          "Único",
          "Gemelar",
          "Triple o más"
         ],
         "legendgroup": "",
         "name": "",
         "showlegend": true,
         "textinfo": "value+percent",
         "textposition": "inside",
         "type": "pie",
         "values": [
          17310,
          1044,
          33
         ]
        }
       ],
       "layout": {
        "autosize": true,
        "height": 300,
        "legend": {
         "tracegroupgap": 0
        },
        "margin": {
         "b": 0,
         "l": 0,
         "r": 0,
         "t": 0
        },
        "piecolorway": [
         "#f77f00",
         "#fcbf49",
         "#fcf6bd"
        ],
        "showlegend": true,
        "template": {
         "data": {
          "bar": [
           {
            "error_x": {
             "color": "#2a3f5f"
            },
            "error_y": {
             "color": "#2a3f5f"
            },
            "marker": {
             "line": {
              "color": "#E5ECF6",
              "width": 0.5
             },
             "pattern": {
              "fillmode": "overlay",
              "size": 10,
              "solidity": 0.2
             }
            },
            "type": "bar"
           }
          ],
          "barpolar": [
           {
            "marker": {
             "line": {
              "color": "#E5ECF6",
              "width": 0.5
             },
             "pattern": {
              "fillmode": "overlay",
              "size": 10,
              "solidity": 0.2
             }
            },
            "type": "barpolar"
           }
          ],
          "carpet": [
           {
            "aaxis": {
             "endlinecolor": "#2a3f5f",
             "gridcolor": "white",
             "linecolor": "white",
             "minorgridcolor": "white",
             "startlinecolor": "#2a3f5f"
            },
            "baxis": {
             "endlinecolor": "#2a3f5f",
             "gridcolor": "white",
             "linecolor": "white",
             "minorgridcolor": "white",
             "startlinecolor": "#2a3f5f"
            },
            "type": "carpet"
           }
          ],
          "choropleth": [
           {
            "colorbar": {
             "outlinewidth": 0,
             "ticks": ""
            },
            "type": "choropleth"
           }
          ],
          "contour": [
           {
            "colorbar": {
             "outlinewidth": 0,
             "ticks": ""
            },
            "colorscale": [
             [
              0,
              "#0d0887"
             ],
             [
              0.1111111111111111,
              "#46039f"
             ],
             [
              0.2222222222222222,
              "#7201a8"
             ],
             [
              0.3333333333333333,
              "#9c179e"
             ],
             [
              0.4444444444444444,
              "#bd3786"
             ],
             [
              0.5555555555555556,
              "#d8576b"
             ],
             [
              0.6666666666666666,
              "#ed7953"
             ],
             [
              0.7777777777777778,
              "#fb9f3a"
             ],
             [
              0.8888888888888888,
              "#fdca26"
             ],
             [
              1,
              "#f0f921"
             ]
            ],
            "type": "contour"
           }
          ],
          "contourcarpet": [
           {
            "colorbar": {
             "outlinewidth": 0,
             "ticks": ""
            },
            "type": "contourcarpet"
           }
          ],
          "heatmap": [
           {
            "colorbar": {
             "outlinewidth": 0,
             "ticks": ""
            },
            "colorscale": [
             [
              0,
              "#0d0887"
             ],
             [
              0.1111111111111111,
              "#46039f"
             ],
             [
              0.2222222222222222,
              "#7201a8"
             ],
             [
              0.3333333333333333,
              "#9c179e"
             ],
             [
              0.4444444444444444,
              "#bd3786"
             ],
             [
              0.5555555555555556,
              "#d8576b"
             ],
             [
              0.6666666666666666,
              "#ed7953"
             ],
             [
              0.7777777777777778,
              "#fb9f3a"
             ],
             [
              0.8888888888888888,
              "#fdca26"
             ],
             [
              1,
              "#f0f921"
             ]
            ],
            "type": "heatmap"
           }
          ],
          "heatmapgl": [
           {
            "colorbar": {
             "outlinewidth": 0,
             "ticks": ""
            },
            "colorscale": [
             [
              0,
              "#0d0887"
             ],
             [
              0.1111111111111111,
              "#46039f"
             ],
             [
              0.2222222222222222,
              "#7201a8"
             ],
             [
              0.3333333333333333,
              "#9c179e"
             ],
             [
              0.4444444444444444,
              "#bd3786"
             ],
             [
              0.5555555555555556,
              "#d8576b"
             ],
             [
              0.6666666666666666,
              "#ed7953"
             ],
             [
              0.7777777777777778,
              "#fb9f3a"
             ],
             [
              0.8888888888888888,
              "#fdca26"
             ],
             [
              1,
              "#f0f921"
             ]
            ],
            "type": "heatmapgl"
           }
          ],
          "histogram": [
           {
            "marker": {
             "pattern": {
              "fillmode": "overlay",
              "size": 10,
              "solidity": 0.2
             }
            },
            "type": "histogram"
           }
          ],
          "histogram2d": [
           {
            "colorbar": {
             "outlinewidth": 0,
             "ticks": ""
            },
            "colorscale": [
             [
              0,
              "#0d0887"
             ],
             [
              0.1111111111111111,
              "#46039f"
             ],
             [
              0.2222222222222222,
              "#7201a8"
             ],
             [
              0.3333333333333333,
              "#9c179e"
             ],
             [
              0.4444444444444444,
              "#bd3786"
             ],
             [
              0.5555555555555556,
              "#d8576b"
             ],
             [
              0.6666666666666666,
              "#ed7953"
             ],
             [
              0.7777777777777778,
              "#fb9f3a"
             ],
             [
              0.8888888888888888,
              "#fdca26"
             ],
             [
              1,
              "#f0f921"
             ]
            ],
            "type": "histogram2d"
           }
          ],
          "histogram2dcontour": [
           {
            "colorbar": {
             "outlinewidth": 0,
             "ticks": ""
            },
            "colorscale": [
             [
              0,
              "#0d0887"
             ],
             [
              0.1111111111111111,
              "#46039f"
             ],
             [
              0.2222222222222222,
              "#7201a8"
             ],
             [
              0.3333333333333333,
              "#9c179e"
             ],
             [
              0.4444444444444444,
              "#bd3786"
             ],
             [
              0.5555555555555556,
              "#d8576b"
             ],
             [
              0.6666666666666666,
              "#ed7953"
             ],
             [
              0.7777777777777778,
              "#fb9f3a"
             ],
             [
              0.8888888888888888,
              "#fdca26"
             ],
             [
              1,
              "#f0f921"
             ]
            ],
            "type": "histogram2dcontour"
           }
          ],
          "mesh3d": [
           {
            "colorbar": {
             "outlinewidth": 0,
             "ticks": ""
            },
            "type": "mesh3d"
           }
          ],
          "parcoords": [
           {
            "line": {
             "colorbar": {
              "outlinewidth": 0,
              "ticks": ""
             }
            },
            "type": "parcoords"
           }
          ],
          "pie": [
           {
            "automargin": true,
            "type": "pie"
           }
          ],
          "scatter": [
           {
            "fillpattern": {
             "fillmode": "overlay",
             "size": 10,
             "solidity": 0.2
            },
            "type": "scatter"
           }
          ],
          "scatter3d": [
           {
            "line": {
             "colorbar": {
              "outlinewidth": 0,
              "ticks": ""
             }
            },
            "marker": {
             "colorbar": {
              "outlinewidth": 0,
              "ticks": ""
             }
            },
            "type": "scatter3d"
           }
          ],
          "scattercarpet": [
           {
            "marker": {
             "colorbar": {
              "outlinewidth": 0,
              "ticks": ""
             }
            },
            "type": "scattercarpet"
           }
          ],
          "scattergeo": [
           {
            "marker": {
             "colorbar": {
              "outlinewidth": 0,
              "ticks": ""
             }
            },
            "type": "scattergeo"
           }
          ],
          "scattergl": [
           {
            "marker": {
             "colorbar": {
              "outlinewidth": 0,
              "ticks": ""
             }
            },
            "type": "scattergl"
           }
          ],
          "scattermapbox": [
           {
            "marker": {
             "colorbar": {
              "outlinewidth": 0,
              "ticks": ""
             }
            },
            "type": "scattermapbox"
           }
          ],
          "scatterpolar": [
           {
            "marker": {
             "colorbar": {
              "outlinewidth": 0,
              "ticks": ""
             }
            },
            "type": "scatterpolar"
           }
          ],
          "scatterpolargl": [
           {
            "marker": {
             "colorbar": {
              "outlinewidth": 0,
              "ticks": ""
             }
            },
            "type": "scatterpolargl"
           }
          ],
          "scatterternary": [
           {
            "marker": {
             "colorbar": {
              "outlinewidth": 0,
              "ticks": ""
             }
            },
            "type": "scatterternary"
           }
          ],
          "surface": [
           {
            "colorbar": {
             "outlinewidth": 0,
             "ticks": ""
            },
            "colorscale": [
             [
              0,
              "#0d0887"
             ],
             [
              0.1111111111111111,
              "#46039f"
             ],
             [
              0.2222222222222222,
              "#7201a8"
             ],
             [
              0.3333333333333333,
              "#9c179e"
             ],
             [
              0.4444444444444444,
              "#bd3786"
             ],
             [
              0.5555555555555556,
              "#d8576b"
             ],
             [
              0.6666666666666666,
              "#ed7953"
             ],
             [
              0.7777777777777778,
              "#fb9f3a"
             ],
             [
              0.8888888888888888,
              "#fdca26"
             ],
             [
              1,
              "#f0f921"
             ]
            ],
            "type": "surface"
           }
          ],
          "table": [
           {
            "cells": {
             "fill": {
              "color": "#EBF0F8"
             },
             "line": {
              "color": "white"
             }
            },
            "header": {
             "fill": {
              "color": "#C8D4E3"
             },
             "line": {
              "color": "white"
             }
            },
            "type": "table"
           }
          ]
         },
         "layout": {
          "annotationdefaults": {
           "arrowcolor": "#2a3f5f",
           "arrowhead": 0,
           "arrowwidth": 1
          },
          "autotypenumbers": "strict",
          "coloraxis": {
           "colorbar": {
            "outlinewidth": 0,
            "ticks": ""
           }
          },
          "colorscale": {
           "diverging": [
            [
             0,
             "#8e0152"
            ],
            [
             0.1,
             "#c51b7d"
            ],
            [
             0.2,
             "#de77ae"
            ],
            [
             0.3,
             "#f1b6da"
            ],
            [
             0.4,
             "#fde0ef"
            ],
            [
             0.5,
             "#f7f7f7"
            ],
            [
             0.6,
             "#e6f5d0"
            ],
            [
             0.7,
             "#b8e186"
            ],
            [
             0.8,
             "#7fbc41"
            ],
            [
             0.9,
             "#4d9221"
            ],
            [
             1,
             "#276419"
            ]
           ],
           "sequential": [
            [
             0,
             "#0d0887"
            ],
            [
             0.1111111111111111,
             "#46039f"
            ],
            [
             0.2222222222222222,
             "#7201a8"
            ],
            [
             0.3333333333333333,
             "#9c179e"
            ],
            [
             0.4444444444444444,
             "#bd3786"
            ],
            [
             0.5555555555555556,
             "#d8576b"
            ],
            [
             0.6666666666666666,
             "#ed7953"
            ],
            [
             0.7777777777777778,
             "#fb9f3a"
            ],
            [
             0.8888888888888888,
             "#fdca26"
            ],
            [
             1,
             "#f0f921"
            ]
           ],
           "sequentialminus": [
            [
             0,
             "#0d0887"
            ],
            [
             0.1111111111111111,
             "#46039f"
            ],
            [
             0.2222222222222222,
             "#7201a8"
            ],
            [
             0.3333333333333333,
             "#9c179e"
            ],
            [
             0.4444444444444444,
             "#bd3786"
            ],
            [
             0.5555555555555556,
             "#d8576b"
            ],
            [
             0.6666666666666666,
             "#ed7953"
            ],
            [
             0.7777777777777778,
             "#fb9f3a"
            ],
            [
             0.8888888888888888,
             "#fdca26"
            ],
            [
             1,
             "#f0f921"
            ]
           ]
          },
          "colorway": [
           "#636efa",
           "#EF553B",
           "#00cc96",
           "#ab63fa",
           "#FFA15A",
           "#19d3f3",
           "#FF6692",
           "#B6E880",
           "#FF97FF",
           "#FECB52"
          ],
          "font": {
           "color": "#2a3f5f"
          },
          "geo": {
           "bgcolor": "white",
           "lakecolor": "white",
           "landcolor": "#E5ECF6",
           "showlakes": true,
           "showland": true,
           "subunitcolor": "white"
          },
          "hoverlabel": {
           "align": "left"
          },
          "hovermode": "closest",
          "mapbox": {
           "style": "light"
          },
          "paper_bgcolor": "white",
          "plot_bgcolor": "#E5ECF6",
          "polar": {
           "angularaxis": {
            "gridcolor": "white",
            "linecolor": "white",
            "ticks": ""
           },
           "bgcolor": "#E5ECF6",
           "radialaxis": {
            "gridcolor": "white",
            "linecolor": "white",
            "ticks": ""
           }
          },
          "scene": {
           "xaxis": {
            "backgroundcolor": "#E5ECF6",
            "gridcolor": "white",
            "gridwidth": 2,
            "linecolor": "white",
            "showbackground": true,
            "ticks": "",
            "zerolinecolor": "white"
           },
           "yaxis": {
            "backgroundcolor": "#E5ECF6",
            "gridcolor": "white",
            "gridwidth": 2,
            "linecolor": "white",
            "showbackground": true,
            "ticks": "",
            "zerolinecolor": "white"
           },
           "zaxis": {
            "backgroundcolor": "#E5ECF6",
            "gridcolor": "white",
            "gridwidth": 2,
            "linecolor": "white",
            "showbackground": true,
            "ticks": "",
            "zerolinecolor": "white"
           }
          },
          "shapedefaults": {
           "line": {
            "color": "#2a3f5f"
           }
          },
          "ternary": {
           "aaxis": {
            "gridcolor": "white",
            "linecolor": "white",
            "ticks": ""
           },
           "baxis": {
            "gridcolor": "white",
            "linecolor": "white",
            "ticks": ""
           },
           "bgcolor": "#E5ECF6",
           "caxis": {
            "gridcolor": "white",
            "linecolor": "white",
            "ticks": ""
           }
          },
          "title": {
           "x": 0.05
          },
          "xaxis": {
           "automargin": true,
           "gridcolor": "white",
           "linecolor": "white",
           "ticks": "",
           "title": {
            "standoff": 15
           },
           "zerolinecolor": "white",
           "zerolinewidth": 2
          },
          "yaxis": {
           "automargin": true,
           "gridcolor": "white",
           "linecolor": "white",
           "ticks": "",
           "title": {
            "standoff": 15
           },
           "zerolinecolor": "white",
           "zerolinewidth": 2
          }
         }
        },
        "width": 400
       }
      }
     },
     "metadata": {},
     "output_type": "display_data"
    }
   ],
   "source": [
    "# Calcular el conteo de ocurrencias por cada valor único en la columna de_un_emba\n",
    "ocurrencias_por_emba = MORT_FET['de_un_emba'].value_counts().reset_index()\n",
    "ocurrencias_por_emba.columns = ['de_un_emba', 'Cantidad de ocurrencias']\n",
    "ocurrencias_por_emba.to_csv('C://Users//sdvc0//OneDrive//Escritorio//REPOSITORIO_ENAPEA//BACK//Mortalidad//Fetal//Gráficas//MORT_FET_7.csv', index=False)\n",
    "\n",
    "\n",
    "# Definir los colores personalizados\n",
    "custom_colors = ['#f77f00', '#fcbf49', '#fcf6bd']\n",
    "\n",
    "# Crear pie chart con Plotly Express\n",
    "fig = px.pie(ocurrencias_por_emba, \n",
    "             names='de_un_emba', \n",
    "             values='Cantidad de ocurrencias', \n",
    "             color_discrete_sequence=custom_colors,\n",
    "             title='')  # Eliminar título\n",
    "\n",
    "# Ajustar diseño del pie chart\n",
    "fig.update_layout(\n",
    "    margin=dict(l=0, r=0, t=0, b=0),  # Ajustar márgenes para que no haya espacios innecesarios\n",
    "    showlegend=True,\n",
    "    width=400,  \n",
    "    height=300, \n",
    "    autosize=True \n",
    ")\n",
    "\n",
    "# Mostrar valores en cada segmento\n",
    "fig.update_traces(\n",
    "    textinfo='value+percent',  # Mostrar valor y porcentaje en cada segmento\n",
    "    textposition='inside'  # Posicionar el texto dentro de los segmentos\n",
    ")\n",
    "\n",
    "# Guardar el gráfico en un archivo HTML\n",
    "fig.write_html('C://Users//sdvc0//OneDrive//Escritorio//REPOSITORIO_ENAPEA//BACK//Mortalidad//Fetal//Gráficas//MORT_FET_7.html')\n",
    "\n",
    "# Mostrar el pie chart (opcional)\n",
    "fig.show()\n"
   ]
  },
  {
   "cell_type": "code",
   "execution_count": 10,
   "metadata": {},
   "outputs": [
    {
     "data": {
      "application/vnd.plotly.v1+json": {
       "config": {
        "plotlyServerURL": "https://plot.ly"
       },
       "data": [
        {
         "domain": {
          "x": [
           0,
           1
          ],
          "y": [
           0,
           1
          ]
         },
         "hovertemplate": "atn_pren=%{label}<br>Cantidad de ocurrencias=%{value}<extra></extra>",
         "labels": [
          "Sí recibió atención prenatal",
          "No recibió atención prenatal",
          "No especificado"
         ],
         "legendgroup": "",
         "name": "",
         "showlegend": true,
         "textinfo": "value+percent",
         "textposition": "inside",
         "type": "pie",
         "values": [
          14235,
          3718,
          434
         ]
        }
       ],
       "layout": {
        "autosize": true,
        "height": 300,
        "legend": {
         "tracegroupgap": 0
        },
        "margin": {
         "b": 0,
         "l": 0,
         "r": 0,
         "t": 0
        },
        "piecolorway": [
         "#006494",
         "#0582ca",
         "#00a6fb"
        ],
        "showlegend": true,
        "template": {
         "data": {
          "bar": [
           {
            "error_x": {
             "color": "#2a3f5f"
            },
            "error_y": {
             "color": "#2a3f5f"
            },
            "marker": {
             "line": {
              "color": "#E5ECF6",
              "width": 0.5
             },
             "pattern": {
              "fillmode": "overlay",
              "size": 10,
              "solidity": 0.2
             }
            },
            "type": "bar"
           }
          ],
          "barpolar": [
           {
            "marker": {
             "line": {
              "color": "#E5ECF6",
              "width": 0.5
             },
             "pattern": {
              "fillmode": "overlay",
              "size": 10,
              "solidity": 0.2
             }
            },
            "type": "barpolar"
           }
          ],
          "carpet": [
           {
            "aaxis": {
             "endlinecolor": "#2a3f5f",
             "gridcolor": "white",
             "linecolor": "white",
             "minorgridcolor": "white",
             "startlinecolor": "#2a3f5f"
            },
            "baxis": {
             "endlinecolor": "#2a3f5f",
             "gridcolor": "white",
             "linecolor": "white",
             "minorgridcolor": "white",
             "startlinecolor": "#2a3f5f"
            },
            "type": "carpet"
           }
          ],
          "choropleth": [
           {
            "colorbar": {
             "outlinewidth": 0,
             "ticks": ""
            },
            "type": "choropleth"
           }
          ],
          "contour": [
           {
            "colorbar": {
             "outlinewidth": 0,
             "ticks": ""
            },
            "colorscale": [
             [
              0,
              "#0d0887"
             ],
             [
              0.1111111111111111,
              "#46039f"
             ],
             [
              0.2222222222222222,
              "#7201a8"
             ],
             [
              0.3333333333333333,
              "#9c179e"
             ],
             [
              0.4444444444444444,
              "#bd3786"
             ],
             [
              0.5555555555555556,
              "#d8576b"
             ],
             [
              0.6666666666666666,
              "#ed7953"
             ],
             [
              0.7777777777777778,
              "#fb9f3a"
             ],
             [
              0.8888888888888888,
              "#fdca26"
             ],
             [
              1,
              "#f0f921"
             ]
            ],
            "type": "contour"
           }
          ],
          "contourcarpet": [
           {
            "colorbar": {
             "outlinewidth": 0,
             "ticks": ""
            },
            "type": "contourcarpet"
           }
          ],
          "heatmap": [
           {
            "colorbar": {
             "outlinewidth": 0,
             "ticks": ""
            },
            "colorscale": [
             [
              0,
              "#0d0887"
             ],
             [
              0.1111111111111111,
              "#46039f"
             ],
             [
              0.2222222222222222,
              "#7201a8"
             ],
             [
              0.3333333333333333,
              "#9c179e"
             ],
             [
              0.4444444444444444,
              "#bd3786"
             ],
             [
              0.5555555555555556,
              "#d8576b"
             ],
             [
              0.6666666666666666,
              "#ed7953"
             ],
             [
              0.7777777777777778,
              "#fb9f3a"
             ],
             [
              0.8888888888888888,
              "#fdca26"
             ],
             [
              1,
              "#f0f921"
             ]
            ],
            "type": "heatmap"
           }
          ],
          "heatmapgl": [
           {
            "colorbar": {
             "outlinewidth": 0,
             "ticks": ""
            },
            "colorscale": [
             [
              0,
              "#0d0887"
             ],
             [
              0.1111111111111111,
              "#46039f"
             ],
             [
              0.2222222222222222,
              "#7201a8"
             ],
             [
              0.3333333333333333,
              "#9c179e"
             ],
             [
              0.4444444444444444,
              "#bd3786"
             ],
             [
              0.5555555555555556,
              "#d8576b"
             ],
             [
              0.6666666666666666,
              "#ed7953"
             ],
             [
              0.7777777777777778,
              "#fb9f3a"
             ],
             [
              0.8888888888888888,
              "#fdca26"
             ],
             [
              1,
              "#f0f921"
             ]
            ],
            "type": "heatmapgl"
           }
          ],
          "histogram": [
           {
            "marker": {
             "pattern": {
              "fillmode": "overlay",
              "size": 10,
              "solidity": 0.2
             }
            },
            "type": "histogram"
           }
          ],
          "histogram2d": [
           {
            "colorbar": {
             "outlinewidth": 0,
             "ticks": ""
            },
            "colorscale": [
             [
              0,
              "#0d0887"
             ],
             [
              0.1111111111111111,
              "#46039f"
             ],
             [
              0.2222222222222222,
              "#7201a8"
             ],
             [
              0.3333333333333333,
              "#9c179e"
             ],
             [
              0.4444444444444444,
              "#bd3786"
             ],
             [
              0.5555555555555556,
              "#d8576b"
             ],
             [
              0.6666666666666666,
              "#ed7953"
             ],
             [
              0.7777777777777778,
              "#fb9f3a"
             ],
             [
              0.8888888888888888,
              "#fdca26"
             ],
             [
              1,
              "#f0f921"
             ]
            ],
            "type": "histogram2d"
           }
          ],
          "histogram2dcontour": [
           {
            "colorbar": {
             "outlinewidth": 0,
             "ticks": ""
            },
            "colorscale": [
             [
              0,
              "#0d0887"
             ],
             [
              0.1111111111111111,
              "#46039f"
             ],
             [
              0.2222222222222222,
              "#7201a8"
             ],
             [
              0.3333333333333333,
              "#9c179e"
             ],
             [
              0.4444444444444444,
              "#bd3786"
             ],
             [
              0.5555555555555556,
              "#d8576b"
             ],
             [
              0.6666666666666666,
              "#ed7953"
             ],
             [
              0.7777777777777778,
              "#fb9f3a"
             ],
             [
              0.8888888888888888,
              "#fdca26"
             ],
             [
              1,
              "#f0f921"
             ]
            ],
            "type": "histogram2dcontour"
           }
          ],
          "mesh3d": [
           {
            "colorbar": {
             "outlinewidth": 0,
             "ticks": ""
            },
            "type": "mesh3d"
           }
          ],
          "parcoords": [
           {
            "line": {
             "colorbar": {
              "outlinewidth": 0,
              "ticks": ""
             }
            },
            "type": "parcoords"
           }
          ],
          "pie": [
           {
            "automargin": true,
            "type": "pie"
           }
          ],
          "scatter": [
           {
            "fillpattern": {
             "fillmode": "overlay",
             "size": 10,
             "solidity": 0.2
            },
            "type": "scatter"
           }
          ],
          "scatter3d": [
           {
            "line": {
             "colorbar": {
              "outlinewidth": 0,
              "ticks": ""
             }
            },
            "marker": {
             "colorbar": {
              "outlinewidth": 0,
              "ticks": ""
             }
            },
            "type": "scatter3d"
           }
          ],
          "scattercarpet": [
           {
            "marker": {
             "colorbar": {
              "outlinewidth": 0,
              "ticks": ""
             }
            },
            "type": "scattercarpet"
           }
          ],
          "scattergeo": [
           {
            "marker": {
             "colorbar": {
              "outlinewidth": 0,
              "ticks": ""
             }
            },
            "type": "scattergeo"
           }
          ],
          "scattergl": [
           {
            "marker": {
             "colorbar": {
              "outlinewidth": 0,
              "ticks": ""
             }
            },
            "type": "scattergl"
           }
          ],
          "scattermapbox": [
           {
            "marker": {
             "colorbar": {
              "outlinewidth": 0,
              "ticks": ""
             }
            },
            "type": "scattermapbox"
           }
          ],
          "scatterpolar": [
           {
            "marker": {
             "colorbar": {
              "outlinewidth": 0,
              "ticks": ""
             }
            },
            "type": "scatterpolar"
           }
          ],
          "scatterpolargl": [
           {
            "marker": {
             "colorbar": {
              "outlinewidth": 0,
              "ticks": ""
             }
            },
            "type": "scatterpolargl"
           }
          ],
          "scatterternary": [
           {
            "marker": {
             "colorbar": {
              "outlinewidth": 0,
              "ticks": ""
             }
            },
            "type": "scatterternary"
           }
          ],
          "surface": [
           {
            "colorbar": {
             "outlinewidth": 0,
             "ticks": ""
            },
            "colorscale": [
             [
              0,
              "#0d0887"
             ],
             [
              0.1111111111111111,
              "#46039f"
             ],
             [
              0.2222222222222222,
              "#7201a8"
             ],
             [
              0.3333333333333333,
              "#9c179e"
             ],
             [
              0.4444444444444444,
              "#bd3786"
             ],
             [
              0.5555555555555556,
              "#d8576b"
             ],
             [
              0.6666666666666666,
              "#ed7953"
             ],
             [
              0.7777777777777778,
              "#fb9f3a"
             ],
             [
              0.8888888888888888,
              "#fdca26"
             ],
             [
              1,
              "#f0f921"
             ]
            ],
            "type": "surface"
           }
          ],
          "table": [
           {
            "cells": {
             "fill": {
              "color": "#EBF0F8"
             },
             "line": {
              "color": "white"
             }
            },
            "header": {
             "fill": {
              "color": "#C8D4E3"
             },
             "line": {
              "color": "white"
             }
            },
            "type": "table"
           }
          ]
         },
         "layout": {
          "annotationdefaults": {
           "arrowcolor": "#2a3f5f",
           "arrowhead": 0,
           "arrowwidth": 1
          },
          "autotypenumbers": "strict",
          "coloraxis": {
           "colorbar": {
            "outlinewidth": 0,
            "ticks": ""
           }
          },
          "colorscale": {
           "diverging": [
            [
             0,
             "#8e0152"
            ],
            [
             0.1,
             "#c51b7d"
            ],
            [
             0.2,
             "#de77ae"
            ],
            [
             0.3,
             "#f1b6da"
            ],
            [
             0.4,
             "#fde0ef"
            ],
            [
             0.5,
             "#f7f7f7"
            ],
            [
             0.6,
             "#e6f5d0"
            ],
            [
             0.7,
             "#b8e186"
            ],
            [
             0.8,
             "#7fbc41"
            ],
            [
             0.9,
             "#4d9221"
            ],
            [
             1,
             "#276419"
            ]
           ],
           "sequential": [
            [
             0,
             "#0d0887"
            ],
            [
             0.1111111111111111,
             "#46039f"
            ],
            [
             0.2222222222222222,
             "#7201a8"
            ],
            [
             0.3333333333333333,
             "#9c179e"
            ],
            [
             0.4444444444444444,
             "#bd3786"
            ],
            [
             0.5555555555555556,
             "#d8576b"
            ],
            [
             0.6666666666666666,
             "#ed7953"
            ],
            [
             0.7777777777777778,
             "#fb9f3a"
            ],
            [
             0.8888888888888888,
             "#fdca26"
            ],
            [
             1,
             "#f0f921"
            ]
           ],
           "sequentialminus": [
            [
             0,
             "#0d0887"
            ],
            [
             0.1111111111111111,
             "#46039f"
            ],
            [
             0.2222222222222222,
             "#7201a8"
            ],
            [
             0.3333333333333333,
             "#9c179e"
            ],
            [
             0.4444444444444444,
             "#bd3786"
            ],
            [
             0.5555555555555556,
             "#d8576b"
            ],
            [
             0.6666666666666666,
             "#ed7953"
            ],
            [
             0.7777777777777778,
             "#fb9f3a"
            ],
            [
             0.8888888888888888,
             "#fdca26"
            ],
            [
             1,
             "#f0f921"
            ]
           ]
          },
          "colorway": [
           "#636efa",
           "#EF553B",
           "#00cc96",
           "#ab63fa",
           "#FFA15A",
           "#19d3f3",
           "#FF6692",
           "#B6E880",
           "#FF97FF",
           "#FECB52"
          ],
          "font": {
           "color": "#2a3f5f"
          },
          "geo": {
           "bgcolor": "white",
           "lakecolor": "white",
           "landcolor": "#E5ECF6",
           "showlakes": true,
           "showland": true,
           "subunitcolor": "white"
          },
          "hoverlabel": {
           "align": "left"
          },
          "hovermode": "closest",
          "mapbox": {
           "style": "light"
          },
          "paper_bgcolor": "white",
          "plot_bgcolor": "#E5ECF6",
          "polar": {
           "angularaxis": {
            "gridcolor": "white",
            "linecolor": "white",
            "ticks": ""
           },
           "bgcolor": "#E5ECF6",
           "radialaxis": {
            "gridcolor": "white",
            "linecolor": "white",
            "ticks": ""
           }
          },
          "scene": {
           "xaxis": {
            "backgroundcolor": "#E5ECF6",
            "gridcolor": "white",
            "gridwidth": 2,
            "linecolor": "white",
            "showbackground": true,
            "ticks": "",
            "zerolinecolor": "white"
           },
           "yaxis": {
            "backgroundcolor": "#E5ECF6",
            "gridcolor": "white",
            "gridwidth": 2,
            "linecolor": "white",
            "showbackground": true,
            "ticks": "",
            "zerolinecolor": "white"
           },
           "zaxis": {
            "backgroundcolor": "#E5ECF6",
            "gridcolor": "white",
            "gridwidth": 2,
            "linecolor": "white",
            "showbackground": true,
            "ticks": "",
            "zerolinecolor": "white"
           }
          },
          "shapedefaults": {
           "line": {
            "color": "#2a3f5f"
           }
          },
          "ternary": {
           "aaxis": {
            "gridcolor": "white",
            "linecolor": "white",
            "ticks": ""
           },
           "baxis": {
            "gridcolor": "white",
            "linecolor": "white",
            "ticks": ""
           },
           "bgcolor": "#E5ECF6",
           "caxis": {
            "gridcolor": "white",
            "linecolor": "white",
            "ticks": ""
           }
          },
          "title": {
           "x": 0.05
          },
          "xaxis": {
           "automargin": true,
           "gridcolor": "white",
           "linecolor": "white",
           "ticks": "",
           "title": {
            "standoff": 15
           },
           "zerolinecolor": "white",
           "zerolinewidth": 2
          },
          "yaxis": {
           "automargin": true,
           "gridcolor": "white",
           "linecolor": "white",
           "ticks": "",
           "title": {
            "standoff": 15
           },
           "zerolinecolor": "white",
           "zerolinewidth": 2
          }
         }
        },
        "width": 400
       }
      }
     },
     "metadata": {},
     "output_type": "display_data"
    }
   ],
   "source": [
    "# Calcular el conteo de ocurrencias por cada valor único en la columna de_un_emba\n",
    "antencion_embar = MORT_FET['atn_pren'].value_counts().reset_index()\n",
    "antencion_embar.columns = ['atn_pren', 'Cantidad de ocurrencias']\n",
    "antencion_embar.to_csv('C://Users//sdvc0//OneDrive//Escritorio//REPOSITORIO_ENAPEA//BACK//Mortalidad//Fetal//Gráficas//MORT_FET_8.csv', index=False)\n",
    "\n",
    "\n",
    "# Definir los colores personalizados\n",
    "custom_colors = ['#006494', '#0582ca', '#00a6fb']\n",
    "\n",
    "# Crear pie chart con Plotly Express\n",
    "fig = px.pie(antencion_embar, \n",
    "             names='atn_pren', \n",
    "             values='Cantidad de ocurrencias', \n",
    "             color_discrete_sequence=custom_colors,\n",
    "             title='')  # Eliminar título\n",
    "\n",
    "# Ajustar diseño del pie chart\n",
    "fig.update_layout(\n",
    "    margin=dict(l=0, r=0, t=0, b=0),  # Ajustar márgenes para que no haya espacios innecesarios\n",
    "    showlegend=True,\n",
    "    width=400,  \n",
    "    height=300,  \n",
    "    autosize=True\n",
    ")\n",
    "\n",
    "# Mostrar valores en cada segmento\n",
    "fig.update_traces(\n",
    "    textinfo='value+percent',  # Mostrar valor y porcentaje en cada segmento\n",
    "    textposition='inside'  # Posicionar el texto dentro de los segmentos\n",
    ")\n",
    "\n",
    "# Guardar el gráfico en un archivo HTML\n",
    "fig.write_html('C://Users//sdvc0//OneDrive//Escritorio//REPOSITORIO_ENAPEA//BACK//Mortalidad//Fetal//Gráficas//MORT_FET_8.html')\n",
    "\n",
    "# Mostrar el pie chart (opcional)\n",
    "fig.show()"
   ]
  },
  {
   "cell_type": "code",
   "execution_count": 11,
   "metadata": {},
   "outputs": [
    {
     "data": {
      "application/vnd.plotly.v1+json": {
       "config": {
        "plotlyServerURL": "https://plot.ly"
       },
       "data": [
        {
         "alignmentgroup": "True",
         "hovertemplate": "Embarazo Fue=Normal<br>Edad de la Madre=%{x}<br>Cantidad de Ocurrencias=%{y}<extra></extra>",
         "legendgroup": "Normal",
         "marker": {
          "color": "#f77f00",
          "pattern": {
           "shape": ""
          }
         },
         "name": "Normal",
         "offsetgroup": "Normal",
         "orientation": "v",
         "showlegend": true,
         "textposition": "inside",
         "texttemplate": "%{y}",
         "type": "bar",
         "x": [
          10,
          11,
          12,
          13,
          14,
          15,
          16,
          17,
          18,
          19
         ],
         "xaxis": "x",
         "y": [
          1,
          3,
          17,
          96,
          408,
          1039,
          1787,
          2572,
          3151,
          3579
         ],
         "yaxis": "y"
        },
        {
         "alignmentgroup": "True",
         "hovertemplate": "Embarazo Fue=Complicado<br>Edad de la Madre=%{x}<br>Cantidad de Ocurrencias=%{y}<extra></extra>",
         "legendgroup": "Complicado",
         "marker": {
          "color": "#fcbf49",
          "pattern": {
           "shape": ""
          }
         },
         "name": "Complicado",
         "offsetgroup": "Complicado",
         "orientation": "v",
         "showlegend": true,
         "textposition": "inside",
         "texttemplate": "%{y}",
         "type": "bar",
         "x": [
          11,
          12,
          13,
          14,
          15,
          16,
          17,
          18,
          19
         ],
         "xaxis": "x",
         "y": [
          2,
          5,
          44,
          160,
          401,
          699,
          965,
          1109,
          1419
         ],
         "yaxis": "y"
        },
        {
         "alignmentgroup": "True",
         "hovertemplate": "Embarazo Fue=No especificado<br>Edad de la Madre=%{x}<br>Cantidad de Ocurrencias=%{y}<extra></extra>",
         "legendgroup": "No especificado",
         "marker": {
          "color": "#fcf6bd",
          "pattern": {
           "shape": ""
          }
         },
         "name": "No especificado",
         "offsetgroup": "No especificado",
         "orientation": "v",
         "showlegend": true,
         "textposition": "inside",
         "texttemplate": "%{y}",
         "type": "bar",
         "x": [
          12,
          13,
          14,
          15,
          16,
          17,
          18,
          19
         ],
         "xaxis": "x",
         "y": [
          2,
          13,
          32,
          83,
          135,
          190,
          236,
          239
         ],
         "yaxis": "y"
        }
       ],
       "layout": {
        "autosize": true,
        "barmode": "stack",
        "legend": {
         "title": {
          "text": "Embarazo Fue"
         },
         "tracegroupgap": 0
        },
        "margin": {
         "b": 0,
         "l": 0,
         "r": 0,
         "t": 0
        },
        "showlegend": true,
        "template": {
         "data": {
          "bar": [
           {
            "error_x": {
             "color": "#2a3f5f"
            },
            "error_y": {
             "color": "#2a3f5f"
            },
            "marker": {
             "line": {
              "color": "#E5ECF6",
              "width": 0.5
             },
             "pattern": {
              "fillmode": "overlay",
              "size": 10,
              "solidity": 0.2
             }
            },
            "type": "bar"
           }
          ],
          "barpolar": [
           {
            "marker": {
             "line": {
              "color": "#E5ECF6",
              "width": 0.5
             },
             "pattern": {
              "fillmode": "overlay",
              "size": 10,
              "solidity": 0.2
             }
            },
            "type": "barpolar"
           }
          ],
          "carpet": [
           {
            "aaxis": {
             "endlinecolor": "#2a3f5f",
             "gridcolor": "white",
             "linecolor": "white",
             "minorgridcolor": "white",
             "startlinecolor": "#2a3f5f"
            },
            "baxis": {
             "endlinecolor": "#2a3f5f",
             "gridcolor": "white",
             "linecolor": "white",
             "minorgridcolor": "white",
             "startlinecolor": "#2a3f5f"
            },
            "type": "carpet"
           }
          ],
          "choropleth": [
           {
            "colorbar": {
             "outlinewidth": 0,
             "ticks": ""
            },
            "type": "choropleth"
           }
          ],
          "contour": [
           {
            "colorbar": {
             "outlinewidth": 0,
             "ticks": ""
            },
            "colorscale": [
             [
              0,
              "#0d0887"
             ],
             [
              0.1111111111111111,
              "#46039f"
             ],
             [
              0.2222222222222222,
              "#7201a8"
             ],
             [
              0.3333333333333333,
              "#9c179e"
             ],
             [
              0.4444444444444444,
              "#bd3786"
             ],
             [
              0.5555555555555556,
              "#d8576b"
             ],
             [
              0.6666666666666666,
              "#ed7953"
             ],
             [
              0.7777777777777778,
              "#fb9f3a"
             ],
             [
              0.8888888888888888,
              "#fdca26"
             ],
             [
              1,
              "#f0f921"
             ]
            ],
            "type": "contour"
           }
          ],
          "contourcarpet": [
           {
            "colorbar": {
             "outlinewidth": 0,
             "ticks": ""
            },
            "type": "contourcarpet"
           }
          ],
          "heatmap": [
           {
            "colorbar": {
             "outlinewidth": 0,
             "ticks": ""
            },
            "colorscale": [
             [
              0,
              "#0d0887"
             ],
             [
              0.1111111111111111,
              "#46039f"
             ],
             [
              0.2222222222222222,
              "#7201a8"
             ],
             [
              0.3333333333333333,
              "#9c179e"
             ],
             [
              0.4444444444444444,
              "#bd3786"
             ],
             [
              0.5555555555555556,
              "#d8576b"
             ],
             [
              0.6666666666666666,
              "#ed7953"
             ],
             [
              0.7777777777777778,
              "#fb9f3a"
             ],
             [
              0.8888888888888888,
              "#fdca26"
             ],
             [
              1,
              "#f0f921"
             ]
            ],
            "type": "heatmap"
           }
          ],
          "heatmapgl": [
           {
            "colorbar": {
             "outlinewidth": 0,
             "ticks": ""
            },
            "colorscale": [
             [
              0,
              "#0d0887"
             ],
             [
              0.1111111111111111,
              "#46039f"
             ],
             [
              0.2222222222222222,
              "#7201a8"
             ],
             [
              0.3333333333333333,
              "#9c179e"
             ],
             [
              0.4444444444444444,
              "#bd3786"
             ],
             [
              0.5555555555555556,
              "#d8576b"
             ],
             [
              0.6666666666666666,
              "#ed7953"
             ],
             [
              0.7777777777777778,
              "#fb9f3a"
             ],
             [
              0.8888888888888888,
              "#fdca26"
             ],
             [
              1,
              "#f0f921"
             ]
            ],
            "type": "heatmapgl"
           }
          ],
          "histogram": [
           {
            "marker": {
             "pattern": {
              "fillmode": "overlay",
              "size": 10,
              "solidity": 0.2
             }
            },
            "type": "histogram"
           }
          ],
          "histogram2d": [
           {
            "colorbar": {
             "outlinewidth": 0,
             "ticks": ""
            },
            "colorscale": [
             [
              0,
              "#0d0887"
             ],
             [
              0.1111111111111111,
              "#46039f"
             ],
             [
              0.2222222222222222,
              "#7201a8"
             ],
             [
              0.3333333333333333,
              "#9c179e"
             ],
             [
              0.4444444444444444,
              "#bd3786"
             ],
             [
              0.5555555555555556,
              "#d8576b"
             ],
             [
              0.6666666666666666,
              "#ed7953"
             ],
             [
              0.7777777777777778,
              "#fb9f3a"
             ],
             [
              0.8888888888888888,
              "#fdca26"
             ],
             [
              1,
              "#f0f921"
             ]
            ],
            "type": "histogram2d"
           }
          ],
          "histogram2dcontour": [
           {
            "colorbar": {
             "outlinewidth": 0,
             "ticks": ""
            },
            "colorscale": [
             [
              0,
              "#0d0887"
             ],
             [
              0.1111111111111111,
              "#46039f"
             ],
             [
              0.2222222222222222,
              "#7201a8"
             ],
             [
              0.3333333333333333,
              "#9c179e"
             ],
             [
              0.4444444444444444,
              "#bd3786"
             ],
             [
              0.5555555555555556,
              "#d8576b"
             ],
             [
              0.6666666666666666,
              "#ed7953"
             ],
             [
              0.7777777777777778,
              "#fb9f3a"
             ],
             [
              0.8888888888888888,
              "#fdca26"
             ],
             [
              1,
              "#f0f921"
             ]
            ],
            "type": "histogram2dcontour"
           }
          ],
          "mesh3d": [
           {
            "colorbar": {
             "outlinewidth": 0,
             "ticks": ""
            },
            "type": "mesh3d"
           }
          ],
          "parcoords": [
           {
            "line": {
             "colorbar": {
              "outlinewidth": 0,
              "ticks": ""
             }
            },
            "type": "parcoords"
           }
          ],
          "pie": [
           {
            "automargin": true,
            "type": "pie"
           }
          ],
          "scatter": [
           {
            "fillpattern": {
             "fillmode": "overlay",
             "size": 10,
             "solidity": 0.2
            },
            "type": "scatter"
           }
          ],
          "scatter3d": [
           {
            "line": {
             "colorbar": {
              "outlinewidth": 0,
              "ticks": ""
             }
            },
            "marker": {
             "colorbar": {
              "outlinewidth": 0,
              "ticks": ""
             }
            },
            "type": "scatter3d"
           }
          ],
          "scattercarpet": [
           {
            "marker": {
             "colorbar": {
              "outlinewidth": 0,
              "ticks": ""
             }
            },
            "type": "scattercarpet"
           }
          ],
          "scattergeo": [
           {
            "marker": {
             "colorbar": {
              "outlinewidth": 0,
              "ticks": ""
             }
            },
            "type": "scattergeo"
           }
          ],
          "scattergl": [
           {
            "marker": {
             "colorbar": {
              "outlinewidth": 0,
              "ticks": ""
             }
            },
            "type": "scattergl"
           }
          ],
          "scattermapbox": [
           {
            "marker": {
             "colorbar": {
              "outlinewidth": 0,
              "ticks": ""
             }
            },
            "type": "scattermapbox"
           }
          ],
          "scatterpolar": [
           {
            "marker": {
             "colorbar": {
              "outlinewidth": 0,
              "ticks": ""
             }
            },
            "type": "scatterpolar"
           }
          ],
          "scatterpolargl": [
           {
            "marker": {
             "colorbar": {
              "outlinewidth": 0,
              "ticks": ""
             }
            },
            "type": "scatterpolargl"
           }
          ],
          "scatterternary": [
           {
            "marker": {
             "colorbar": {
              "outlinewidth": 0,
              "ticks": ""
             }
            },
            "type": "scatterternary"
           }
          ],
          "surface": [
           {
            "colorbar": {
             "outlinewidth": 0,
             "ticks": ""
            },
            "colorscale": [
             [
              0,
              "#0d0887"
             ],
             [
              0.1111111111111111,
              "#46039f"
             ],
             [
              0.2222222222222222,
              "#7201a8"
             ],
             [
              0.3333333333333333,
              "#9c179e"
             ],
             [
              0.4444444444444444,
              "#bd3786"
             ],
             [
              0.5555555555555556,
              "#d8576b"
             ],
             [
              0.6666666666666666,
              "#ed7953"
             ],
             [
              0.7777777777777778,
              "#fb9f3a"
             ],
             [
              0.8888888888888888,
              "#fdca26"
             ],
             [
              1,
              "#f0f921"
             ]
            ],
            "type": "surface"
           }
          ],
          "table": [
           {
            "cells": {
             "fill": {
              "color": "#EBF0F8"
             },
             "line": {
              "color": "white"
             }
            },
            "header": {
             "fill": {
              "color": "#C8D4E3"
             },
             "line": {
              "color": "white"
             }
            },
            "type": "table"
           }
          ]
         },
         "layout": {
          "annotationdefaults": {
           "arrowcolor": "#2a3f5f",
           "arrowhead": 0,
           "arrowwidth": 1
          },
          "autotypenumbers": "strict",
          "coloraxis": {
           "colorbar": {
            "outlinewidth": 0,
            "ticks": ""
           }
          },
          "colorscale": {
           "diverging": [
            [
             0,
             "#8e0152"
            ],
            [
             0.1,
             "#c51b7d"
            ],
            [
             0.2,
             "#de77ae"
            ],
            [
             0.3,
             "#f1b6da"
            ],
            [
             0.4,
             "#fde0ef"
            ],
            [
             0.5,
             "#f7f7f7"
            ],
            [
             0.6,
             "#e6f5d0"
            ],
            [
             0.7,
             "#b8e186"
            ],
            [
             0.8,
             "#7fbc41"
            ],
            [
             0.9,
             "#4d9221"
            ],
            [
             1,
             "#276419"
            ]
           ],
           "sequential": [
            [
             0,
             "#0d0887"
            ],
            [
             0.1111111111111111,
             "#46039f"
            ],
            [
             0.2222222222222222,
             "#7201a8"
            ],
            [
             0.3333333333333333,
             "#9c179e"
            ],
            [
             0.4444444444444444,
             "#bd3786"
            ],
            [
             0.5555555555555556,
             "#d8576b"
            ],
            [
             0.6666666666666666,
             "#ed7953"
            ],
            [
             0.7777777777777778,
             "#fb9f3a"
            ],
            [
             0.8888888888888888,
             "#fdca26"
            ],
            [
             1,
             "#f0f921"
            ]
           ],
           "sequentialminus": [
            [
             0,
             "#0d0887"
            ],
            [
             0.1111111111111111,
             "#46039f"
            ],
            [
             0.2222222222222222,
             "#7201a8"
            ],
            [
             0.3333333333333333,
             "#9c179e"
            ],
            [
             0.4444444444444444,
             "#bd3786"
            ],
            [
             0.5555555555555556,
             "#d8576b"
            ],
            [
             0.6666666666666666,
             "#ed7953"
            ],
            [
             0.7777777777777778,
             "#fb9f3a"
            ],
            [
             0.8888888888888888,
             "#fdca26"
            ],
            [
             1,
             "#f0f921"
            ]
           ]
          },
          "colorway": [
           "#636efa",
           "#EF553B",
           "#00cc96",
           "#ab63fa",
           "#FFA15A",
           "#19d3f3",
           "#FF6692",
           "#B6E880",
           "#FF97FF",
           "#FECB52"
          ],
          "font": {
           "color": "#2a3f5f"
          },
          "geo": {
           "bgcolor": "white",
           "lakecolor": "white",
           "landcolor": "#E5ECF6",
           "showlakes": true,
           "showland": true,
           "subunitcolor": "white"
          },
          "hoverlabel": {
           "align": "left"
          },
          "hovermode": "closest",
          "mapbox": {
           "style": "light"
          },
          "paper_bgcolor": "white",
          "plot_bgcolor": "#E5ECF6",
          "polar": {
           "angularaxis": {
            "gridcolor": "white",
            "linecolor": "white",
            "ticks": ""
           },
           "bgcolor": "#E5ECF6",
           "radialaxis": {
            "gridcolor": "white",
            "linecolor": "white",
            "ticks": ""
           }
          },
          "scene": {
           "xaxis": {
            "backgroundcolor": "#E5ECF6",
            "gridcolor": "white",
            "gridwidth": 2,
            "linecolor": "white",
            "showbackground": true,
            "ticks": "",
            "zerolinecolor": "white"
           },
           "yaxis": {
            "backgroundcolor": "#E5ECF6",
            "gridcolor": "white",
            "gridwidth": 2,
            "linecolor": "white",
            "showbackground": true,
            "ticks": "",
            "zerolinecolor": "white"
           },
           "zaxis": {
            "backgroundcolor": "#E5ECF6",
            "gridcolor": "white",
            "gridwidth": 2,
            "linecolor": "white",
            "showbackground": true,
            "ticks": "",
            "zerolinecolor": "white"
           }
          },
          "shapedefaults": {
           "line": {
            "color": "#2a3f5f"
           }
          },
          "ternary": {
           "aaxis": {
            "gridcolor": "white",
            "linecolor": "white",
            "ticks": ""
           },
           "baxis": {
            "gridcolor": "white",
            "linecolor": "white",
            "ticks": ""
           },
           "bgcolor": "#E5ECF6",
           "caxis": {
            "gridcolor": "white",
            "linecolor": "white",
            "ticks": ""
           }
          },
          "title": {
           "x": 0.05
          },
          "xaxis": {
           "automargin": true,
           "gridcolor": "white",
           "linecolor": "white",
           "ticks": "",
           "title": {
            "standoff": 15
           },
           "zerolinecolor": "white",
           "zerolinewidth": 2
          },
          "yaxis": {
           "automargin": true,
           "gridcolor": "white",
           "linecolor": "white",
           "ticks": "",
           "title": {
            "standoff": 15
           },
           "zerolinecolor": "white",
           "zerolinewidth": 2
          }
         }
        },
        "xaxis": {
         "anchor": "y",
         "domain": [
          0,
          1
         ],
         "title": {
          "text": "Edad de la Madre"
         }
        },
        "yaxis": {
         "anchor": "x",
         "domain": [
          0,
          1
         ],
         "title": {
          "text": "Cantidad de Ocurrencias"
         }
        }
       }
      }
     },
     "metadata": {},
     "output_type": "display_data"
    }
   ],
   "source": [
    "# Filtrar datos relevantes y contar ocurrencias\n",
    "data = MORT_FET.groupby(['eda_madr', 'emba_fue']).size().reset_index(name='ocurrencias')\n",
    "data.to_csv('C://Users//sdvc0//OneDrive//Escritorio//REPOSITORIO_ENAPEA//BACK//Mortalidad//Fetal//Gráficas//MORT_FET_9.csv', index=False)\n",
    "\n",
    "# Crear gráfico de barras apiladas con Plotly Express\n",
    "fig = px.bar(data, \n",
    "             x='eda_madr', \n",
    "             y='ocurrencias', \n",
    "             color='emba_fue', \n",
    "             title='',\n",
    "             labels={'eda_madr': 'Edad de la Madre', 'ocurrencias': 'Cantidad de Ocurrencias', 'emba_fue': 'Embarazo Fue'},\n",
    "             color_discrete_sequence=['#f77f00', '#fcbf49', '#fcf6bd'],  # Colores personalizados\n",
    ")\n",
    "\n",
    "# Ajustar diseño del gráfico de barras apiladas\n",
    "fig.update_layout(\n",
    "    margin=dict(l=0, r=0, t=0, b=0),  # Ajustar márgenes para que no haya espacios innecesarios\n",
    "    showlegend=True,  # Mostrar leyenda\n",
    "    barmode='stack',  # Asegurar que las barras estén apiladas\n",
    "    autosize=True\n",
    ")\n",
    "\n",
    "\n",
    "# Mostrar valores en cada segmento de barra\n",
    "fig.update_traces(\n",
    "    texttemplate='%{y}',  # Mostrar el valor de ocurrencias en cada segmento\n",
    "    textposition='inside',  # Posicionar el texto dentro de los segmentos\n",
    ")\n",
    "    \n",
    "fig.write_html('C://Users//sdvc0//OneDrive//Escritorio//REPOSITORIO_ENAPEA//BACK//Mortalidad//Fetal//Gráficas//MORT_FET_9.html')\n",
    "# Mostrar el gráfico de barras apiladas (opcional)\n",
    "fig.show()\n",
    "\n",
    "\n"
   ]
  },
  {
   "cell_type": "code",
   "execution_count": 12,
   "metadata": {},
   "outputs": [
    {
     "data": {
      "application/vnd.plotly.v1+json": {
       "config": {
        "plotlyServerURL": "https://plot.ly"
       },
       "data": [
        {
         "branchvalues": "total",
         "customdata": [
          [
           0.005438625115570784
          ],
          [
           0.021754500462283135
          ],
          [
           0.005438625115570784
          ],
          [
           0.09789525208027411
          ],
          [
           0.0326317506934247
          ],
          [
           0.6471963887529232
          ],
          [
           0.15772012835155275
          ],
          [
           0.02719312557785392
          ],
          [
           2.6214173057051178
          ],
          [
           0.5928101375972155
          ],
          [
           0.048947626040137054
          ],
          [
           6.781965519116767
          ],
          [
           1.3215859030837005
          ],
          [
           0.17947462881383588
          ],
          [
           11.600587371512482
          ],
          [
           2.414749551313428
          ],
          [
           0.23929950508511447
          ],
          [
           16.631315603415455
          ],
          [
           3.3937020721161693
          ],
          [
           0.24473813020068524
          ],
          [
           20.460107684777288
          ],
          [
           3.7037037037037033
          ],
          [
           0.2882471311252515
          ],
          [
           23.946266383858163
          ],
          [
           4.122477837602654
          ],
          [
           0.4133355087833796
          ],
          [
           17.587736065019683
          ],
          [
           3.187363077446492
          ],
          [
           0.28200810457757786
          ]
         ],
         "domain": {
          "x": [
           0,
           1
          ],
          "y": [
           0,
           1
          ]
         },
         "hovertemplate": "labels=%{label}<br>porcentaje_sum=%{value}<br>parent=%{parent}<br>id=%{id}<br>porcentaje=%{color}<extra></extra>",
         "ids": [
          "Antes del parto/10",
          "Antes del parto/11",
          "Durante el parto/11",
          "Antes del parto/12",
          "Durante el parto/12",
          "Antes del parto/13",
          "Durante el parto/13",
          "No especificado/13",
          "Antes del parto/14",
          "Durante el parto/14",
          "No especificado/14",
          "Antes del parto/15",
          "Durante el parto/15",
          "No especificado/15",
          "Antes del parto/16",
          "Durante el parto/16",
          "No especificado/16",
          "Antes del parto/17",
          "Durante el parto/17",
          "No especificado/17",
          "Antes del parto/18",
          "Durante el parto/18",
          "No especificado/18",
          "Antes del parto/19",
          "Durante el parto/19",
          "No especificado/19",
          "Antes del parto",
          "Durante el parto",
          "No especificado"
         ],
         "labels": [
          "10",
          "11",
          "11",
          "12",
          "12",
          "13",
          "13",
          "13",
          "14",
          "14",
          "14",
          "15",
          "15",
          "15",
          "16",
          "16",
          "16",
          "17",
          "17",
          "17",
          "18",
          "18",
          "18",
          "19",
          "19",
          "19",
          "Antes del parto",
          "Durante el parto",
          "No especificado"
         ],
         "marker": {
          "coloraxis": "coloraxis",
          "colors": [
           0.005438625115570784,
           0.021754500462283135,
           0.005438625115570784,
           0.09789525208027411,
           0.0326317506934247,
           0.6471963887529232,
           0.15772012835155275,
           0.02719312557785392,
           2.6214173057051178,
           0.5928101375972155,
           0.048947626040137054,
           6.781965519116767,
           1.3215859030837005,
           0.17947462881383588,
           11.600587371512482,
           2.414749551313428,
           0.23929950508511447,
           16.631315603415455,
           3.3937020721161693,
           0.24473813020068524,
           20.460107684777288,
           3.7037037037037033,
           0.2882471311252515,
           23.946266383858163,
           4.122477837602654,
           0.4133355087833796,
           17.587736065019683,
           3.187363077446492,
           0.28200810457757786
          ]
         },
         "name": "",
         "parents": [
          "Antes del parto",
          "Antes del parto",
          "Durante el parto",
          "Antes del parto",
          "Durante el parto",
          "Antes del parto",
          "Durante el parto",
          "No especificado",
          "Antes del parto",
          "Durante el parto",
          "No especificado",
          "Antes del parto",
          "Durante el parto",
          "No especificado",
          "Antes del parto",
          "Durante el parto",
          "No especificado",
          "Antes del parto",
          "Durante el parto",
          "No especificado",
          "Antes del parto",
          "Durante el parto",
          "No especificado",
          "Antes del parto",
          "Durante el parto",
          "No especificado",
          "",
          "",
          ""
         ],
         "textinfo": "label+percent entry",
         "type": "sunburst",
         "values": [
          0.005438625115570784,
          0.021754500462283135,
          0.005438625115570784,
          0.09789525208027411,
          0.0326317506934247,
          0.6471963887529232,
          0.15772012835155275,
          0.02719312557785392,
          2.6214173057051178,
          0.5928101375972155,
          0.048947626040137054,
          6.781965519116767,
          1.3215859030837005,
          0.17947462881383588,
          11.600587371512482,
          2.414749551313428,
          0.23929950508511447,
          16.631315603415455,
          3.3937020721161693,
          0.24473813020068524,
          20.460107684777288,
          3.7037037037037033,
          0.2882471311252515,
          23.946266383858163,
          4.122477837602654,
          0.4133355087833796,
          82.81394463479633,
          15.744819709577419,
          1.4412356556262578
         ]
        }
       ],
       "layout": {
        "autosize": true,
        "coloraxis": {
         "colorbar": {
          "title": {
           "text": "porcentaje"
          }
         },
         "colorscale": [
          [
           0,
           "rgb(247,251,255)"
          ],
          [
           0.125,
           "rgb(222,235,247)"
          ],
          [
           0.25,
           "rgb(198,219,239)"
          ],
          [
           0.375,
           "rgb(158,202,225)"
          ],
          [
           0.5,
           "rgb(107,174,214)"
          ],
          [
           0.625,
           "rgb(66,146,198)"
          ],
          [
           0.75,
           "rgb(33,113,181)"
          ],
          [
           0.875,
           "rgb(8,81,156)"
          ],
          [
           1,
           "rgb(8,48,107)"
          ]
         ],
         "showscale": false
        },
        "height": 300,
        "legend": {
         "tracegroupgap": 0
        },
        "margin": {
         "b": 0,
         "l": 0,
         "r": 0,
         "t": 0
        },
        "template": {
         "data": {
          "bar": [
           {
            "error_x": {
             "color": "#2a3f5f"
            },
            "error_y": {
             "color": "#2a3f5f"
            },
            "marker": {
             "line": {
              "color": "#E5ECF6",
              "width": 0.5
             },
             "pattern": {
              "fillmode": "overlay",
              "size": 10,
              "solidity": 0.2
             }
            },
            "type": "bar"
           }
          ],
          "barpolar": [
           {
            "marker": {
             "line": {
              "color": "#E5ECF6",
              "width": 0.5
             },
             "pattern": {
              "fillmode": "overlay",
              "size": 10,
              "solidity": 0.2
             }
            },
            "type": "barpolar"
           }
          ],
          "carpet": [
           {
            "aaxis": {
             "endlinecolor": "#2a3f5f",
             "gridcolor": "white",
             "linecolor": "white",
             "minorgridcolor": "white",
             "startlinecolor": "#2a3f5f"
            },
            "baxis": {
             "endlinecolor": "#2a3f5f",
             "gridcolor": "white",
             "linecolor": "white",
             "minorgridcolor": "white",
             "startlinecolor": "#2a3f5f"
            },
            "type": "carpet"
           }
          ],
          "choropleth": [
           {
            "colorbar": {
             "outlinewidth": 0,
             "ticks": ""
            },
            "type": "choropleth"
           }
          ],
          "contour": [
           {
            "colorbar": {
             "outlinewidth": 0,
             "ticks": ""
            },
            "colorscale": [
             [
              0,
              "#0d0887"
             ],
             [
              0.1111111111111111,
              "#46039f"
             ],
             [
              0.2222222222222222,
              "#7201a8"
             ],
             [
              0.3333333333333333,
              "#9c179e"
             ],
             [
              0.4444444444444444,
              "#bd3786"
             ],
             [
              0.5555555555555556,
              "#d8576b"
             ],
             [
              0.6666666666666666,
              "#ed7953"
             ],
             [
              0.7777777777777778,
              "#fb9f3a"
             ],
             [
              0.8888888888888888,
              "#fdca26"
             ],
             [
              1,
              "#f0f921"
             ]
            ],
            "type": "contour"
           }
          ],
          "contourcarpet": [
           {
            "colorbar": {
             "outlinewidth": 0,
             "ticks": ""
            },
            "type": "contourcarpet"
           }
          ],
          "heatmap": [
           {
            "colorbar": {
             "outlinewidth": 0,
             "ticks": ""
            },
            "colorscale": [
             [
              0,
              "#0d0887"
             ],
             [
              0.1111111111111111,
              "#46039f"
             ],
             [
              0.2222222222222222,
              "#7201a8"
             ],
             [
              0.3333333333333333,
              "#9c179e"
             ],
             [
              0.4444444444444444,
              "#bd3786"
             ],
             [
              0.5555555555555556,
              "#d8576b"
             ],
             [
              0.6666666666666666,
              "#ed7953"
             ],
             [
              0.7777777777777778,
              "#fb9f3a"
             ],
             [
              0.8888888888888888,
              "#fdca26"
             ],
             [
              1,
              "#f0f921"
             ]
            ],
            "type": "heatmap"
           }
          ],
          "heatmapgl": [
           {
            "colorbar": {
             "outlinewidth": 0,
             "ticks": ""
            },
            "colorscale": [
             [
              0,
              "#0d0887"
             ],
             [
              0.1111111111111111,
              "#46039f"
             ],
             [
              0.2222222222222222,
              "#7201a8"
             ],
             [
              0.3333333333333333,
              "#9c179e"
             ],
             [
              0.4444444444444444,
              "#bd3786"
             ],
             [
              0.5555555555555556,
              "#d8576b"
             ],
             [
              0.6666666666666666,
              "#ed7953"
             ],
             [
              0.7777777777777778,
              "#fb9f3a"
             ],
             [
              0.8888888888888888,
              "#fdca26"
             ],
             [
              1,
              "#f0f921"
             ]
            ],
            "type": "heatmapgl"
           }
          ],
          "histogram": [
           {
            "marker": {
             "pattern": {
              "fillmode": "overlay",
              "size": 10,
              "solidity": 0.2
             }
            },
            "type": "histogram"
           }
          ],
          "histogram2d": [
           {
            "colorbar": {
             "outlinewidth": 0,
             "ticks": ""
            },
            "colorscale": [
             [
              0,
              "#0d0887"
             ],
             [
              0.1111111111111111,
              "#46039f"
             ],
             [
              0.2222222222222222,
              "#7201a8"
             ],
             [
              0.3333333333333333,
              "#9c179e"
             ],
             [
              0.4444444444444444,
              "#bd3786"
             ],
             [
              0.5555555555555556,
              "#d8576b"
             ],
             [
              0.6666666666666666,
              "#ed7953"
             ],
             [
              0.7777777777777778,
              "#fb9f3a"
             ],
             [
              0.8888888888888888,
              "#fdca26"
             ],
             [
              1,
              "#f0f921"
             ]
            ],
            "type": "histogram2d"
           }
          ],
          "histogram2dcontour": [
           {
            "colorbar": {
             "outlinewidth": 0,
             "ticks": ""
            },
            "colorscale": [
             [
              0,
              "#0d0887"
             ],
             [
              0.1111111111111111,
              "#46039f"
             ],
             [
              0.2222222222222222,
              "#7201a8"
             ],
             [
              0.3333333333333333,
              "#9c179e"
             ],
             [
              0.4444444444444444,
              "#bd3786"
             ],
             [
              0.5555555555555556,
              "#d8576b"
             ],
             [
              0.6666666666666666,
              "#ed7953"
             ],
             [
              0.7777777777777778,
              "#fb9f3a"
             ],
             [
              0.8888888888888888,
              "#fdca26"
             ],
             [
              1,
              "#f0f921"
             ]
            ],
            "type": "histogram2dcontour"
           }
          ],
          "mesh3d": [
           {
            "colorbar": {
             "outlinewidth": 0,
             "ticks": ""
            },
            "type": "mesh3d"
           }
          ],
          "parcoords": [
           {
            "line": {
             "colorbar": {
              "outlinewidth": 0,
              "ticks": ""
             }
            },
            "type": "parcoords"
           }
          ],
          "pie": [
           {
            "automargin": true,
            "type": "pie"
           }
          ],
          "scatter": [
           {
            "fillpattern": {
             "fillmode": "overlay",
             "size": 10,
             "solidity": 0.2
            },
            "type": "scatter"
           }
          ],
          "scatter3d": [
           {
            "line": {
             "colorbar": {
              "outlinewidth": 0,
              "ticks": ""
             }
            },
            "marker": {
             "colorbar": {
              "outlinewidth": 0,
              "ticks": ""
             }
            },
            "type": "scatter3d"
           }
          ],
          "scattercarpet": [
           {
            "marker": {
             "colorbar": {
              "outlinewidth": 0,
              "ticks": ""
             }
            },
            "type": "scattercarpet"
           }
          ],
          "scattergeo": [
           {
            "marker": {
             "colorbar": {
              "outlinewidth": 0,
              "ticks": ""
             }
            },
            "type": "scattergeo"
           }
          ],
          "scattergl": [
           {
            "marker": {
             "colorbar": {
              "outlinewidth": 0,
              "ticks": ""
             }
            },
            "type": "scattergl"
           }
          ],
          "scattermapbox": [
           {
            "marker": {
             "colorbar": {
              "outlinewidth": 0,
              "ticks": ""
             }
            },
            "type": "scattermapbox"
           }
          ],
          "scatterpolar": [
           {
            "marker": {
             "colorbar": {
              "outlinewidth": 0,
              "ticks": ""
             }
            },
            "type": "scatterpolar"
           }
          ],
          "scatterpolargl": [
           {
            "marker": {
             "colorbar": {
              "outlinewidth": 0,
              "ticks": ""
             }
            },
            "type": "scatterpolargl"
           }
          ],
          "scatterternary": [
           {
            "marker": {
             "colorbar": {
              "outlinewidth": 0,
              "ticks": ""
             }
            },
            "type": "scatterternary"
           }
          ],
          "surface": [
           {
            "colorbar": {
             "outlinewidth": 0,
             "ticks": ""
            },
            "colorscale": [
             [
              0,
              "#0d0887"
             ],
             [
              0.1111111111111111,
              "#46039f"
             ],
             [
              0.2222222222222222,
              "#7201a8"
             ],
             [
              0.3333333333333333,
              "#9c179e"
             ],
             [
              0.4444444444444444,
              "#bd3786"
             ],
             [
              0.5555555555555556,
              "#d8576b"
             ],
             [
              0.6666666666666666,
              "#ed7953"
             ],
             [
              0.7777777777777778,
              "#fb9f3a"
             ],
             [
              0.8888888888888888,
              "#fdca26"
             ],
             [
              1,
              "#f0f921"
             ]
            ],
            "type": "surface"
           }
          ],
          "table": [
           {
            "cells": {
             "fill": {
              "color": "#EBF0F8"
             },
             "line": {
              "color": "white"
             }
            },
            "header": {
             "fill": {
              "color": "#C8D4E3"
             },
             "line": {
              "color": "white"
             }
            },
            "type": "table"
           }
          ]
         },
         "layout": {
          "annotationdefaults": {
           "arrowcolor": "#2a3f5f",
           "arrowhead": 0,
           "arrowwidth": 1
          },
          "autotypenumbers": "strict",
          "coloraxis": {
           "colorbar": {
            "outlinewidth": 0,
            "ticks": ""
           }
          },
          "colorscale": {
           "diverging": [
            [
             0,
             "#8e0152"
            ],
            [
             0.1,
             "#c51b7d"
            ],
            [
             0.2,
             "#de77ae"
            ],
            [
             0.3,
             "#f1b6da"
            ],
            [
             0.4,
             "#fde0ef"
            ],
            [
             0.5,
             "#f7f7f7"
            ],
            [
             0.6,
             "#e6f5d0"
            ],
            [
             0.7,
             "#b8e186"
            ],
            [
             0.8,
             "#7fbc41"
            ],
            [
             0.9,
             "#4d9221"
            ],
            [
             1,
             "#276419"
            ]
           ],
           "sequential": [
            [
             0,
             "#0d0887"
            ],
            [
             0.1111111111111111,
             "#46039f"
            ],
            [
             0.2222222222222222,
             "#7201a8"
            ],
            [
             0.3333333333333333,
             "#9c179e"
            ],
            [
             0.4444444444444444,
             "#bd3786"
            ],
            [
             0.5555555555555556,
             "#d8576b"
            ],
            [
             0.6666666666666666,
             "#ed7953"
            ],
            [
             0.7777777777777778,
             "#fb9f3a"
            ],
            [
             0.8888888888888888,
             "#fdca26"
            ],
            [
             1,
             "#f0f921"
            ]
           ],
           "sequentialminus": [
            [
             0,
             "#0d0887"
            ],
            [
             0.1111111111111111,
             "#46039f"
            ],
            [
             0.2222222222222222,
             "#7201a8"
            ],
            [
             0.3333333333333333,
             "#9c179e"
            ],
            [
             0.4444444444444444,
             "#bd3786"
            ],
            [
             0.5555555555555556,
             "#d8576b"
            ],
            [
             0.6666666666666666,
             "#ed7953"
            ],
            [
             0.7777777777777778,
             "#fb9f3a"
            ],
            [
             0.8888888888888888,
             "#fdca26"
            ],
            [
             1,
             "#f0f921"
            ]
           ]
          },
          "colorway": [
           "#636efa",
           "#EF553B",
           "#00cc96",
           "#ab63fa",
           "#FFA15A",
           "#19d3f3",
           "#FF6692",
           "#B6E880",
           "#FF97FF",
           "#FECB52"
          ],
          "font": {
           "color": "#2a3f5f"
          },
          "geo": {
           "bgcolor": "white",
           "lakecolor": "white",
           "landcolor": "#E5ECF6",
           "showlakes": true,
           "showland": true,
           "subunitcolor": "white"
          },
          "hoverlabel": {
           "align": "left"
          },
          "hovermode": "closest",
          "mapbox": {
           "style": "light"
          },
          "paper_bgcolor": "white",
          "plot_bgcolor": "#E5ECF6",
          "polar": {
           "angularaxis": {
            "gridcolor": "white",
            "linecolor": "white",
            "ticks": ""
           },
           "bgcolor": "#E5ECF6",
           "radialaxis": {
            "gridcolor": "white",
            "linecolor": "white",
            "ticks": ""
           }
          },
          "scene": {
           "xaxis": {
            "backgroundcolor": "#E5ECF6",
            "gridcolor": "white",
            "gridwidth": 2,
            "linecolor": "white",
            "showbackground": true,
            "ticks": "",
            "zerolinecolor": "white"
           },
           "yaxis": {
            "backgroundcolor": "#E5ECF6",
            "gridcolor": "white",
            "gridwidth": 2,
            "linecolor": "white",
            "showbackground": true,
            "ticks": "",
            "zerolinecolor": "white"
           },
           "zaxis": {
            "backgroundcolor": "#E5ECF6",
            "gridcolor": "white",
            "gridwidth": 2,
            "linecolor": "white",
            "showbackground": true,
            "ticks": "",
            "zerolinecolor": "white"
           }
          },
          "shapedefaults": {
           "line": {
            "color": "#2a3f5f"
           }
          },
          "ternary": {
           "aaxis": {
            "gridcolor": "white",
            "linecolor": "white",
            "ticks": ""
           },
           "baxis": {
            "gridcolor": "white",
            "linecolor": "white",
            "ticks": ""
           },
           "bgcolor": "#E5ECF6",
           "caxis": {
            "gridcolor": "white",
            "linecolor": "white",
            "ticks": ""
           }
          },
          "title": {
           "x": 0.05
          },
          "xaxis": {
           "automargin": true,
           "gridcolor": "white",
           "linecolor": "white",
           "ticks": "",
           "title": {
            "standoff": 15
           },
           "zerolinecolor": "white",
           "zerolinewidth": 2
          },
          "yaxis": {
           "automargin": true,
           "gridcolor": "white",
           "linecolor": "white",
           "ticks": "",
           "title": {
            "standoff": 15
           },
           "zerolinecolor": "white",
           "zerolinewidth": 2
          }
         }
        },
        "width": 400
       }
      }
     },
     "metadata": {},
     "output_type": "display_data"
    }
   ],
   "source": [
    "# Supongamos que 'MORT_FET' es tu DataFrame original\n",
    "data = MORT_FET.groupby(['ocu_part', 'eda_madr']).size().reset_index(name='ocurrencias')\n",
    "data.to_csv('C://Users//sdvc0//OneDrive//Escritorio//REPOSITORIO_ENAPEA//BACK//Mortalidad//Fetal//Gráficas//MORT_FET_10.csv', index=False)\n",
    "\n",
    "# Calcular el total de ocurrencias\n",
    "total_ocurrencias = data['ocurrencias'].sum()\n",
    "\n",
    "# Calcular el porcentaje de cada grupo\n",
    "data['porcentaje'] = (data['ocurrencias'] / total_ocurrencias) * 100\n",
    "\n",
    "# Crear el gráfico Sunburst\n",
    "fig = px.sunburst(\n",
    "    data,\n",
    "    path=['ocu_part', 'eda_madr'],\n",
    "    values='porcentaje',\n",
    "    color='porcentaje',\n",
    "    color_continuous_scale='Blues',\n",
    "    \n",
    ")\n",
    "fig.update_traces(textinfo='label+percent entry')\n",
    "fig.update_layout(coloraxis_showscale=False,\n",
    "    margin=dict(l=0, r=0, t=0, b=0), \n",
    "     width=400,  \n",
    "    height=300,  \n",
    "    autosize=True # Ajustar márgenes para que no haya espacios innecesarios\n",
    "                  )\n",
    "# Mostrar el gráfico\n",
    "fig.show()\n",
    "fig.write_html('C://Users//sdvc0//OneDrive//Escritorio//REPOSITORIO_ENAPEA//BACK//Mortalidad//Fetal//Gráficas//MORT_FET_10.html')\n",
    "\n"
   ]
  },
  {
   "cell_type": "code",
   "execution_count": 13,
   "metadata": {},
   "outputs": [
    {
     "data": {
      "application/vnd.plotly.v1+json": {
       "config": {
        "plotlyServerURL": "https://plot.ly"
       },
       "data": [
        {
         "hovertemplate": "Condición Materna=Falleció<br>Año de Ocurrencia=%{x}<br>Defunciones=%{text}<extra></extra>",
         "legendgroup": "Falleció",
         "line": {
          "color": "#f77f00",
          "dash": "solid"
         },
         "marker": {
          "symbol": "circle"
         },
         "mode": "lines+markers+text",
         "name": "Falleció",
         "orientation": "v",
         "showlegend": true,
         "text": [
          6,
          7,
          9,
          3,
          7,
          6,
          10,
          4
         ],
         "textposition": "top center",
         "type": "scatter",
         "x": [
          2015,
          2016,
          2017,
          2018,
          2019,
          2020,
          2021,
          2022
         ],
         "xaxis": "x",
         "y": [
          6,
          7,
          9,
          3,
          7,
          6,
          10,
          4
         ],
         "yaxis": "y"
        },
        {
         "hovertemplate": "Condición Materna=Vive<br>Año de Ocurrencia=%{x}<br>Defunciones=%{text}<extra></extra>",
         "legendgroup": "Vive",
         "line": {
          "color": "#006494",
          "dash": "solid"
         },
         "marker": {
          "symbol": "circle"
         },
         "mode": "lines+markers+text",
         "name": "Vive",
         "orientation": "v",
         "showlegend": true,
         "text": [
          2284,
          2189,
          2282,
          1953,
          2346,
          2140,
          2241,
          2190
         ],
         "textposition": "top center",
         "type": "scatter",
         "x": [
          2015,
          2016,
          2017,
          2018,
          2019,
          2020,
          2021,
          2022
         ],
         "xaxis": "x",
         "y": [
          2284,
          2189,
          2282,
          1953,
          2346,
          2140,
          2241,
          2190
         ],
         "yaxis": "y"
        }
       ],
       "layout": {
        "autosize": true,
        "legend": {
         "title": {
          "text": "Condición Materna"
         },
         "tracegroupgap": 0
        },
        "margin": {
         "b": 0,
         "l": 0,
         "r": 0,
         "t": 30
        },
        "showlegend": true,
        "template": {
         "data": {
          "bar": [
           {
            "error_x": {
             "color": "#2a3f5f"
            },
            "error_y": {
             "color": "#2a3f5f"
            },
            "marker": {
             "line": {
              "color": "#E5ECF6",
              "width": 0.5
             },
             "pattern": {
              "fillmode": "overlay",
              "size": 10,
              "solidity": 0.2
             }
            },
            "type": "bar"
           }
          ],
          "barpolar": [
           {
            "marker": {
             "line": {
              "color": "#E5ECF6",
              "width": 0.5
             },
             "pattern": {
              "fillmode": "overlay",
              "size": 10,
              "solidity": 0.2
             }
            },
            "type": "barpolar"
           }
          ],
          "carpet": [
           {
            "aaxis": {
             "endlinecolor": "#2a3f5f",
             "gridcolor": "white",
             "linecolor": "white",
             "minorgridcolor": "white",
             "startlinecolor": "#2a3f5f"
            },
            "baxis": {
             "endlinecolor": "#2a3f5f",
             "gridcolor": "white",
             "linecolor": "white",
             "minorgridcolor": "white",
             "startlinecolor": "#2a3f5f"
            },
            "type": "carpet"
           }
          ],
          "choropleth": [
           {
            "colorbar": {
             "outlinewidth": 0,
             "ticks": ""
            },
            "type": "choropleth"
           }
          ],
          "contour": [
           {
            "colorbar": {
             "outlinewidth": 0,
             "ticks": ""
            },
            "colorscale": [
             [
              0,
              "#0d0887"
             ],
             [
              0.1111111111111111,
              "#46039f"
             ],
             [
              0.2222222222222222,
              "#7201a8"
             ],
             [
              0.3333333333333333,
              "#9c179e"
             ],
             [
              0.4444444444444444,
              "#bd3786"
             ],
             [
              0.5555555555555556,
              "#d8576b"
             ],
             [
              0.6666666666666666,
              "#ed7953"
             ],
             [
              0.7777777777777778,
              "#fb9f3a"
             ],
             [
              0.8888888888888888,
              "#fdca26"
             ],
             [
              1,
              "#f0f921"
             ]
            ],
            "type": "contour"
           }
          ],
          "contourcarpet": [
           {
            "colorbar": {
             "outlinewidth": 0,
             "ticks": ""
            },
            "type": "contourcarpet"
           }
          ],
          "heatmap": [
           {
            "colorbar": {
             "outlinewidth": 0,
             "ticks": ""
            },
            "colorscale": [
             [
              0,
              "#0d0887"
             ],
             [
              0.1111111111111111,
              "#46039f"
             ],
             [
              0.2222222222222222,
              "#7201a8"
             ],
             [
              0.3333333333333333,
              "#9c179e"
             ],
             [
              0.4444444444444444,
              "#bd3786"
             ],
             [
              0.5555555555555556,
              "#d8576b"
             ],
             [
              0.6666666666666666,
              "#ed7953"
             ],
             [
              0.7777777777777778,
              "#fb9f3a"
             ],
             [
              0.8888888888888888,
              "#fdca26"
             ],
             [
              1,
              "#f0f921"
             ]
            ],
            "type": "heatmap"
           }
          ],
          "heatmapgl": [
           {
            "colorbar": {
             "outlinewidth": 0,
             "ticks": ""
            },
            "colorscale": [
             [
              0,
              "#0d0887"
             ],
             [
              0.1111111111111111,
              "#46039f"
             ],
             [
              0.2222222222222222,
              "#7201a8"
             ],
             [
              0.3333333333333333,
              "#9c179e"
             ],
             [
              0.4444444444444444,
              "#bd3786"
             ],
             [
              0.5555555555555556,
              "#d8576b"
             ],
             [
              0.6666666666666666,
              "#ed7953"
             ],
             [
              0.7777777777777778,
              "#fb9f3a"
             ],
             [
              0.8888888888888888,
              "#fdca26"
             ],
             [
              1,
              "#f0f921"
             ]
            ],
            "type": "heatmapgl"
           }
          ],
          "histogram": [
           {
            "marker": {
             "pattern": {
              "fillmode": "overlay",
              "size": 10,
              "solidity": 0.2
             }
            },
            "type": "histogram"
           }
          ],
          "histogram2d": [
           {
            "colorbar": {
             "outlinewidth": 0,
             "ticks": ""
            },
            "colorscale": [
             [
              0,
              "#0d0887"
             ],
             [
              0.1111111111111111,
              "#46039f"
             ],
             [
              0.2222222222222222,
              "#7201a8"
             ],
             [
              0.3333333333333333,
              "#9c179e"
             ],
             [
              0.4444444444444444,
              "#bd3786"
             ],
             [
              0.5555555555555556,
              "#d8576b"
             ],
             [
              0.6666666666666666,
              "#ed7953"
             ],
             [
              0.7777777777777778,
              "#fb9f3a"
             ],
             [
              0.8888888888888888,
              "#fdca26"
             ],
             [
              1,
              "#f0f921"
             ]
            ],
            "type": "histogram2d"
           }
          ],
          "histogram2dcontour": [
           {
            "colorbar": {
             "outlinewidth": 0,
             "ticks": ""
            },
            "colorscale": [
             [
              0,
              "#0d0887"
             ],
             [
              0.1111111111111111,
              "#46039f"
             ],
             [
              0.2222222222222222,
              "#7201a8"
             ],
             [
              0.3333333333333333,
              "#9c179e"
             ],
             [
              0.4444444444444444,
              "#bd3786"
             ],
             [
              0.5555555555555556,
              "#d8576b"
             ],
             [
              0.6666666666666666,
              "#ed7953"
             ],
             [
              0.7777777777777778,
              "#fb9f3a"
             ],
             [
              0.8888888888888888,
              "#fdca26"
             ],
             [
              1,
              "#f0f921"
             ]
            ],
            "type": "histogram2dcontour"
           }
          ],
          "mesh3d": [
           {
            "colorbar": {
             "outlinewidth": 0,
             "ticks": ""
            },
            "type": "mesh3d"
           }
          ],
          "parcoords": [
           {
            "line": {
             "colorbar": {
              "outlinewidth": 0,
              "ticks": ""
             }
            },
            "type": "parcoords"
           }
          ],
          "pie": [
           {
            "automargin": true,
            "type": "pie"
           }
          ],
          "scatter": [
           {
            "fillpattern": {
             "fillmode": "overlay",
             "size": 10,
             "solidity": 0.2
            },
            "type": "scatter"
           }
          ],
          "scatter3d": [
           {
            "line": {
             "colorbar": {
              "outlinewidth": 0,
              "ticks": ""
             }
            },
            "marker": {
             "colorbar": {
              "outlinewidth": 0,
              "ticks": ""
             }
            },
            "type": "scatter3d"
           }
          ],
          "scattercarpet": [
           {
            "marker": {
             "colorbar": {
              "outlinewidth": 0,
              "ticks": ""
             }
            },
            "type": "scattercarpet"
           }
          ],
          "scattergeo": [
           {
            "marker": {
             "colorbar": {
              "outlinewidth": 0,
              "ticks": ""
             }
            },
            "type": "scattergeo"
           }
          ],
          "scattergl": [
           {
            "marker": {
             "colorbar": {
              "outlinewidth": 0,
              "ticks": ""
             }
            },
            "type": "scattergl"
           }
          ],
          "scattermapbox": [
           {
            "marker": {
             "colorbar": {
              "outlinewidth": 0,
              "ticks": ""
             }
            },
            "type": "scattermapbox"
           }
          ],
          "scatterpolar": [
           {
            "marker": {
             "colorbar": {
              "outlinewidth": 0,
              "ticks": ""
             }
            },
            "type": "scatterpolar"
           }
          ],
          "scatterpolargl": [
           {
            "marker": {
             "colorbar": {
              "outlinewidth": 0,
              "ticks": ""
             }
            },
            "type": "scatterpolargl"
           }
          ],
          "scatterternary": [
           {
            "marker": {
             "colorbar": {
              "outlinewidth": 0,
              "ticks": ""
             }
            },
            "type": "scatterternary"
           }
          ],
          "surface": [
           {
            "colorbar": {
             "outlinewidth": 0,
             "ticks": ""
            },
            "colorscale": [
             [
              0,
              "#0d0887"
             ],
             [
              0.1111111111111111,
              "#46039f"
             ],
             [
              0.2222222222222222,
              "#7201a8"
             ],
             [
              0.3333333333333333,
              "#9c179e"
             ],
             [
              0.4444444444444444,
              "#bd3786"
             ],
             [
              0.5555555555555556,
              "#d8576b"
             ],
             [
              0.6666666666666666,
              "#ed7953"
             ],
             [
              0.7777777777777778,
              "#fb9f3a"
             ],
             [
              0.8888888888888888,
              "#fdca26"
             ],
             [
              1,
              "#f0f921"
             ]
            ],
            "type": "surface"
           }
          ],
          "table": [
           {
            "cells": {
             "fill": {
              "color": "#EBF0F8"
             },
             "line": {
              "color": "white"
             }
            },
            "header": {
             "fill": {
              "color": "#C8D4E3"
             },
             "line": {
              "color": "white"
             }
            },
            "type": "table"
           }
          ]
         },
         "layout": {
          "annotationdefaults": {
           "arrowcolor": "#2a3f5f",
           "arrowhead": 0,
           "arrowwidth": 1
          },
          "autotypenumbers": "strict",
          "coloraxis": {
           "colorbar": {
            "outlinewidth": 0,
            "ticks": ""
           }
          },
          "colorscale": {
           "diverging": [
            [
             0,
             "#8e0152"
            ],
            [
             0.1,
             "#c51b7d"
            ],
            [
             0.2,
             "#de77ae"
            ],
            [
             0.3,
             "#f1b6da"
            ],
            [
             0.4,
             "#fde0ef"
            ],
            [
             0.5,
             "#f7f7f7"
            ],
            [
             0.6,
             "#e6f5d0"
            ],
            [
             0.7,
             "#b8e186"
            ],
            [
             0.8,
             "#7fbc41"
            ],
            [
             0.9,
             "#4d9221"
            ],
            [
             1,
             "#276419"
            ]
           ],
           "sequential": [
            [
             0,
             "#0d0887"
            ],
            [
             0.1111111111111111,
             "#46039f"
            ],
            [
             0.2222222222222222,
             "#7201a8"
            ],
            [
             0.3333333333333333,
             "#9c179e"
            ],
            [
             0.4444444444444444,
             "#bd3786"
            ],
            [
             0.5555555555555556,
             "#d8576b"
            ],
            [
             0.6666666666666666,
             "#ed7953"
            ],
            [
             0.7777777777777778,
             "#fb9f3a"
            ],
            [
             0.8888888888888888,
             "#fdca26"
            ],
            [
             1,
             "#f0f921"
            ]
           ],
           "sequentialminus": [
            [
             0,
             "#0d0887"
            ],
            [
             0.1111111111111111,
             "#46039f"
            ],
            [
             0.2222222222222222,
             "#7201a8"
            ],
            [
             0.3333333333333333,
             "#9c179e"
            ],
            [
             0.4444444444444444,
             "#bd3786"
            ],
            [
             0.5555555555555556,
             "#d8576b"
            ],
            [
             0.6666666666666666,
             "#ed7953"
            ],
            [
             0.7777777777777778,
             "#fb9f3a"
            ],
            [
             0.8888888888888888,
             "#fdca26"
            ],
            [
             1,
             "#f0f921"
            ]
           ]
          },
          "colorway": [
           "#636efa",
           "#EF553B",
           "#00cc96",
           "#ab63fa",
           "#FFA15A",
           "#19d3f3",
           "#FF6692",
           "#B6E880",
           "#FF97FF",
           "#FECB52"
          ],
          "font": {
           "color": "#2a3f5f"
          },
          "geo": {
           "bgcolor": "white",
           "lakecolor": "white",
           "landcolor": "#E5ECF6",
           "showlakes": true,
           "showland": true,
           "subunitcolor": "white"
          },
          "hoverlabel": {
           "align": "left"
          },
          "hovermode": "closest",
          "mapbox": {
           "style": "light"
          },
          "paper_bgcolor": "white",
          "plot_bgcolor": "#E5ECF6",
          "polar": {
           "angularaxis": {
            "gridcolor": "white",
            "linecolor": "white",
            "ticks": ""
           },
           "bgcolor": "#E5ECF6",
           "radialaxis": {
            "gridcolor": "white",
            "linecolor": "white",
            "ticks": ""
           }
          },
          "scene": {
           "xaxis": {
            "backgroundcolor": "#E5ECF6",
            "gridcolor": "white",
            "gridwidth": 2,
            "linecolor": "white",
            "showbackground": true,
            "ticks": "",
            "zerolinecolor": "white"
           },
           "yaxis": {
            "backgroundcolor": "#E5ECF6",
            "gridcolor": "white",
            "gridwidth": 2,
            "linecolor": "white",
            "showbackground": true,
            "ticks": "",
            "zerolinecolor": "white"
           },
           "zaxis": {
            "backgroundcolor": "#E5ECF6",
            "gridcolor": "white",
            "gridwidth": 2,
            "linecolor": "white",
            "showbackground": true,
            "ticks": "",
            "zerolinecolor": "white"
           }
          },
          "shapedefaults": {
           "line": {
            "color": "#2a3f5f"
           }
          },
          "ternary": {
           "aaxis": {
            "gridcolor": "white",
            "linecolor": "white",
            "ticks": ""
           },
           "baxis": {
            "gridcolor": "white",
            "linecolor": "white",
            "ticks": ""
           },
           "bgcolor": "#E5ECF6",
           "caxis": {
            "gridcolor": "white",
            "linecolor": "white",
            "ticks": ""
           }
          },
          "title": {
           "x": 0.05
          },
          "xaxis": {
           "automargin": true,
           "gridcolor": "white",
           "linecolor": "white",
           "ticks": "",
           "title": {
            "standoff": 15
           },
           "zerolinecolor": "white",
           "zerolinewidth": 2
          },
          "yaxis": {
           "automargin": true,
           "gridcolor": "white",
           "linecolor": "white",
           "ticks": "",
           "title": {
            "standoff": 15
           },
           "zerolinecolor": "white",
           "zerolinewidth": 2
          }
         }
        },
        "xaxis": {
         "anchor": "y",
         "domain": [
          0,
          1
         ],
         "title": {
          "text": "Año de Ocurrencia"
         }
        },
        "yaxis": {
         "anchor": "x",
         "domain": [
          0,
          1
         ],
         "title": {
          "text": "Defunciones"
         }
        }
       }
      }
     },
     "metadata": {},
     "output_type": "display_data"
    }
   ],
   "source": [
    "# Filtrar y contar las ocurrencias excluyendo 'No especificado' por cada combinación de anio_ocur y cond_mad\n",
    "data = MORT_FET[MORT_FET['cond_mad'] != 'No especificado'].groupby(['anio_ocur', 'cond_mad']).size().reset_index(name='defunciones')\n",
    "data.to_csv('C://Users//sdvc0//OneDrive//Escritorio//REPOSITORIO_ENAPEA//BACK//Mortalidad//Fetal//Gráficas//MORT_FET_11.csv', index=False)\n",
    "\n",
    "\n",
    "# Crear gráfico de líneas con Plotly Express\n",
    "fig = px.line(data, \n",
    "              x='anio_ocur', \n",
    "              y='defunciones', \n",
    "              color='cond_mad', \n",
    "              labels={'anio_ocur': 'Año de Ocurrencia', 'defunciones': 'Defunciones', 'cond_mad': 'Condición Materna'},\n",
    "              color_discrete_sequence=['#f77f00', '#006494'],\n",
    "              text='defunciones',\n",
    "              )\n",
    "\n",
    "# Ajustar diseño del gráfico de líneas\n",
    "fig.update_layout(\n",
    "    margin=dict(l=0, r=0, t=30, b=0),  # Ajustar márgenes para que no haya espacios innecesarios\n",
    "    showlegend=True,  # Mostrar leyenda\n",
    "    autosize=True,\n",
    ")\n",
    "fig.update_traces(textposition='top center')\n",
    "\n",
    "\n",
    "# Guardar el gráfico en un archivo HTML\n",
    "fig.write_html('C://Users//sdvc0//OneDrive//Escritorio//REPOSITORIO_ENAPEA//BACK//Mortalidad//Fetal//Gráficas//MORT_FET_11.html')\n",
    "\n",
    "# Mostrar el gráfico de líneas (opcional)\n",
    "fig.show()\n"
   ]
  },
  {
   "cell_type": "code",
   "execution_count": 14,
   "metadata": {},
   "outputs": [
    {
     "data": {
      "application/vnd.plotly.v1+json": {
       "config": {
        "plotlyServerURL": "https://plot.ly"
       },
       "data": [
        {
         "alignmentgroup": "True",
         "hovertemplate": "Problema de Exclusión=Cesárea<br>Año de Ocurrencia=%{x}<br>Ocurrencias=%{text}<extra></extra>",
         "legendgroup": "Cesárea",
         "marker": {
          "color": "#003554",
          "pattern": {
           "shape": ""
          }
         },
         "name": "Cesárea",
         "offsetgroup": "Cesárea",
         "orientation": "v",
         "showlegend": true,
         "text": [
          293,
          284,
          303,
          280,
          295,
          311,
          290,
          264
         ],
         "textposition": "inside",
         "type": "bar",
         "x": [
          2015,
          2016,
          2017,
          2018,
          2019,
          2020,
          2021,
          2022
         ],
         "xaxis": "x",
         "y": [
          293,
          284,
          303,
          280,
          295,
          311,
          290,
          264
         ],
         "yaxis": "y"
        },
        {
         "alignmentgroup": "True",
         "hovertemplate": "Problema de Exclusión=Fórceps<br>Año de Ocurrencia=%{x}<br>Ocurrencias=%{text}<extra></extra>",
         "legendgroup": "Fórceps",
         "marker": {
          "color": "#006494",
          "pattern": {
           "shape": ""
          }
         },
         "name": "Fórceps",
         "offsetgroup": "Fórceps",
         "orientation": "v",
         "showlegend": true,
         "text": [
          6,
          5,
          4,
          2,
          6,
          1,
          10,
          2
         ],
         "textposition": "inside",
         "type": "bar",
         "x": [
          2015,
          2016,
          2017,
          2018,
          2019,
          2020,
          2021,
          2022
         ],
         "xaxis": "x",
         "y": [
          6,
          5,
          4,
          2,
          6,
          1,
          10,
          2
         ],
         "yaxis": "y"
        },
        {
         "alignmentgroup": "True",
         "hovertemplate": "Problema de Exclusión=Parto vaginal espontáneo<br>Año de Ocurrencia=%{x}<br>Ocurrencias=%{text}<extra></extra>",
         "legendgroup": "Parto vaginal espontáneo",
         "marker": {
          "color": "#0582ca",
          "pattern": {
           "shape": ""
          }
         },
         "name": "Parto vaginal espontáneo",
         "offsetgroup": "Parto vaginal espontáneo",
         "orientation": "v",
         "showlegend": true,
         "text": [
          1270,
          1227,
          1260,
          1077,
          1256,
          1196,
          1180,
          1768
         ],
         "textposition": "inside",
         "type": "bar",
         "x": [
          2015,
          2016,
          2017,
          2018,
          2019,
          2020,
          2021,
          2022
         ],
         "xaxis": "x",
         "y": [
          1270,
          1227,
          1260,
          1077,
          1256,
          1196,
          1180,
          1768
         ],
         "yaxis": "y"
        },
        {
         "alignmentgroup": "True",
         "hovertemplate": "Problema de Exclusión=Parto inducido<br>Año de Ocurrencia=%{x}<br>Ocurrencias=%{text}<extra></extra>",
         "legendgroup": "Parto inducido",
         "marker": {
          "color": "#00a6fb",
          "pattern": {
           "shape": ""
          }
         },
         "name": "Parto inducido",
         "offsetgroup": "Parto inducido",
         "orientation": "v",
         "showlegend": true,
         "text": [
          1,
          70
         ],
         "textposition": "inside",
         "type": "bar",
         "x": [
          2021,
          2022
         ],
         "xaxis": "x",
         "y": [
          1,
          70
         ],
         "yaxis": "y"
        }
       ],
       "layout": {
        "barmode": "relative",
        "legend": {
         "title": {
          "text": "Problema de Exclusión"
         },
         "tracegroupgap": 0
        },
        "margin": {
         "b": 0,
         "l": 0,
         "r": 0,
         "t": 30
        },
        "showlegend": true,
        "template": {
         "data": {
          "bar": [
           {
            "error_x": {
             "color": "#2a3f5f"
            },
            "error_y": {
             "color": "#2a3f5f"
            },
            "marker": {
             "line": {
              "color": "#E5ECF6",
              "width": 0.5
             },
             "pattern": {
              "fillmode": "overlay",
              "size": 10,
              "solidity": 0.2
             }
            },
            "type": "bar"
           }
          ],
          "barpolar": [
           {
            "marker": {
             "line": {
              "color": "#E5ECF6",
              "width": 0.5
             },
             "pattern": {
              "fillmode": "overlay",
              "size": 10,
              "solidity": 0.2
             }
            },
            "type": "barpolar"
           }
          ],
          "carpet": [
           {
            "aaxis": {
             "endlinecolor": "#2a3f5f",
             "gridcolor": "white",
             "linecolor": "white",
             "minorgridcolor": "white",
             "startlinecolor": "#2a3f5f"
            },
            "baxis": {
             "endlinecolor": "#2a3f5f",
             "gridcolor": "white",
             "linecolor": "white",
             "minorgridcolor": "white",
             "startlinecolor": "#2a3f5f"
            },
            "type": "carpet"
           }
          ],
          "choropleth": [
           {
            "colorbar": {
             "outlinewidth": 0,
             "ticks": ""
            },
            "type": "choropleth"
           }
          ],
          "contour": [
           {
            "colorbar": {
             "outlinewidth": 0,
             "ticks": ""
            },
            "colorscale": [
             [
              0,
              "#0d0887"
             ],
             [
              0.1111111111111111,
              "#46039f"
             ],
             [
              0.2222222222222222,
              "#7201a8"
             ],
             [
              0.3333333333333333,
              "#9c179e"
             ],
             [
              0.4444444444444444,
              "#bd3786"
             ],
             [
              0.5555555555555556,
              "#d8576b"
             ],
             [
              0.6666666666666666,
              "#ed7953"
             ],
             [
              0.7777777777777778,
              "#fb9f3a"
             ],
             [
              0.8888888888888888,
              "#fdca26"
             ],
             [
              1,
              "#f0f921"
             ]
            ],
            "type": "contour"
           }
          ],
          "contourcarpet": [
           {
            "colorbar": {
             "outlinewidth": 0,
             "ticks": ""
            },
            "type": "contourcarpet"
           }
          ],
          "heatmap": [
           {
            "colorbar": {
             "outlinewidth": 0,
             "ticks": ""
            },
            "colorscale": [
             [
              0,
              "#0d0887"
             ],
             [
              0.1111111111111111,
              "#46039f"
             ],
             [
              0.2222222222222222,
              "#7201a8"
             ],
             [
              0.3333333333333333,
              "#9c179e"
             ],
             [
              0.4444444444444444,
              "#bd3786"
             ],
             [
              0.5555555555555556,
              "#d8576b"
             ],
             [
              0.6666666666666666,
              "#ed7953"
             ],
             [
              0.7777777777777778,
              "#fb9f3a"
             ],
             [
              0.8888888888888888,
              "#fdca26"
             ],
             [
              1,
              "#f0f921"
             ]
            ],
            "type": "heatmap"
           }
          ],
          "heatmapgl": [
           {
            "colorbar": {
             "outlinewidth": 0,
             "ticks": ""
            },
            "colorscale": [
             [
              0,
              "#0d0887"
             ],
             [
              0.1111111111111111,
              "#46039f"
             ],
             [
              0.2222222222222222,
              "#7201a8"
             ],
             [
              0.3333333333333333,
              "#9c179e"
             ],
             [
              0.4444444444444444,
              "#bd3786"
             ],
             [
              0.5555555555555556,
              "#d8576b"
             ],
             [
              0.6666666666666666,
              "#ed7953"
             ],
             [
              0.7777777777777778,
              "#fb9f3a"
             ],
             [
              0.8888888888888888,
              "#fdca26"
             ],
             [
              1,
              "#f0f921"
             ]
            ],
            "type": "heatmapgl"
           }
          ],
          "histogram": [
           {
            "marker": {
             "pattern": {
              "fillmode": "overlay",
              "size": 10,
              "solidity": 0.2
             }
            },
            "type": "histogram"
           }
          ],
          "histogram2d": [
           {
            "colorbar": {
             "outlinewidth": 0,
             "ticks": ""
            },
            "colorscale": [
             [
              0,
              "#0d0887"
             ],
             [
              0.1111111111111111,
              "#46039f"
             ],
             [
              0.2222222222222222,
              "#7201a8"
             ],
             [
              0.3333333333333333,
              "#9c179e"
             ],
             [
              0.4444444444444444,
              "#bd3786"
             ],
             [
              0.5555555555555556,
              "#d8576b"
             ],
             [
              0.6666666666666666,
              "#ed7953"
             ],
             [
              0.7777777777777778,
              "#fb9f3a"
             ],
             [
              0.8888888888888888,
              "#fdca26"
             ],
             [
              1,
              "#f0f921"
             ]
            ],
            "type": "histogram2d"
           }
          ],
          "histogram2dcontour": [
           {
            "colorbar": {
             "outlinewidth": 0,
             "ticks": ""
            },
            "colorscale": [
             [
              0,
              "#0d0887"
             ],
             [
              0.1111111111111111,
              "#46039f"
             ],
             [
              0.2222222222222222,
              "#7201a8"
             ],
             [
              0.3333333333333333,
              "#9c179e"
             ],
             [
              0.4444444444444444,
              "#bd3786"
             ],
             [
              0.5555555555555556,
              "#d8576b"
             ],
             [
              0.6666666666666666,
              "#ed7953"
             ],
             [
              0.7777777777777778,
              "#fb9f3a"
             ],
             [
              0.8888888888888888,
              "#fdca26"
             ],
             [
              1,
              "#f0f921"
             ]
            ],
            "type": "histogram2dcontour"
           }
          ],
          "mesh3d": [
           {
            "colorbar": {
             "outlinewidth": 0,
             "ticks": ""
            },
            "type": "mesh3d"
           }
          ],
          "parcoords": [
           {
            "line": {
             "colorbar": {
              "outlinewidth": 0,
              "ticks": ""
             }
            },
            "type": "parcoords"
           }
          ],
          "pie": [
           {
            "automargin": true,
            "type": "pie"
           }
          ],
          "scatter": [
           {
            "fillpattern": {
             "fillmode": "overlay",
             "size": 10,
             "solidity": 0.2
            },
            "type": "scatter"
           }
          ],
          "scatter3d": [
           {
            "line": {
             "colorbar": {
              "outlinewidth": 0,
              "ticks": ""
             }
            },
            "marker": {
             "colorbar": {
              "outlinewidth": 0,
              "ticks": ""
             }
            },
            "type": "scatter3d"
           }
          ],
          "scattercarpet": [
           {
            "marker": {
             "colorbar": {
              "outlinewidth": 0,
              "ticks": ""
             }
            },
            "type": "scattercarpet"
           }
          ],
          "scattergeo": [
           {
            "marker": {
             "colorbar": {
              "outlinewidth": 0,
              "ticks": ""
             }
            },
            "type": "scattergeo"
           }
          ],
          "scattergl": [
           {
            "marker": {
             "colorbar": {
              "outlinewidth": 0,
              "ticks": ""
             }
            },
            "type": "scattergl"
           }
          ],
          "scattermapbox": [
           {
            "marker": {
             "colorbar": {
              "outlinewidth": 0,
              "ticks": ""
             }
            },
            "type": "scattermapbox"
           }
          ],
          "scatterpolar": [
           {
            "marker": {
             "colorbar": {
              "outlinewidth": 0,
              "ticks": ""
             }
            },
            "type": "scatterpolar"
           }
          ],
          "scatterpolargl": [
           {
            "marker": {
             "colorbar": {
              "outlinewidth": 0,
              "ticks": ""
             }
            },
            "type": "scatterpolargl"
           }
          ],
          "scatterternary": [
           {
            "marker": {
             "colorbar": {
              "outlinewidth": 0,
              "ticks": ""
             }
            },
            "type": "scatterternary"
           }
          ],
          "surface": [
           {
            "colorbar": {
             "outlinewidth": 0,
             "ticks": ""
            },
            "colorscale": [
             [
              0,
              "#0d0887"
             ],
             [
              0.1111111111111111,
              "#46039f"
             ],
             [
              0.2222222222222222,
              "#7201a8"
             ],
             [
              0.3333333333333333,
              "#9c179e"
             ],
             [
              0.4444444444444444,
              "#bd3786"
             ],
             [
              0.5555555555555556,
              "#d8576b"
             ],
             [
              0.6666666666666666,
              "#ed7953"
             ],
             [
              0.7777777777777778,
              "#fb9f3a"
             ],
             [
              0.8888888888888888,
              "#fdca26"
             ],
             [
              1,
              "#f0f921"
             ]
            ],
            "type": "surface"
           }
          ],
          "table": [
           {
            "cells": {
             "fill": {
              "color": "#EBF0F8"
             },
             "line": {
              "color": "white"
             }
            },
            "header": {
             "fill": {
              "color": "#C8D4E3"
             },
             "line": {
              "color": "white"
             }
            },
            "type": "table"
           }
          ]
         },
         "layout": {
          "annotationdefaults": {
           "arrowcolor": "#2a3f5f",
           "arrowhead": 0,
           "arrowwidth": 1
          },
          "autotypenumbers": "strict",
          "coloraxis": {
           "colorbar": {
            "outlinewidth": 0,
            "ticks": ""
           }
          },
          "colorscale": {
           "diverging": [
            [
             0,
             "#8e0152"
            ],
            [
             0.1,
             "#c51b7d"
            ],
            [
             0.2,
             "#de77ae"
            ],
            [
             0.3,
             "#f1b6da"
            ],
            [
             0.4,
             "#fde0ef"
            ],
            [
             0.5,
             "#f7f7f7"
            ],
            [
             0.6,
             "#e6f5d0"
            ],
            [
             0.7,
             "#b8e186"
            ],
            [
             0.8,
             "#7fbc41"
            ],
            [
             0.9,
             "#4d9221"
            ],
            [
             1,
             "#276419"
            ]
           ],
           "sequential": [
            [
             0,
             "#0d0887"
            ],
            [
             0.1111111111111111,
             "#46039f"
            ],
            [
             0.2222222222222222,
             "#7201a8"
            ],
            [
             0.3333333333333333,
             "#9c179e"
            ],
            [
             0.4444444444444444,
             "#bd3786"
            ],
            [
             0.5555555555555556,
             "#d8576b"
            ],
            [
             0.6666666666666666,
             "#ed7953"
            ],
            [
             0.7777777777777778,
             "#fb9f3a"
            ],
            [
             0.8888888888888888,
             "#fdca26"
            ],
            [
             1,
             "#f0f921"
            ]
           ],
           "sequentialminus": [
            [
             0,
             "#0d0887"
            ],
            [
             0.1111111111111111,
             "#46039f"
            ],
            [
             0.2222222222222222,
             "#7201a8"
            ],
            [
             0.3333333333333333,
             "#9c179e"
            ],
            [
             0.4444444444444444,
             "#bd3786"
            ],
            [
             0.5555555555555556,
             "#d8576b"
            ],
            [
             0.6666666666666666,
             "#ed7953"
            ],
            [
             0.7777777777777778,
             "#fb9f3a"
            ],
            [
             0.8888888888888888,
             "#fdca26"
            ],
            [
             1,
             "#f0f921"
            ]
           ]
          },
          "colorway": [
           "#636efa",
           "#EF553B",
           "#00cc96",
           "#ab63fa",
           "#FFA15A",
           "#19d3f3",
           "#FF6692",
           "#B6E880",
           "#FF97FF",
           "#FECB52"
          ],
          "font": {
           "color": "#2a3f5f"
          },
          "geo": {
           "bgcolor": "white",
           "lakecolor": "white",
           "landcolor": "#E5ECF6",
           "showlakes": true,
           "showland": true,
           "subunitcolor": "white"
          },
          "hoverlabel": {
           "align": "left"
          },
          "hovermode": "closest",
          "mapbox": {
           "style": "light"
          },
          "paper_bgcolor": "white",
          "plot_bgcolor": "#E5ECF6",
          "polar": {
           "angularaxis": {
            "gridcolor": "white",
            "linecolor": "white",
            "ticks": ""
           },
           "bgcolor": "#E5ECF6",
           "radialaxis": {
            "gridcolor": "white",
            "linecolor": "white",
            "ticks": ""
           }
          },
          "scene": {
           "xaxis": {
            "backgroundcolor": "#E5ECF6",
            "gridcolor": "white",
            "gridwidth": 2,
            "linecolor": "white",
            "showbackground": true,
            "ticks": "",
            "zerolinecolor": "white"
           },
           "yaxis": {
            "backgroundcolor": "#E5ECF6",
            "gridcolor": "white",
            "gridwidth": 2,
            "linecolor": "white",
            "showbackground": true,
            "ticks": "",
            "zerolinecolor": "white"
           },
           "zaxis": {
            "backgroundcolor": "#E5ECF6",
            "gridcolor": "white",
            "gridwidth": 2,
            "linecolor": "white",
            "showbackground": true,
            "ticks": "",
            "zerolinecolor": "white"
           }
          },
          "shapedefaults": {
           "line": {
            "color": "#2a3f5f"
           }
          },
          "ternary": {
           "aaxis": {
            "gridcolor": "white",
            "linecolor": "white",
            "ticks": ""
           },
           "baxis": {
            "gridcolor": "white",
            "linecolor": "white",
            "ticks": ""
           },
           "bgcolor": "#E5ECF6",
           "caxis": {
            "gridcolor": "white",
            "linecolor": "white",
            "ticks": ""
           }
          },
          "title": {
           "x": 0.05
          },
          "xaxis": {
           "automargin": true,
           "gridcolor": "white",
           "linecolor": "white",
           "ticks": "",
           "title": {
            "standoff": 15
           },
           "zerolinecolor": "white",
           "zerolinewidth": 2
          },
          "yaxis": {
           "automargin": true,
           "gridcolor": "white",
           "linecolor": "white",
           "ticks": "",
           "title": {
            "standoff": 15
           },
           "zerolinecolor": "white",
           "zerolinewidth": 2
          }
         }
        },
        "xaxis": {
         "anchor": "y",
         "domain": [
          0,
          1
         ],
         "title": {
          "text": "Año de Ocurrencia"
         }
        },
        "yaxis": {
         "anchor": "x",
         "domain": [
          0,
          1
         ],
         "title": {
          "text": "Ocurrencias"
         }
        }
       }
      }
     },
     "metadata": {},
     "output_type": "display_data"
    }
   ],
   "source": [
    "# Filtrar datos relevantes excluyendo 'No especificado'\n",
    "filtered_data = MORT_FET[(MORT_FET['pro_expu'] != 'No especificado') & (MORT_FET['pro_expu'] != 'Otro')]\n",
    "\n",
    "# Contar ocurrencias por cada combinación de anio_ocur y pro_expu\n",
    "data = filtered_data.groupby(['anio_ocur', 'pro_expu']).size().reset_index(name='ocurrencias')\n",
    "\n",
    "# Calcular porcentajes por cada año de ocurrencia\n",
    "total_ocurrencias_por_anio = data.groupby('anio_ocur')['ocurrencias'].transform('sum')\n",
    "\n",
    "# Guardar total de ocurrencias por año en un archivo CSV\n",
    "total_ocurrencias_por_anio.to_csv('C://Users//sdvc0//OneDrive//Escritorio//REPOSITORIO_ENAPEA//BACK//Mortalidad//Fetal//Gráficas//MORT_FET_12.csv', index=False)\n",
    "\n",
    "# Crear gráfico de barras apiladas con Plotly Express\n",
    "fig = px.bar(data, \n",
    "             x='anio_ocur', \n",
    "             y='ocurrencias', \n",
    "             color='pro_expu', \n",
    "             text='ocurrencias',\n",
    "             labels={'anio_ocur': 'Año de Ocurrencia', 'ocurrencias': 'Ocurrencias', 'pro_expu': 'Problema de Exclusión'},\n",
    "             color_discrete_sequence=['#003554', '#006494', '#0582ca', '#00a6fb']  # Especificar colores personalizados\n",
    "            )\n",
    "\n",
    "# Ajustar diseño del gráfico de barras apiladas\n",
    "fig.update_layout(\n",
    "    margin=dict(l=0, r=0, t=30, b=0),  # Ajustar márgenes para eliminar espacios innecesarios\n",
    "    showlegend=True  # Mostrar leyenda\n",
    ")\n",
    "\n",
    "# Mostrar valores en cada segmento de barra como ocurrencias\n",
    "fig.update_traces(\n",
    "    textposition='inside'  # Posicionar el texto dentro de los segmentos\n",
    ")\n",
    "\n",
    "# Guardar el gráfico en un archivo HTML (opcional)\n",
    "fig.write_html('C://Users//sdvc0//OneDrive//Escritorio//REPOSITORIO_ENAPEA//BACK//Mortalidad//Fetal//Gráficas//MORT_FET_12.html')\n",
    "\n",
    "# Mostrar el gráfico de barras apiladas\n",
    "fig.show()\n",
    "\n"
   ]
  },
  {
   "cell_type": "code",
   "execution_count": 15,
   "metadata": {},
   "outputs": [
    {
     "data": {
      "application/vnd.plotly.v1+json": {
       "config": {
        "plotlyServerURL": "https://plot.ly"
       },
       "data": [
        {
         "alignmentgroup": "True",
         "hovertemplate": "Condición Materna=Falleció<br>Año de Ocurrencia=%{x}<br>Ocurrencias=%{text}<extra></extra>",
         "legendgroup": "Falleció",
         "marker": {
          "color": "#f77f00",
          "pattern": {
           "shape": ""
          }
         },
         "name": "Falleció",
         "offsetgroup": "Falleció",
         "orientation": "v",
         "showlegend": true,
         "text": [
          1,
          1,
          1,
          2,
          2,
          4,
          1
         ],
         "textposition": "auto",
         "type": "bar",
         "x": [
          2015,
          2016,
          2017,
          2018,
          2019,
          2020,
          2021
         ],
         "xaxis": "x",
         "y": [
          1,
          1,
          1,
          2,
          2,
          4,
          1
         ],
         "yaxis": "y"
        },
        {
         "alignmentgroup": "True",
         "hovertemplate": "Condición Materna=Vive<br>Año de Ocurrencia=%{x}<br>Ocurrencias=%{text}<extra></extra>",
         "legendgroup": "Vive",
         "marker": {
          "color": "#006494",
          "pattern": {
           "shape": ""
          }
         },
         "name": "Vive",
         "offsetgroup": "Vive",
         "orientation": "v",
         "showlegend": true,
         "text": [
          2,
          2,
          3,
          4,
          7,
          4,
          6,
          6
         ],
         "textposition": "auto",
         "type": "bar",
         "x": [
          2015,
          2016,
          2017,
          2018,
          2019,
          2020,
          2021,
          2022
         ],
         "xaxis": "x",
         "y": [
          2,
          2,
          3,
          4,
          7,
          4,
          6,
          6
         ],
         "yaxis": "y"
        }
       ],
       "layout": {
        "barmode": "relative",
        "legend": {
         "title": {
          "text": "Condición Materna"
         },
         "tracegroupgap": 0
        },
        "margin": {
         "b": 0,
         "l": 0,
         "r": 0,
         "t": 30
        },
        "showlegend": true,
        "template": {
         "data": {
          "bar": [
           {
            "error_x": {
             "color": "#2a3f5f"
            },
            "error_y": {
             "color": "#2a3f5f"
            },
            "marker": {
             "line": {
              "color": "#E5ECF6",
              "width": 0.5
             },
             "pattern": {
              "fillmode": "overlay",
              "size": 10,
              "solidity": 0.2
             }
            },
            "type": "bar"
           }
          ],
          "barpolar": [
           {
            "marker": {
             "line": {
              "color": "#E5ECF6",
              "width": 0.5
             },
             "pattern": {
              "fillmode": "overlay",
              "size": 10,
              "solidity": 0.2
             }
            },
            "type": "barpolar"
           }
          ],
          "carpet": [
           {
            "aaxis": {
             "endlinecolor": "#2a3f5f",
             "gridcolor": "white",
             "linecolor": "white",
             "minorgridcolor": "white",
             "startlinecolor": "#2a3f5f"
            },
            "baxis": {
             "endlinecolor": "#2a3f5f",
             "gridcolor": "white",
             "linecolor": "white",
             "minorgridcolor": "white",
             "startlinecolor": "#2a3f5f"
            },
            "type": "carpet"
           }
          ],
          "choropleth": [
           {
            "colorbar": {
             "outlinewidth": 0,
             "ticks": ""
            },
            "type": "choropleth"
           }
          ],
          "contour": [
           {
            "colorbar": {
             "outlinewidth": 0,
             "ticks": ""
            },
            "colorscale": [
             [
              0,
              "#0d0887"
             ],
             [
              0.1111111111111111,
              "#46039f"
             ],
             [
              0.2222222222222222,
              "#7201a8"
             ],
             [
              0.3333333333333333,
              "#9c179e"
             ],
             [
              0.4444444444444444,
              "#bd3786"
             ],
             [
              0.5555555555555556,
              "#d8576b"
             ],
             [
              0.6666666666666666,
              "#ed7953"
             ],
             [
              0.7777777777777778,
              "#fb9f3a"
             ],
             [
              0.8888888888888888,
              "#fdca26"
             ],
             [
              1,
              "#f0f921"
             ]
            ],
            "type": "contour"
           }
          ],
          "contourcarpet": [
           {
            "colorbar": {
             "outlinewidth": 0,
             "ticks": ""
            },
            "type": "contourcarpet"
           }
          ],
          "heatmap": [
           {
            "colorbar": {
             "outlinewidth": 0,
             "ticks": ""
            },
            "colorscale": [
             [
              0,
              "#0d0887"
             ],
             [
              0.1111111111111111,
              "#46039f"
             ],
             [
              0.2222222222222222,
              "#7201a8"
             ],
             [
              0.3333333333333333,
              "#9c179e"
             ],
             [
              0.4444444444444444,
              "#bd3786"
             ],
             [
              0.5555555555555556,
              "#d8576b"
             ],
             [
              0.6666666666666666,
              "#ed7953"
             ],
             [
              0.7777777777777778,
              "#fb9f3a"
             ],
             [
              0.8888888888888888,
              "#fdca26"
             ],
             [
              1,
              "#f0f921"
             ]
            ],
            "type": "heatmap"
           }
          ],
          "heatmapgl": [
           {
            "colorbar": {
             "outlinewidth": 0,
             "ticks": ""
            },
            "colorscale": [
             [
              0,
              "#0d0887"
             ],
             [
              0.1111111111111111,
              "#46039f"
             ],
             [
              0.2222222222222222,
              "#7201a8"
             ],
             [
              0.3333333333333333,
              "#9c179e"
             ],
             [
              0.4444444444444444,
              "#bd3786"
             ],
             [
              0.5555555555555556,
              "#d8576b"
             ],
             [
              0.6666666666666666,
              "#ed7953"
             ],
             [
              0.7777777777777778,
              "#fb9f3a"
             ],
             [
              0.8888888888888888,
              "#fdca26"
             ],
             [
              1,
              "#f0f921"
             ]
            ],
            "type": "heatmapgl"
           }
          ],
          "histogram": [
           {
            "marker": {
             "pattern": {
              "fillmode": "overlay",
              "size": 10,
              "solidity": 0.2
             }
            },
            "type": "histogram"
           }
          ],
          "histogram2d": [
           {
            "colorbar": {
             "outlinewidth": 0,
             "ticks": ""
            },
            "colorscale": [
             [
              0,
              "#0d0887"
             ],
             [
              0.1111111111111111,
              "#46039f"
             ],
             [
              0.2222222222222222,
              "#7201a8"
             ],
             [
              0.3333333333333333,
              "#9c179e"
             ],
             [
              0.4444444444444444,
              "#bd3786"
             ],
             [
              0.5555555555555556,
              "#d8576b"
             ],
             [
              0.6666666666666666,
              "#ed7953"
             ],
             [
              0.7777777777777778,
              "#fb9f3a"
             ],
             [
              0.8888888888888888,
              "#fdca26"
             ],
             [
              1,
              "#f0f921"
             ]
            ],
            "type": "histogram2d"
           }
          ],
          "histogram2dcontour": [
           {
            "colorbar": {
             "outlinewidth": 0,
             "ticks": ""
            },
            "colorscale": [
             [
              0,
              "#0d0887"
             ],
             [
              0.1111111111111111,
              "#46039f"
             ],
             [
              0.2222222222222222,
              "#7201a8"
             ],
             [
              0.3333333333333333,
              "#9c179e"
             ],
             [
              0.4444444444444444,
              "#bd3786"
             ],
             [
              0.5555555555555556,
              "#d8576b"
             ],
             [
              0.6666666666666666,
              "#ed7953"
             ],
             [
              0.7777777777777778,
              "#fb9f3a"
             ],
             [
              0.8888888888888888,
              "#fdca26"
             ],
             [
              1,
              "#f0f921"
             ]
            ],
            "type": "histogram2dcontour"
           }
          ],
          "mesh3d": [
           {
            "colorbar": {
             "outlinewidth": 0,
             "ticks": ""
            },
            "type": "mesh3d"
           }
          ],
          "parcoords": [
           {
            "line": {
             "colorbar": {
              "outlinewidth": 0,
              "ticks": ""
             }
            },
            "type": "parcoords"
           }
          ],
          "pie": [
           {
            "automargin": true,
            "type": "pie"
           }
          ],
          "scatter": [
           {
            "fillpattern": {
             "fillmode": "overlay",
             "size": 10,
             "solidity": 0.2
            },
            "type": "scatter"
           }
          ],
          "scatter3d": [
           {
            "line": {
             "colorbar": {
              "outlinewidth": 0,
              "ticks": ""
             }
            },
            "marker": {
             "colorbar": {
              "outlinewidth": 0,
              "ticks": ""
             }
            },
            "type": "scatter3d"
           }
          ],
          "scattercarpet": [
           {
            "marker": {
             "colorbar": {
              "outlinewidth": 0,
              "ticks": ""
             }
            },
            "type": "scattercarpet"
           }
          ],
          "scattergeo": [
           {
            "marker": {
             "colorbar": {
              "outlinewidth": 0,
              "ticks": ""
             }
            },
            "type": "scattergeo"
           }
          ],
          "scattergl": [
           {
            "marker": {
             "colorbar": {
              "outlinewidth": 0,
              "ticks": ""
             }
            },
            "type": "scattergl"
           }
          ],
          "scattermapbox": [
           {
            "marker": {
             "colorbar": {
              "outlinewidth": 0,
              "ticks": ""
             }
            },
            "type": "scattermapbox"
           }
          ],
          "scatterpolar": [
           {
            "marker": {
             "colorbar": {
              "outlinewidth": 0,
              "ticks": ""
             }
            },
            "type": "scatterpolar"
           }
          ],
          "scatterpolargl": [
           {
            "marker": {
             "colorbar": {
              "outlinewidth": 0,
              "ticks": ""
             }
            },
            "type": "scatterpolargl"
           }
          ],
          "scatterternary": [
           {
            "marker": {
             "colorbar": {
              "outlinewidth": 0,
              "ticks": ""
             }
            },
            "type": "scatterternary"
           }
          ],
          "surface": [
           {
            "colorbar": {
             "outlinewidth": 0,
             "ticks": ""
            },
            "colorscale": [
             [
              0,
              "#0d0887"
             ],
             [
              0.1111111111111111,
              "#46039f"
             ],
             [
              0.2222222222222222,
              "#7201a8"
             ],
             [
              0.3333333333333333,
              "#9c179e"
             ],
             [
              0.4444444444444444,
              "#bd3786"
             ],
             [
              0.5555555555555556,
              "#d8576b"
             ],
             [
              0.6666666666666666,
              "#ed7953"
             ],
             [
              0.7777777777777778,
              "#fb9f3a"
             ],
             [
              0.8888888888888888,
              "#fdca26"
             ],
             [
              1,
              "#f0f921"
             ]
            ],
            "type": "surface"
           }
          ],
          "table": [
           {
            "cells": {
             "fill": {
              "color": "#EBF0F8"
             },
             "line": {
              "color": "white"
             }
            },
            "header": {
             "fill": {
              "color": "#C8D4E3"
             },
             "line": {
              "color": "white"
             }
            },
            "type": "table"
           }
          ]
         },
         "layout": {
          "annotationdefaults": {
           "arrowcolor": "#2a3f5f",
           "arrowhead": 0,
           "arrowwidth": 1
          },
          "autotypenumbers": "strict",
          "coloraxis": {
           "colorbar": {
            "outlinewidth": 0,
            "ticks": ""
           }
          },
          "colorscale": {
           "diverging": [
            [
             0,
             "#8e0152"
            ],
            [
             0.1,
             "#c51b7d"
            ],
            [
             0.2,
             "#de77ae"
            ],
            [
             0.3,
             "#f1b6da"
            ],
            [
             0.4,
             "#fde0ef"
            ],
            [
             0.5,
             "#f7f7f7"
            ],
            [
             0.6,
             "#e6f5d0"
            ],
            [
             0.7,
             "#b8e186"
            ],
            [
             0.8,
             "#7fbc41"
            ],
            [
             0.9,
             "#4d9221"
            ],
            [
             1,
             "#276419"
            ]
           ],
           "sequential": [
            [
             0,
             "#0d0887"
            ],
            [
             0.1111111111111111,
             "#46039f"
            ],
            [
             0.2222222222222222,
             "#7201a8"
            ],
            [
             0.3333333333333333,
             "#9c179e"
            ],
            [
             0.4444444444444444,
             "#bd3786"
            ],
            [
             0.5555555555555556,
             "#d8576b"
            ],
            [
             0.6666666666666666,
             "#ed7953"
            ],
            [
             0.7777777777777778,
             "#fb9f3a"
            ],
            [
             0.8888888888888888,
             "#fdca26"
            ],
            [
             1,
             "#f0f921"
            ]
           ],
           "sequentialminus": [
            [
             0,
             "#0d0887"
            ],
            [
             0.1111111111111111,
             "#46039f"
            ],
            [
             0.2222222222222222,
             "#7201a8"
            ],
            [
             0.3333333333333333,
             "#9c179e"
            ],
            [
             0.4444444444444444,
             "#bd3786"
            ],
            [
             0.5555555555555556,
             "#d8576b"
            ],
            [
             0.6666666666666666,
             "#ed7953"
            ],
            [
             0.7777777777777778,
             "#fb9f3a"
            ],
            [
             0.8888888888888888,
             "#fdca26"
            ],
            [
             1,
             "#f0f921"
            ]
           ]
          },
          "colorway": [
           "#636efa",
           "#EF553B",
           "#00cc96",
           "#ab63fa",
           "#FFA15A",
           "#19d3f3",
           "#FF6692",
           "#B6E880",
           "#FF97FF",
           "#FECB52"
          ],
          "font": {
           "color": "#2a3f5f"
          },
          "geo": {
           "bgcolor": "white",
           "lakecolor": "white",
           "landcolor": "#E5ECF6",
           "showlakes": true,
           "showland": true,
           "subunitcolor": "white"
          },
          "hoverlabel": {
           "align": "left"
          },
          "hovermode": "closest",
          "mapbox": {
           "style": "light"
          },
          "paper_bgcolor": "white",
          "plot_bgcolor": "#E5ECF6",
          "polar": {
           "angularaxis": {
            "gridcolor": "white",
            "linecolor": "white",
            "ticks": ""
           },
           "bgcolor": "#E5ECF6",
           "radialaxis": {
            "gridcolor": "white",
            "linecolor": "white",
            "ticks": ""
           }
          },
          "scene": {
           "xaxis": {
            "backgroundcolor": "#E5ECF6",
            "gridcolor": "white",
            "gridwidth": 2,
            "linecolor": "white",
            "showbackground": true,
            "ticks": "",
            "zerolinecolor": "white"
           },
           "yaxis": {
            "backgroundcolor": "#E5ECF6",
            "gridcolor": "white",
            "gridwidth": 2,
            "linecolor": "white",
            "showbackground": true,
            "ticks": "",
            "zerolinecolor": "white"
           },
           "zaxis": {
            "backgroundcolor": "#E5ECF6",
            "gridcolor": "white",
            "gridwidth": 2,
            "linecolor": "white",
            "showbackground": true,
            "ticks": "",
            "zerolinecolor": "white"
           }
          },
          "shapedefaults": {
           "line": {
            "color": "#2a3f5f"
           }
          },
          "ternary": {
           "aaxis": {
            "gridcolor": "white",
            "linecolor": "white",
            "ticks": ""
           },
           "baxis": {
            "gridcolor": "white",
            "linecolor": "white",
            "ticks": ""
           },
           "bgcolor": "#E5ECF6",
           "caxis": {
            "gridcolor": "white",
            "linecolor": "white",
            "ticks": ""
           }
          },
          "title": {
           "x": 0.05
          },
          "xaxis": {
           "automargin": true,
           "gridcolor": "white",
           "linecolor": "white",
           "ticks": "",
           "title": {
            "standoff": 15
           },
           "zerolinecolor": "white",
           "zerolinewidth": 2
          },
          "yaxis": {
           "automargin": true,
           "gridcolor": "white",
           "linecolor": "white",
           "ticks": "",
           "title": {
            "standoff": 15
           },
           "zerolinecolor": "white",
           "zerolinewidth": 2
          }
         }
        },
        "xaxis": {
         "anchor": "y",
         "domain": [
          0,
          1
         ],
         "title": {
          "text": "Año de Ocurrencia"
         }
        },
        "yaxis": {
         "anchor": "x",
         "domain": [
          0,
          1
         ],
         "title": {
          "text": "Ocurrencias"
         }
        }
       }
      }
     },
     "metadata": {},
     "output_type": "display_data"
    }
   ],
   "source": [
    "# Filtrar los datos donde violencia es igual a 'Si' y cond_mad no es 'No especificado'\n",
    "data_filtered = MORT_FET[(MORT_FET['violencia'] == 'Sí') & (MORT_FET['cond_mad'] != 'No especificado')]\n",
    "\n",
    "# Contar las ocurrencias por cada combinación de anio_ocur y cond_mad\n",
    "data = data_filtered.groupby(['anio_ocur', 'cond_mad']).size().reset_index(name='ocurrencias')\n",
    "\n",
    "data.to_csv('C://Users//sdvc0//OneDrive//Escritorio//REPOSITORIO_ENAPEA//BACK//Mortalidad//Fetal//Gráficas//MORT_FET_13.csv', index=False)\n",
    "\n",
    "# Crear gráfico de barras agrupadas por anio_ocur y cond_mad con Plotly Express\n",
    "fig = px.bar(data, \n",
    "             x='anio_ocur', \n",
    "             y='ocurrencias', \n",
    "             text='ocurrencias',\n",
    "             color='cond_mad', \n",
    "             labels={'anio_ocur': 'Año de Ocurrencia', 'ocurrencias': 'Ocurrencias', 'cond_mad': 'Condición Materna'},\n",
    "             color_discrete_sequence=['#f77f00', '#006494'])  # Utilizar una paleta de colores discreta\n",
    "\n",
    "# Ajustar diseño del gráfico de barras\n",
    "fig.update_layout(\n",
    "    margin=dict(l=0, r=0, t=30, b=0),  # Ajustar márgenes para que no haya espacios innecesarios\n",
    "    showlegend=True,  # Mostrar leyenda\n",
    ")\n",
    "\n",
    "# Guardar el gráfico en un archivo HTML\n",
    "fig.write_html('C://Users//sdvc0//OneDrive//Escritorio//REPOSITORIO_ENAPEA//BACK//Mortalidad//Fetal//Gráficas//MORT_FET_13.html')\n",
    "\n",
    "# Mostrar el gráfico de barras (opcional)\n",
    "fig.show()\n"
   ]
  }
 ],
 "metadata": {
  "kernelspec": {
   "display_name": "Python 3",
   "language": "python",
   "name": "python3"
  },
  "language_info": {
   "codemirror_mode": {
    "name": "ipython",
    "version": 3
   },
   "file_extension": ".py",
   "mimetype": "text/x-python",
   "name": "python",
   "nbconvert_exporter": "python",
   "pygments_lexer": "ipython3",
   "version": "3.12.4"
  }
 },
 "nbformat": 4,
 "nbformat_minor": 2
}
